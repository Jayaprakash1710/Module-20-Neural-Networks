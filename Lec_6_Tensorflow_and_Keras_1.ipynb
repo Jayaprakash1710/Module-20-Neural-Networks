{
  "nbformat": 4,
  "nbformat_minor": 0,
  "metadata": {
    "colab": {
      "provenance": [],
      "authorship_tag": "ABX9TyMLdOd6WUcVbP3QFNN9lMJ7",
      "include_colab_link": true
    },
    "kernelspec": {
      "name": "python3",
      "display_name": "Python 3"
    },
    "language_info": {
      "name": "python"
    }
  },
  "cells": [
    {
      "cell_type": "markdown",
      "metadata": {
        "id": "view-in-github",
        "colab_type": "text"
      },
      "source": [
        "<a href=\"https://colab.research.google.com/github/Jayaprakash1710/Module-20-Neural-Networks/blob/main/Lec_6_Tensorflow_and_Keras_1.ipynb\" target=\"_parent\"><img src=\"https://colab.research.google.com/assets/colab-badge.svg\" alt=\"Open In Colab\"/></a>"
      ]
    },
    {
      "cell_type": "code",
      "execution_count": 12,
      "metadata": {
        "id": "SmUExEe4QRYL"
      },
      "outputs": [],
      "source": [
        "import numpy as np\n",
        "import pandas as pd\n",
        "import matplotlib.pyplot as plt\n",
        "import seaborn as sns\n",
        "import sklearn"
      ]
    },
    {
      "cell_type": "markdown",
      "source": [
        "Dataset link:\n",
        "\n",
        "https://drive.google.com/uc?export=download&id=1GVhrh2rH6hUunV4Tf7lQoSFsqov9aPjU"
      ],
      "metadata": {
        "id": "rv9ajZzXRAVb"
      }
    },
    {
      "cell_type": "code",
      "source": [
        "!gdown 1GVhrh2rH6hUunV4Tf7lQoSFsqov9aPjU"
      ],
      "metadata": {
        "colab": {
          "base_uri": "https://localhost:8080/"
        },
        "id": "ocBHf6NtQ3cF",
        "outputId": "33c5009a-e3ed-4f5c-9cbf-e2bc5189e928"
      },
      "execution_count": 13,
      "outputs": [
        {
          "output_type": "stream",
          "name": "stdout",
          "text": [
            "Downloading...\n",
            "From: https://drive.google.com/uc?id=1GVhrh2rH6hUunV4Tf7lQoSFsqov9aPjU\n",
            "To: /content/healthyfime_tfkeras.csv\n",
            "\r  0% 0.00/762k [00:00<?, ?B/s]\r100% 762k/762k [00:00<00:00, 115MB/s]\n"
          ]
        }
      ]
    },
    {
      "cell_type": "code",
      "source": [
        "df=pd.read_csv('healthyfime_tfkeras.csv')\n",
        "df.head()"
      ],
      "metadata": {
        "colab": {
          "base_uri": "https://localhost:8080/",
          "height": 206
        },
        "id": "rbsmwC8hRT6z",
        "outputId": "e5cd7951-1dd1-4d08-de02-684f9b4d0fdc"
      },
      "execution_count": 14,
      "outputs": [
        {
          "output_type": "execute_result",
          "data": {
            "text/plain": [
              "    age gender  height_cm  weight_kg  body fat_%  diastolic  systolic  \\\n",
              "0  27.0      M      172.3      75.24        21.3       80.0     130.0   \n",
              "1  25.0      M      165.0      55.80        15.7       77.0     126.0   \n",
              "2  31.0      M      179.6      78.00        20.1       92.0     152.0   \n",
              "3  32.0      M      174.5      71.10        18.4       76.0     147.0   \n",
              "4  28.0      M      173.8      67.70        17.1       70.0     127.0   \n",
              "\n",
              "   gripForce  sit and bend forward_cm  sit-ups counts  broad jump_cm class  \n",
              "0       54.9                     18.4            60.0          217.0     C  \n",
              "1       36.4                     16.3            53.0          229.0     A  \n",
              "2       44.8                     12.0            49.0          181.0     C  \n",
              "3       41.4                     15.2            53.0          219.0     B  \n",
              "4       43.5                     27.1            45.0          217.0     B  "
            ],
            "text/html": [
              "\n",
              "  <div id=\"df-1ad8ae74-5314-4781-b050-a8d468aa5bc9\" class=\"colab-df-container\">\n",
              "    <div>\n",
              "<style scoped>\n",
              "    .dataframe tbody tr th:only-of-type {\n",
              "        vertical-align: middle;\n",
              "    }\n",
              "\n",
              "    .dataframe tbody tr th {\n",
              "        vertical-align: top;\n",
              "    }\n",
              "\n",
              "    .dataframe thead th {\n",
              "        text-align: right;\n",
              "    }\n",
              "</style>\n",
              "<table border=\"1\" class=\"dataframe\">\n",
              "  <thead>\n",
              "    <tr style=\"text-align: right;\">\n",
              "      <th></th>\n",
              "      <th>age</th>\n",
              "      <th>gender</th>\n",
              "      <th>height_cm</th>\n",
              "      <th>weight_kg</th>\n",
              "      <th>body fat_%</th>\n",
              "      <th>diastolic</th>\n",
              "      <th>systolic</th>\n",
              "      <th>gripForce</th>\n",
              "      <th>sit and bend forward_cm</th>\n",
              "      <th>sit-ups counts</th>\n",
              "      <th>broad jump_cm</th>\n",
              "      <th>class</th>\n",
              "    </tr>\n",
              "  </thead>\n",
              "  <tbody>\n",
              "    <tr>\n",
              "      <th>0</th>\n",
              "      <td>27.0</td>\n",
              "      <td>M</td>\n",
              "      <td>172.3</td>\n",
              "      <td>75.24</td>\n",
              "      <td>21.3</td>\n",
              "      <td>80.0</td>\n",
              "      <td>130.0</td>\n",
              "      <td>54.9</td>\n",
              "      <td>18.4</td>\n",
              "      <td>60.0</td>\n",
              "      <td>217.0</td>\n",
              "      <td>C</td>\n",
              "    </tr>\n",
              "    <tr>\n",
              "      <th>1</th>\n",
              "      <td>25.0</td>\n",
              "      <td>M</td>\n",
              "      <td>165.0</td>\n",
              "      <td>55.80</td>\n",
              "      <td>15.7</td>\n",
              "      <td>77.0</td>\n",
              "      <td>126.0</td>\n",
              "      <td>36.4</td>\n",
              "      <td>16.3</td>\n",
              "      <td>53.0</td>\n",
              "      <td>229.0</td>\n",
              "      <td>A</td>\n",
              "    </tr>\n",
              "    <tr>\n",
              "      <th>2</th>\n",
              "      <td>31.0</td>\n",
              "      <td>M</td>\n",
              "      <td>179.6</td>\n",
              "      <td>78.00</td>\n",
              "      <td>20.1</td>\n",
              "      <td>92.0</td>\n",
              "      <td>152.0</td>\n",
              "      <td>44.8</td>\n",
              "      <td>12.0</td>\n",
              "      <td>49.0</td>\n",
              "      <td>181.0</td>\n",
              "      <td>C</td>\n",
              "    </tr>\n",
              "    <tr>\n",
              "      <th>3</th>\n",
              "      <td>32.0</td>\n",
              "      <td>M</td>\n",
              "      <td>174.5</td>\n",
              "      <td>71.10</td>\n",
              "      <td>18.4</td>\n",
              "      <td>76.0</td>\n",
              "      <td>147.0</td>\n",
              "      <td>41.4</td>\n",
              "      <td>15.2</td>\n",
              "      <td>53.0</td>\n",
              "      <td>219.0</td>\n",
              "      <td>B</td>\n",
              "    </tr>\n",
              "    <tr>\n",
              "      <th>4</th>\n",
              "      <td>28.0</td>\n",
              "      <td>M</td>\n",
              "      <td>173.8</td>\n",
              "      <td>67.70</td>\n",
              "      <td>17.1</td>\n",
              "      <td>70.0</td>\n",
              "      <td>127.0</td>\n",
              "      <td>43.5</td>\n",
              "      <td>27.1</td>\n",
              "      <td>45.0</td>\n",
              "      <td>217.0</td>\n",
              "      <td>B</td>\n",
              "    </tr>\n",
              "  </tbody>\n",
              "</table>\n",
              "</div>\n",
              "    <div class=\"colab-df-buttons\">\n",
              "\n",
              "  <div class=\"colab-df-container\">\n",
              "    <button class=\"colab-df-convert\" onclick=\"convertToInteractive('df-1ad8ae74-5314-4781-b050-a8d468aa5bc9')\"\n",
              "            title=\"Convert this dataframe to an interactive table.\"\n",
              "            style=\"display:none;\">\n",
              "\n",
              "  <svg xmlns=\"http://www.w3.org/2000/svg\" height=\"24px\" viewBox=\"0 -960 960 960\">\n",
              "    <path d=\"M120-120v-720h720v720H120Zm60-500h600v-160H180v160Zm220 220h160v-160H400v160Zm0 220h160v-160H400v160ZM180-400h160v-160H180v160Zm440 0h160v-160H620v160ZM180-180h160v-160H180v160Zm440 0h160v-160H620v160Z\"/>\n",
              "  </svg>\n",
              "    </button>\n",
              "\n",
              "  <style>\n",
              "    .colab-df-container {\n",
              "      display:flex;\n",
              "      gap: 12px;\n",
              "    }\n",
              "\n",
              "    .colab-df-convert {\n",
              "      background-color: #E8F0FE;\n",
              "      border: none;\n",
              "      border-radius: 50%;\n",
              "      cursor: pointer;\n",
              "      display: none;\n",
              "      fill: #1967D2;\n",
              "      height: 32px;\n",
              "      padding: 0 0 0 0;\n",
              "      width: 32px;\n",
              "    }\n",
              "\n",
              "    .colab-df-convert:hover {\n",
              "      background-color: #E2EBFA;\n",
              "      box-shadow: 0px 1px 2px rgba(60, 64, 67, 0.3), 0px 1px 3px 1px rgba(60, 64, 67, 0.15);\n",
              "      fill: #174EA6;\n",
              "    }\n",
              "\n",
              "    .colab-df-buttons div {\n",
              "      margin-bottom: 4px;\n",
              "    }\n",
              "\n",
              "    [theme=dark] .colab-df-convert {\n",
              "      background-color: #3B4455;\n",
              "      fill: #D2E3FC;\n",
              "    }\n",
              "\n",
              "    [theme=dark] .colab-df-convert:hover {\n",
              "      background-color: #434B5C;\n",
              "      box-shadow: 0px 1px 3px 1px rgba(0, 0, 0, 0.15);\n",
              "      filter: drop-shadow(0px 1px 2px rgba(0, 0, 0, 0.3));\n",
              "      fill: #FFFFFF;\n",
              "    }\n",
              "  </style>\n",
              "\n",
              "    <script>\n",
              "      const buttonEl =\n",
              "        document.querySelector('#df-1ad8ae74-5314-4781-b050-a8d468aa5bc9 button.colab-df-convert');\n",
              "      buttonEl.style.display =\n",
              "        google.colab.kernel.accessAllowed ? 'block' : 'none';\n",
              "\n",
              "      async function convertToInteractive(key) {\n",
              "        const element = document.querySelector('#df-1ad8ae74-5314-4781-b050-a8d468aa5bc9');\n",
              "        const dataTable =\n",
              "          await google.colab.kernel.invokeFunction('convertToInteractive',\n",
              "                                                    [key], {});\n",
              "        if (!dataTable) return;\n",
              "\n",
              "        const docLinkHtml = 'Like what you see? Visit the ' +\n",
              "          '<a target=\"_blank\" href=https://colab.research.google.com/notebooks/data_table.ipynb>data table notebook</a>'\n",
              "          + ' to learn more about interactive tables.';\n",
              "        element.innerHTML = '';\n",
              "        dataTable['output_type'] = 'display_data';\n",
              "        await google.colab.output.renderOutput(dataTable, element);\n",
              "        const docLink = document.createElement('div');\n",
              "        docLink.innerHTML = docLinkHtml;\n",
              "        element.appendChild(docLink);\n",
              "      }\n",
              "    </script>\n",
              "  </div>\n",
              "\n",
              "\n",
              "<div id=\"df-9a1489d6-27ee-493b-8d77-783855cfbddb\">\n",
              "  <button class=\"colab-df-quickchart\" onclick=\"quickchart('df-9a1489d6-27ee-493b-8d77-783855cfbddb')\"\n",
              "            title=\"Suggest charts\"\n",
              "            style=\"display:none;\">\n",
              "\n",
              "<svg xmlns=\"http://www.w3.org/2000/svg\" height=\"24px\"viewBox=\"0 0 24 24\"\n",
              "     width=\"24px\">\n",
              "    <g>\n",
              "        <path d=\"M19 3H5c-1.1 0-2 .9-2 2v14c0 1.1.9 2 2 2h14c1.1 0 2-.9 2-2V5c0-1.1-.9-2-2-2zM9 17H7v-7h2v7zm4 0h-2V7h2v10zm4 0h-2v-4h2v4z\"/>\n",
              "    </g>\n",
              "</svg>\n",
              "  </button>\n",
              "\n",
              "<style>\n",
              "  .colab-df-quickchart {\n",
              "      --bg-color: #E8F0FE;\n",
              "      --fill-color: #1967D2;\n",
              "      --hover-bg-color: #E2EBFA;\n",
              "      --hover-fill-color: #174EA6;\n",
              "      --disabled-fill-color: #AAA;\n",
              "      --disabled-bg-color: #DDD;\n",
              "  }\n",
              "\n",
              "  [theme=dark] .colab-df-quickchart {\n",
              "      --bg-color: #3B4455;\n",
              "      --fill-color: #D2E3FC;\n",
              "      --hover-bg-color: #434B5C;\n",
              "      --hover-fill-color: #FFFFFF;\n",
              "      --disabled-bg-color: #3B4455;\n",
              "      --disabled-fill-color: #666;\n",
              "  }\n",
              "\n",
              "  .colab-df-quickchart {\n",
              "    background-color: var(--bg-color);\n",
              "    border: none;\n",
              "    border-radius: 50%;\n",
              "    cursor: pointer;\n",
              "    display: none;\n",
              "    fill: var(--fill-color);\n",
              "    height: 32px;\n",
              "    padding: 0;\n",
              "    width: 32px;\n",
              "  }\n",
              "\n",
              "  .colab-df-quickchart:hover {\n",
              "    background-color: var(--hover-bg-color);\n",
              "    box-shadow: 0 1px 2px rgba(60, 64, 67, 0.3), 0 1px 3px 1px rgba(60, 64, 67, 0.15);\n",
              "    fill: var(--button-hover-fill-color);\n",
              "  }\n",
              "\n",
              "  .colab-df-quickchart-complete:disabled,\n",
              "  .colab-df-quickchart-complete:disabled:hover {\n",
              "    background-color: var(--disabled-bg-color);\n",
              "    fill: var(--disabled-fill-color);\n",
              "    box-shadow: none;\n",
              "  }\n",
              "\n",
              "  .colab-df-spinner {\n",
              "    border: 2px solid var(--fill-color);\n",
              "    border-color: transparent;\n",
              "    border-bottom-color: var(--fill-color);\n",
              "    animation:\n",
              "      spin 1s steps(1) infinite;\n",
              "  }\n",
              "\n",
              "  @keyframes spin {\n",
              "    0% {\n",
              "      border-color: transparent;\n",
              "      border-bottom-color: var(--fill-color);\n",
              "      border-left-color: var(--fill-color);\n",
              "    }\n",
              "    20% {\n",
              "      border-color: transparent;\n",
              "      border-left-color: var(--fill-color);\n",
              "      border-top-color: var(--fill-color);\n",
              "    }\n",
              "    30% {\n",
              "      border-color: transparent;\n",
              "      border-left-color: var(--fill-color);\n",
              "      border-top-color: var(--fill-color);\n",
              "      border-right-color: var(--fill-color);\n",
              "    }\n",
              "    40% {\n",
              "      border-color: transparent;\n",
              "      border-right-color: var(--fill-color);\n",
              "      border-top-color: var(--fill-color);\n",
              "    }\n",
              "    60% {\n",
              "      border-color: transparent;\n",
              "      border-right-color: var(--fill-color);\n",
              "    }\n",
              "    80% {\n",
              "      border-color: transparent;\n",
              "      border-right-color: var(--fill-color);\n",
              "      border-bottom-color: var(--fill-color);\n",
              "    }\n",
              "    90% {\n",
              "      border-color: transparent;\n",
              "      border-bottom-color: var(--fill-color);\n",
              "    }\n",
              "  }\n",
              "</style>\n",
              "\n",
              "  <script>\n",
              "    async function quickchart(key) {\n",
              "      const quickchartButtonEl =\n",
              "        document.querySelector('#' + key + ' button');\n",
              "      quickchartButtonEl.disabled = true;  // To prevent multiple clicks.\n",
              "      quickchartButtonEl.classList.add('colab-df-spinner');\n",
              "      try {\n",
              "        const charts = await google.colab.kernel.invokeFunction(\n",
              "            'suggestCharts', [key], {});\n",
              "      } catch (error) {\n",
              "        console.error('Error during call to suggestCharts:', error);\n",
              "      }\n",
              "      quickchartButtonEl.classList.remove('colab-df-spinner');\n",
              "      quickchartButtonEl.classList.add('colab-df-quickchart-complete');\n",
              "    }\n",
              "    (() => {\n",
              "      let quickchartButtonEl =\n",
              "        document.querySelector('#df-9a1489d6-27ee-493b-8d77-783855cfbddb button');\n",
              "      quickchartButtonEl.style.display =\n",
              "        google.colab.kernel.accessAllowed ? 'block' : 'none';\n",
              "    })();\n",
              "  </script>\n",
              "</div>\n",
              "\n",
              "    </div>\n",
              "  </div>\n"
            ],
            "application/vnd.google.colaboratory.intrinsic+json": {
              "type": "dataframe",
              "variable_name": "df",
              "summary": "{\n  \"name\": \"df\",\n  \"rows\": 13393,\n  \"fields\": [\n    {\n      \"column\": \"age\",\n      \"properties\": {\n        \"dtype\": \"number\",\n        \"std\": 13.625639475291196,\n        \"min\": 21.0,\n        \"max\": 64.0,\n        \"num_unique_values\": 44,\n        \"samples\": [\n          41.0,\n          49.0,\n          40.0\n        ],\n        \"semantic_type\": \"\",\n        \"description\": \"\"\n      }\n    },\n    {\n      \"column\": \"gender\",\n      \"properties\": {\n        \"dtype\": \"category\",\n        \"num_unique_values\": 2,\n        \"samples\": [\n          \"F\",\n          \"M\"\n        ],\n        \"semantic_type\": \"\",\n        \"description\": \"\"\n      }\n    },\n    {\n      \"column\": \"height_cm\",\n      \"properties\": {\n        \"dtype\": \"number\",\n        \"std\": 8.426582550560244,\n        \"min\": 125.0,\n        \"max\": 193.8,\n        \"num_unique_values\": 467,\n        \"samples\": [\n          164.0,\n          171.5\n        ],\n        \"semantic_type\": \"\",\n        \"description\": \"\"\n      }\n    },\n    {\n      \"column\": \"weight_kg\",\n      \"properties\": {\n        \"dtype\": \"number\",\n        \"std\": 11.949666342707433,\n        \"min\": 26.3,\n        \"max\": 138.1,\n        \"num_unique_values\": 1398,\n        \"samples\": [\n          56.3,\n          64.3\n        ],\n        \"semantic_type\": \"\",\n        \"description\": \"\"\n      }\n    },\n    {\n      \"column\": \"body fat_%\",\n      \"properties\": {\n        \"dtype\": \"number\",\n        \"std\": 7.25684407992992,\n        \"min\": 3.0,\n        \"max\": 78.4,\n        \"num_unique_values\": 527,\n        \"samples\": [\n          29.5,\n          4.9\n        ],\n        \"semantic_type\": \"\",\n        \"description\": \"\"\n      }\n    },\n    {\n      \"column\": \"diastolic\",\n      \"properties\": {\n        \"dtype\": \"number\",\n        \"std\": 10.742033099909696,\n        \"min\": 0.0,\n        \"max\": 156.2,\n        \"num_unique_values\": 89,\n        \"samples\": [\n          57.0,\n          44.0\n        ],\n        \"semantic_type\": \"\",\n        \"description\": \"\"\n      }\n    },\n    {\n      \"column\": \"systolic\",\n      \"properties\": {\n        \"dtype\": \"number\",\n        \"std\": 14.713953521704212,\n        \"min\": 0.0,\n        \"max\": 201.0,\n        \"num_unique_values\": 102,\n        \"samples\": [\n          151.0,\n          158.0\n        ],\n        \"semantic_type\": \"\",\n        \"description\": \"\"\n      }\n    },\n    {\n      \"column\": \"gripForce\",\n      \"properties\": {\n        \"dtype\": \"number\",\n        \"std\": 10.624864027335304,\n        \"min\": 0.0,\n        \"max\": 70.5,\n        \"num_unique_values\": 550,\n        \"samples\": [\n          55.4,\n          53.4\n        ],\n        \"semantic_type\": \"\",\n        \"description\": \"\"\n      }\n    },\n    {\n      \"column\": \"sit and bend forward_cm\",\n      \"properties\": {\n        \"dtype\": \"number\",\n        \"std\": 8.456677009240193,\n        \"min\": -25.0,\n        \"max\": 213.0,\n        \"num_unique_values\": 528,\n        \"samples\": [\n          11.4,\n          -8.5\n        ],\n        \"semantic_type\": \"\",\n        \"description\": \"\"\n      }\n    },\n    {\n      \"column\": \"sit-ups counts\",\n      \"properties\": {\n        \"dtype\": \"number\",\n        \"std\": 14.276698326877371,\n        \"min\": 0.0,\n        \"max\": 80.0,\n        \"num_unique_values\": 81,\n        \"samples\": [\n          56.0,\n          60.0\n        ],\n        \"semantic_type\": \"\",\n        \"description\": \"\"\n      }\n    },\n    {\n      \"column\": \"broad jump_cm\",\n      \"properties\": {\n        \"dtype\": \"number\",\n        \"std\": 39.86800013263432,\n        \"min\": 0.0,\n        \"max\": 303.0,\n        \"num_unique_values\": 245,\n        \"samples\": [\n          151.0,\n          234.0\n        ],\n        \"semantic_type\": \"\",\n        \"description\": \"\"\n      }\n    },\n    {\n      \"column\": \"class\",\n      \"properties\": {\n        \"dtype\": \"category\",\n        \"num_unique_values\": 4,\n        \"samples\": [\n          \"A\",\n          \"D\"\n        ],\n        \"semantic_type\": \"\",\n        \"description\": \"\"\n      }\n    }\n  ]\n}"
            }
          },
          "metadata": {},
          "execution_count": 14
        }
      ]
    },
    {
      "cell_type": "code",
      "source": [
        "df.shape"
      ],
      "metadata": {
        "colab": {
          "base_uri": "https://localhost:8080/"
        },
        "id": "lDrpJov_RefB",
        "outputId": "c7093786-e8a5-46dc-b2d8-c74fa819f35e"
      },
      "execution_count": 15,
      "outputs": [
        {
          "output_type": "execute_result",
          "data": {
            "text/plain": [
              "(13393, 12)"
            ]
          },
          "metadata": {},
          "execution_count": 15
        }
      ]
    },
    {
      "cell_type": "code",
      "source": [
        "df.info()"
      ],
      "metadata": {
        "colab": {
          "base_uri": "https://localhost:8080/"
        },
        "id": "iCZo7UdKS6dx",
        "outputId": "913526f9-4408-4e31-e905-2393a02aa59d"
      },
      "execution_count": 16,
      "outputs": [
        {
          "output_type": "stream",
          "name": "stdout",
          "text": [
            "<class 'pandas.core.frame.DataFrame'>\n",
            "RangeIndex: 13393 entries, 0 to 13392\n",
            "Data columns (total 12 columns):\n",
            " #   Column                   Non-Null Count  Dtype  \n",
            "---  ------                   --------------  -----  \n",
            " 0   age                      13393 non-null  float64\n",
            " 1   gender                   13393 non-null  object \n",
            " 2   height_cm                13393 non-null  float64\n",
            " 3   weight_kg                13393 non-null  float64\n",
            " 4   body fat_%               13393 non-null  float64\n",
            " 5   diastolic                13393 non-null  float64\n",
            " 6   systolic                 13393 non-null  float64\n",
            " 7   gripForce                13393 non-null  float64\n",
            " 8   sit and bend forward_cm  13393 non-null  float64\n",
            " 9   sit-ups counts           13393 non-null  float64\n",
            " 10  broad jump_cm            13393 non-null  float64\n",
            " 11  class                    13393 non-null  object \n",
            "dtypes: float64(10), object(2)\n",
            "memory usage: 1.2+ MB\n"
          ]
        }
      ]
    },
    {
      "cell_type": "code",
      "source": [
        "sns.countplot(df['gender'])"
      ],
      "metadata": {
        "colab": {
          "base_uri": "https://localhost:8080/",
          "height": 466
        },
        "id": "VC4UDPcuS8NR",
        "outputId": "e534048f-fa81-41cf-d0d4-a18eaf37923e"
      },
      "execution_count": 17,
      "outputs": [
        {
          "output_type": "execute_result",
          "data": {
            "text/plain": [
              "<Axes: xlabel='count', ylabel='gender'>"
            ]
          },
          "metadata": {},
          "execution_count": 17
        },
        {
          "output_type": "display_data",
          "data": {
            "text/plain": [
              "<Figure size 640x480 with 1 Axes>"
            ],
            "image/png": "[encoded data removed]"
          },
          "metadata": {}
        }
      ]
    },
    {
      "cell_type": "code",
      "source": [
        "sns.countplot(df['class'])"
      ],
      "metadata": {
        "colab": {
          "base_uri": "https://localhost:8080/",
          "height": 466
        },
        "id": "MhDr-e-kUnVN",
        "outputId": "7557fc92-3ad1-49f8-b771-b8e6095d9d18"
      },
      "execution_count": 18,
      "outputs": [
        {
          "output_type": "execute_result",
          "data": {
            "text/plain": [
              "<Axes: xlabel='count', ylabel='class'>"
            ]
          },
          "metadata": {},
          "execution_count": 18
        },
        {
          "output_type": "display_data",
          "data": {
            "text/plain": [
              "<Figure size 640x480 with 1 Axes>"
            ],
            "image/png": "[encoded data removed]"
          },
          "metadata": {}
        }
      ]
    },
    {
      "cell_type": "code",
      "source": [
        "df['class'].value_counts()"
      ],
      "metadata": {
        "colab": {
          "base_uri": "https://localhost:8080/",
          "height": 241
        },
        "id": "PonJe7KmUxdJ",
        "outputId": "2148a698-eb7e-4696-a9e8-318ef222f2d9"
      },
      "execution_count": 19,
      "outputs": [
        {
          "output_type": "execute_result",
          "data": {
            "text/plain": [
              "class\n",
              "C    3349\n",
              "D    3349\n",
              "A    3348\n",
              "B    3347\n",
              "Name: count, dtype: int64"
            ],
            "text/html": [
              "<div>\n",
              "<style scoped>\n",
              "    .dataframe tbody tr th:only-of-type {\n",
              "        vertical-align: middle;\n",
              "    }\n",
              "\n",
              "    .dataframe tbody tr th {\n",
              "        vertical-align: top;\n",
              "    }\n",
              "\n",
              "    .dataframe thead th {\n",
              "        text-align: right;\n",
              "    }\n",
              "</style>\n",
              "<table border=\"1\" class=\"dataframe\">\n",
              "  <thead>\n",
              "    <tr style=\"text-align: right;\">\n",
              "      <th></th>\n",
              "      <th>count</th>\n",
              "    </tr>\n",
              "    <tr>\n",
              "      <th>class</th>\n",
              "      <th></th>\n",
              "    </tr>\n",
              "  </thead>\n",
              "  <tbody>\n",
              "    <tr>\n",
              "      <th>C</th>\n",
              "      <td>3349</td>\n",
              "    </tr>\n",
              "    <tr>\n",
              "      <th>D</th>\n",
              "      <td>3349</td>\n",
              "    </tr>\n",
              "    <tr>\n",
              "      <th>A</th>\n",
              "      <td>3348</td>\n",
              "    </tr>\n",
              "    <tr>\n",
              "      <th>B</th>\n",
              "      <td>3347</td>\n",
              "    </tr>\n",
              "  </tbody>\n",
              "</table>\n",
              "</div><br><label><b>dtype:</b> int64</label>"
            ]
          },
          "metadata": {},
          "execution_count": 19
        }
      ]
    },
    {
      "cell_type": "code",
      "source": [
        "df['gender'].replace({'M':0,'F':1},inplace=True)\n",
        "df.head()"
      ],
      "metadata": {
        "colab": {
          "base_uri": "https://localhost:8080/",
          "height": 382
        },
        "id": "9CCz0RjQU2_5",
        "outputId": "ac780192-1066-49e6-bf38-3b5752053053"
      },
      "execution_count": 20,
      "outputs": [
        {
          "output_type": "stream",
          "name": "stderr",
          "text": [
            "<ipython-input-20-b1a255a00aff>:1: FutureWarning: A value is trying to be set on a copy of a DataFrame or Series through chained assignment using an inplace method.\n",
            "The behavior will change in pandas 3.0. This inplace method will never work because the intermediate object on which we are setting values always behaves as a copy.\n",
            "\n",
            "For example, when doing 'df[col].method(value, inplace=True)', try using 'df.method({col: value}, inplace=True)' or df[col] = df[col].method(value) instead, to perform the operation inplace on the original object.\n",
            "\n",
            "\n",
            "  df['gender'].replace({'M':0,'F':1},inplace=True)\n",
            "<ipython-input-20-b1a255a00aff>:1: FutureWarning: Downcasting behavior in `replace` is deprecated and will be removed in a future version. To retain the old behavior, explicitly call `result.infer_objects(copy=False)`. To opt-in to the future behavior, set `pd.set_option('future.no_silent_downcasting', True)`\n",
            "  df['gender'].replace({'M':0,'F':1},inplace=True)\n"
          ]
        },
        {
          "output_type": "execute_result",
          "data": {
            "text/plain": [
              "    age  gender  height_cm  weight_kg  body fat_%  diastolic  systolic  \\\n",
              "0  27.0       0      172.3      75.24        21.3       80.0     130.0   \n",
              "1  25.0       0      165.0      55.80        15.7       77.0     126.0   \n",
              "2  31.0       0      179.6      78.00        20.1       92.0     152.0   \n",
              "3  32.0       0      174.5      71.10        18.4       76.0     147.0   \n",
              "4  28.0       0      173.8      67.70        17.1       70.0     127.0   \n",
              "\n",
              "   gripForce  sit and bend forward_cm  sit-ups counts  broad jump_cm class  \n",
              "0       54.9                     18.4            60.0          217.0     C  \n",
              "1       36.4                     16.3            53.0          229.0     A  \n",
              "2       44.8                     12.0            49.0          181.0     C  \n",
              "3       41.4                     15.2            53.0          219.0     B  \n",
              "4       43.5                     27.1            45.0          217.0     B  "
            ],
            "text/html": [
              "\n",
              "  <div id=\"df-7c5b2c20-ed27-41de-abb8-7672380bcc37\" class=\"colab-df-container\">\n",
              "    <div>\n",
              "<style scoped>\n",
              "    .dataframe tbody tr th:only-of-type {\n",
              "        vertical-align: middle;\n",
              "    }\n",
              "\n",
              "    .dataframe tbody tr th {\n",
              "        vertical-align: top;\n",
              "    }\n",
              "\n",
              "    .dataframe thead th {\n",
              "        text-align: right;\n",
              "    }\n",
              "</style>\n",
              "<table border=\"1\" class=\"dataframe\">\n",
              "  <thead>\n",
              "    <tr style=\"text-align: right;\">\n",
              "      <th></th>\n",
              "      <th>age</th>\n",
              "      <th>gender</th>\n",
              "      <th>height_cm</th>\n",
              "      <th>weight_kg</th>\n",
              "      <th>body fat_%</th>\n",
              "      <th>diastolic</th>\n",
              "      <th>systolic</th>\n",
              "      <th>gripForce</th>\n",
              "      <th>sit and bend forward_cm</th>\n",
              "      <th>sit-ups counts</th>\n",
              "      <th>broad jump_cm</th>\n",
              "      <th>class</th>\n",
              "    </tr>\n",
              "  </thead>\n",
              "  <tbody>\n",
              "    <tr>\n",
              "      <th>0</th>\n",
              "      <td>27.0</td>\n",
              "      <td>0</td>\n",
              "      <td>172.3</td>\n",
              "      <td>75.24</td>\n",
              "      <td>21.3</td>\n",
              "      <td>80.0</td>\n",
              "      <td>130.0</td>\n",
              "      <td>54.9</td>\n",
              "      <td>18.4</td>\n",
              "      <td>60.0</td>\n",
              "      <td>217.0</td>\n",
              "      <td>C</td>\n",
              "    </tr>\n",
              "    <tr>\n",
              "      <th>1</th>\n",
              "      <td>25.0</td>\n",
              "      <td>0</td>\n",
              "      <td>165.0</td>\n",
              "      <td>55.80</td>\n",
              "      <td>15.7</td>\n",
              "      <td>77.0</td>\n",
              "      <td>126.0</td>\n",
              "      <td>36.4</td>\n",
              "      <td>16.3</td>\n",
              "      <td>53.0</td>\n",
              "      <td>229.0</td>\n",
              "      <td>A</td>\n",
              "    </tr>\n",
              "    <tr>\n",
              "      <th>2</th>\n",
              "      <td>31.0</td>\n",
              "      <td>0</td>\n",
              "      <td>179.6</td>\n",
              "      <td>78.00</td>\n",
              "      <td>20.1</td>\n",
              "      <td>92.0</td>\n",
              "      <td>152.0</td>\n",
              "      <td>44.8</td>\n",
              "      <td>12.0</td>\n",
              "      <td>49.0</td>\n",
              "      <td>181.0</td>\n",
              "      <td>C</td>\n",
              "    </tr>\n",
              "    <tr>\n",
              "      <th>3</th>\n",
              "      <td>32.0</td>\n",
              "      <td>0</td>\n",
              "      <td>174.5</td>\n",
              "      <td>71.10</td>\n",
              "      <td>18.4</td>\n",
              "      <td>76.0</td>\n",
              "      <td>147.0</td>\n",
              "      <td>41.4</td>\n",
              "      <td>15.2</td>\n",
              "      <td>53.0</td>\n",
              "      <td>219.0</td>\n",
              "      <td>B</td>\n",
              "    </tr>\n",
              "    <tr>\n",
              "      <th>4</th>\n",
              "      <td>28.0</td>\n",
              "      <td>0</td>\n",
              "      <td>173.8</td>\n",
              "      <td>67.70</td>\n",
              "      <td>17.1</td>\n",
              "      <td>70.0</td>\n",
              "      <td>127.0</td>\n",
              "      <td>43.5</td>\n",
              "      <td>27.1</td>\n",
              "      <td>45.0</td>\n",
              "      <td>217.0</td>\n",
              "      <td>B</td>\n",
              "    </tr>\n",
              "  </tbody>\n",
              "</table>\n",
              "</div>\n",
              "    <div class=\"colab-df-buttons\">\n",
              "\n",
              "  <div class=\"colab-df-container\">\n",
              "    <button class=\"colab-df-convert\" onclick=\"convertToInteractive('df-7c5b2c20-ed27-41de-abb8-7672380bcc37')\"\n",
              "            title=\"Convert this dataframe to an interactive table.\"\n",
              "            style=\"display:none;\">\n",
              "\n",
              "  <svg xmlns=\"http://www.w3.org/2000/svg\" height=\"24px\" viewBox=\"0 -960 960 960\">\n",
              "    <path d=\"M120-120v-720h720v720H120Zm60-500h600v-160H180v160Zm220 220h160v-160H400v160Zm0 220h160v-160H400v160ZM180-400h160v-160H180v160Zm440 0h160v-160H620v160ZM180-180h160v-160H180v160Zm440 0h160v-160H620v160Z\"/>\n",
              "  </svg>\n",
              "    </button>\n",
              "\n",
              "  <style>\n",
              "    .colab-df-container {\n",
              "      display:flex;\n",
              "      gap: 12px;\n",
              "    }\n",
              "\n",
              "    .colab-df-convert {\n",
              "      background-color: #E8F0FE;\n",
              "      border: none;\n",
              "      border-radius: 50%;\n",
              "      cursor: pointer;\n",
              "      display: none;\n",
              "      fill: #1967D2;\n",
              "      height: 32px;\n",
              "      padding: 0 0 0 0;\n",
              "      width: 32px;\n",
              "    }\n",
              "\n",
              "    .colab-df-convert:hover {\n",
              "      background-color: #E2EBFA;\n",
              "      box-shadow: 0px 1px 2px rgba(60, 64, 67, 0.3), 0px 1px 3px 1px rgba(60, 64, 67, 0.15);\n",
              "      fill: #174EA6;\n",
              "    }\n",
              "\n",
              "    .colab-df-buttons div {\n",
              "      margin-bottom: 4px;\n",
              "    }\n",
              "\n",
              "    [theme=dark] .colab-df-convert {\n",
              "      background-color: #3B4455;\n",
              "      fill: #D2E3FC;\n",
              "    }\n",
              "\n",
              "    [theme=dark] .colab-df-convert:hover {\n",
              "      background-color: #434B5C;\n",
              "      box-shadow: 0px 1px 3px 1px rgba(0, 0, 0, 0.15);\n",
              "      filter: drop-shadow(0px 1px 2px rgba(0, 0, 0, 0.3));\n",
              "      fill: #FFFFFF;\n",
              "    }\n",
              "  </style>\n",
              "\n",
              "    <script>\n",
              "      const buttonEl =\n",
              "        document.querySelector('#df-7c5b2c20-ed27-41de-abb8-7672380bcc37 button.colab-df-convert');\n",
              "      buttonEl.style.display =\n",
              "        google.colab.kernel.accessAllowed ? 'block' : 'none';\n",
              "\n",
              "      async function convertToInteractive(key) {\n",
              "        const element = document.querySelector('#df-7c5b2c20-ed27-41de-abb8-7672380bcc37');\n",
              "        const dataTable =\n",
              "          await google.colab.kernel.invokeFunction('convertToInteractive',\n",
              "                                                    [key], {});\n",
              "        if (!dataTable) return;\n",
              "\n",
              "        const docLinkHtml = 'Like what you see? Visit the ' +\n",
              "          '<a target=\"_blank\" href=https://colab.research.google.com/notebooks/data_table.ipynb>data table notebook</a>'\n",
              "          + ' to learn more about interactive tables.';\n",
              "        element.innerHTML = '';\n",
              "        dataTable['output_type'] = 'display_data';\n",
              "        await google.colab.output.renderOutput(dataTable, element);\n",
              "        const docLink = document.createElement('div');\n",
              "        docLink.innerHTML = docLinkHtml;\n",
              "        element.appendChild(docLink);\n",
              "      }\n",
              "    </script>\n",
              "  </div>\n",
              "\n",
              "\n",
              "<div id=\"df-3962e638-07a6-4f39-96a9-38e0bcd62ca5\">\n",
              "  <button class=\"colab-df-quickchart\" onclick=\"quickchart('df-3962e638-07a6-4f39-96a9-38e0bcd62ca5')\"\n",
              "            title=\"Suggest charts\"\n",
              "            style=\"display:none;\">\n",
              "\n",
              "<svg xmlns=\"http://www.w3.org/2000/svg\" height=\"24px\"viewBox=\"0 0 24 24\"\n",
              "     width=\"24px\">\n",
              "    <g>\n",
              "        <path d=\"M19 3H5c-1.1 0-2 .9-2 2v14c0 1.1.9 2 2 2h14c1.1 0 2-.9 2-2V5c0-1.1-.9-2-2-2zM9 17H7v-7h2v7zm4 0h-2V7h2v10zm4 0h-2v-4h2v4z\"/>\n",
              "    </g>\n",
              "</svg>\n",
              "  </button>\n",
              "\n",
              "<style>\n",
              "  .colab-df-quickchart {\n",
              "      --bg-color: #E8F0FE;\n",
              "      --fill-color: #1967D2;\n",
              "      --hover-bg-color: #E2EBFA;\n",
              "      --hover-fill-color: #174EA6;\n",
              "      --disabled-fill-color: #AAA;\n",
              "      --disabled-bg-color: #DDD;\n",
              "  }\n",
              "\n",
              "  [theme=dark] .colab-df-quickchart {\n",
              "      --bg-color: #3B4455;\n",
              "      --fill-color: #D2E3FC;\n",
              "      --hover-bg-color: #434B5C;\n",
              "      --hover-fill-color: #FFFFFF;\n",
              "      --disabled-bg-color: #3B4455;\n",
              "      --disabled-fill-color: #666;\n",
              "  }\n",
              "\n",
              "  .colab-df-quickchart {\n",
              "    background-color: var(--bg-color);\n",
              "    border: none;\n",
              "    border-radius: 50%;\n",
              "    cursor: pointer;\n",
              "    display: none;\n",
              "    fill: var(--fill-color);\n",
              "    height: 32px;\n",
              "    padding: 0;\n",
              "    width: 32px;\n",
              "  }\n",
              "\n",
              "  .colab-df-quickchart:hover {\n",
              "    background-color: var(--hover-bg-color);\n",
              "    box-shadow: 0 1px 2px rgba(60, 64, 67, 0.3), 0 1px 3px 1px rgba(60, 64, 67, 0.15);\n",
              "    fill: var(--button-hover-fill-color);\n",
              "  }\n",
              "\n",
              "  .colab-df-quickchart-complete:disabled,\n",
              "  .colab-df-quickchart-complete:disabled:hover {\n",
              "    background-color: var(--disabled-bg-color);\n",
              "    fill: var(--disabled-fill-color);\n",
              "    box-shadow: none;\n",
              "  }\n",
              "\n",
              "  .colab-df-spinner {\n",
              "    border: 2px solid var(--fill-color);\n",
              "    border-color: transparent;\n",
              "    border-bottom-color: var(--fill-color);\n",
              "    animation:\n",
              "      spin 1s steps(1) infinite;\n",
              "  }\n",
              "\n",
              "  @keyframes spin {\n",
              "    0% {\n",
              "      border-color: transparent;\n",
              "      border-bottom-color: var(--fill-color);\n",
              "      border-left-color: var(--fill-color);\n",
              "    }\n",
              "    20% {\n",
              "      border-color: transparent;\n",
              "      border-left-color: var(--fill-color);\n",
              "      border-top-color: var(--fill-color);\n",
              "    }\n",
              "    30% {\n",
              "      border-color: transparent;\n",
              "      border-left-color: var(--fill-color);\n",
              "      border-top-color: var(--fill-color);\n",
              "      border-right-color: var(--fill-color);\n",
              "    }\n",
              "    40% {\n",
              "      border-color: transparent;\n",
              "      border-right-color: var(--fill-color);\n",
              "      border-top-color: var(--fill-color);\n",
              "    }\n",
              "    60% {\n",
              "      border-color: transparent;\n",
              "      border-right-color: var(--fill-color);\n",
              "    }\n",
              "    80% {\n",
              "      border-color: transparent;\n",
              "      border-right-color: var(--fill-color);\n",
              "      border-bottom-color: var(--fill-color);\n",
              "    }\n",
              "    90% {\n",
              "      border-color: transparent;\n",
              "      border-bottom-color: var(--fill-color);\n",
              "    }\n",
              "  }\n",
              "</style>\n",
              "\n",
              "  <script>\n",
              "    async function quickchart(key) {\n",
              "      const quickchartButtonEl =\n",
              "        document.querySelector('#' + key + ' button');\n",
              "      quickchartButtonEl.disabled = true;  // To prevent multiple clicks.\n",
              "      quickchartButtonEl.classList.add('colab-df-spinner');\n",
              "      try {\n",
              "        const charts = await google.colab.kernel.invokeFunction(\n",
              "            'suggestCharts', [key], {});\n",
              "      } catch (error) {\n",
              "        console.error('Error during call to suggestCharts:', error);\n",
              "      }\n",
              "      quickchartButtonEl.classList.remove('colab-df-spinner');\n",
              "      quickchartButtonEl.classList.add('colab-df-quickchart-complete');\n",
              "    }\n",
              "    (() => {\n",
              "      let quickchartButtonEl =\n",
              "        document.querySelector('#df-3962e638-07a6-4f39-96a9-38e0bcd62ca5 button');\n",
              "      quickchartButtonEl.style.display =\n",
              "        google.colab.kernel.accessAllowed ? 'block' : 'none';\n",
              "    })();\n",
              "  </script>\n",
              "</div>\n",
              "\n",
              "    </div>\n",
              "  </div>\n"
            ],
            "application/vnd.google.colaboratory.intrinsic+json": {
              "type": "dataframe",
              "variable_name": "df",
              "summary": "{\n  \"name\": \"df\",\n  \"rows\": 13393,\n  \"fields\": [\n    {\n      \"column\": \"age\",\n      \"properties\": {\n        \"dtype\": \"number\",\n        \"std\": 13.625639475291196,\n        \"min\": 21.0,\n        \"max\": 64.0,\n        \"num_unique_values\": 44,\n        \"samples\": [\n          41.0,\n          49.0,\n          40.0\n        ],\n        \"semantic_type\": \"\",\n        \"description\": \"\"\n      }\n    },\n    {\n      \"column\": \"gender\",\n      \"properties\": {\n        \"dtype\": \"number\",\n        \"std\": 0,\n        \"min\": 0,\n        \"max\": 1,\n        \"num_unique_values\": 2,\n        \"samples\": [\n          1,\n          0\n        ],\n        \"semantic_type\": \"\",\n        \"description\": \"\"\n      }\n    },\n    {\n      \"column\": \"height_cm\",\n      \"properties\": {\n        \"dtype\": \"number\",\n        \"std\": 8.426582550560244,\n        \"min\": 125.0,\n        \"max\": 193.8,\n        \"num_unique_values\": 467,\n        \"samples\": [\n          164.0,\n          171.5\n        ],\n        \"semantic_type\": \"\",\n        \"description\": \"\"\n      }\n    },\n    {\n      \"column\": \"weight_kg\",\n      \"properties\": {\n        \"dtype\": \"number\",\n        \"std\": 11.949666342707433,\n        \"min\": 26.3,\n        \"max\": 138.1,\n        \"num_unique_values\": 1398,\n        \"samples\": [\n          56.3,\n          64.3\n        ],\n        \"semantic_type\": \"\",\n        \"description\": \"\"\n      }\n    },\n    {\n      \"column\": \"body fat_%\",\n      \"properties\": {\n        \"dtype\": \"number\",\n        \"std\": 7.25684407992992,\n        \"min\": 3.0,\n        \"max\": 78.4,\n        \"num_unique_values\": 527,\n        \"samples\": [\n          29.5,\n          4.9\n        ],\n        \"semantic_type\": \"\",\n        \"description\": \"\"\n      }\n    },\n    {\n      \"column\": \"diastolic\",\n      \"properties\": {\n        \"dtype\": \"number\",\n        \"std\": 10.742033099909696,\n        \"min\": 0.0,\n        \"max\": 156.2,\n        \"num_unique_values\": 89,\n        \"samples\": [\n          57.0,\n          44.0\n        ],\n        \"semantic_type\": \"\",\n        \"description\": \"\"\n      }\n    },\n    {\n      \"column\": \"systolic\",\n      \"properties\": {\n        \"dtype\": \"number\",\n        \"std\": 14.713953521704212,\n        \"min\": 0.0,\n        \"max\": 201.0,\n        \"num_unique_values\": 102,\n        \"samples\": [\n          151.0,\n          158.0\n        ],\n        \"semantic_type\": \"\",\n        \"description\": \"\"\n      }\n    },\n    {\n      \"column\": \"gripForce\",\n      \"properties\": {\n        \"dtype\": \"number\",\n        \"std\": 10.624864027335304,\n        \"min\": 0.0,\n        \"max\": 70.5,\n        \"num_unique_values\": 550,\n        \"samples\": [\n          55.4,\n          53.4\n        ],\n        \"semantic_type\": \"\",\n        \"description\": \"\"\n      }\n    },\n    {\n      \"column\": \"sit and bend forward_cm\",\n      \"properties\": {\n        \"dtype\": \"number\",\n        \"std\": 8.456677009240193,\n        \"min\": -25.0,\n        \"max\": 213.0,\n        \"num_unique_values\": 528,\n        \"samples\": [\n          11.4,\n          -8.5\n        ],\n        \"semantic_type\": \"\",\n        \"description\": \"\"\n      }\n    },\n    {\n      \"column\": \"sit-ups counts\",\n      \"properties\": {\n        \"dtype\": \"number\",\n        \"std\": 14.276698326877371,\n        \"min\": 0.0,\n        \"max\": 80.0,\n        \"num_unique_values\": 81,\n        \"samples\": [\n          56.0,\n          60.0\n        ],\n        \"semantic_type\": \"\",\n        \"description\": \"\"\n      }\n    },\n    {\n      \"column\": \"broad jump_cm\",\n      \"properties\": {\n        \"dtype\": \"number\",\n        \"std\": 39.86800013263432,\n        \"min\": 0.0,\n        \"max\": 303.0,\n        \"num_unique_values\": 245,\n        \"samples\": [\n          151.0,\n          234.0\n        ],\n        \"semantic_type\": \"\",\n        \"description\": \"\"\n      }\n    },\n    {\n      \"column\": \"class\",\n      \"properties\": {\n        \"dtype\": \"category\",\n        \"num_unique_values\": 4,\n        \"samples\": [\n          \"A\",\n          \"D\"\n        ],\n        \"semantic_type\": \"\",\n        \"description\": \"\"\n      }\n    }\n  ]\n}"
            }
          },
          "metadata": {},
          "execution_count": 20
        }
      ]
    },
    {
      "cell_type": "code",
      "source": [
        "classes=df['class'].unique()\n",
        "class_code={}\n",
        "for i in range(len(classes)):\n",
        "  if classes[i] not in class_code:\n",
        "    class_code[classes[i]]=i"
      ],
      "metadata": {
        "id": "Lk5NaWo8VFCn"
      },
      "execution_count": 21,
      "outputs": []
    },
    {
      "cell_type": "code",
      "source": [
        "class_code"
      ],
      "metadata": {
        "colab": {
          "base_uri": "https://localhost:8080/"
        },
        "id": "zZ2c0D8HXbRZ",
        "outputId": "9c231170-84a2-4f58-9775-0092921d020c"
      },
      "execution_count": 22,
      "outputs": [
        {
          "output_type": "execute_result",
          "data": {
            "text/plain": [
              "{'C': 0, 'A': 1, 'B': 2, 'D': 3}"
            ]
          },
          "metadata": {},
          "execution_count": 22
        }
      ]
    },
    {
      "cell_type": "code",
      "source": [
        "df['class']=df['class'].map(class_code)"
      ],
      "metadata": {
        "id": "_U2uR1zsVxkw"
      },
      "execution_count": 23,
      "outputs": []
    },
    {
      "cell_type": "code",
      "source": [
        "df.head()"
      ],
      "metadata": {
        "colab": {
          "base_uri": "https://localhost:8080/",
          "height": 206
        },
        "id": "L5-TlYqOV3DJ",
        "outputId": "aae328ef-dab4-488d-e64f-0e05e5464b70"
      },
      "execution_count": 24,
      "outputs": [
        {
          "output_type": "execute_result",
          "data": {
            "text/plain": [
              "    age  gender  height_cm  weight_kg  body fat_%  diastolic  systolic  \\\n",
              "0  27.0       0      172.3      75.24        21.3       80.0     130.0   \n",
              "1  25.0       0      165.0      55.80        15.7       77.0     126.0   \n",
              "2  31.0       0      179.6      78.00        20.1       92.0     152.0   \n",
              "3  32.0       0      174.5      71.10        18.4       76.0     147.0   \n",
              "4  28.0       0      173.8      67.70        17.1       70.0     127.0   \n",
              "\n",
              "   gripForce  sit and bend forward_cm  sit-ups counts  broad jump_cm  class  \n",
              "0       54.9                     18.4            60.0          217.0      0  \n",
              "1       36.4                     16.3            53.0          229.0      1  \n",
              "2       44.8                     12.0            49.0          181.0      0  \n",
              "3       41.4                     15.2            53.0          219.0      2  \n",
              "4       43.5                     27.1            45.0          217.0      2  "
            ],
            "text/html": [
              "\n",
              "  <div id=\"df-ee60f535-aaf8-48f1-8b2b-a6e0eee22412\" class=\"colab-df-container\">\n",
              "    <div>\n",
              "<style scoped>\n",
              "    .dataframe tbody tr th:only-of-type {\n",
              "        vertical-align: middle;\n",
              "    }\n",
              "\n",
              "    .dataframe tbody tr th {\n",
              "        vertical-align: top;\n",
              "    }\n",
              "\n",
              "    .dataframe thead th {\n",
              "        text-align: right;\n",
              "    }\n",
              "</style>\n",
              "<table border=\"1\" class=\"dataframe\">\n",
              "  <thead>\n",
              "    <tr style=\"text-align: right;\">\n",
              "      <th></th>\n",
              "      <th>age</th>\n",
              "      <th>gender</th>\n",
              "      <th>height_cm</th>\n",
              "      <th>weight_kg</th>\n",
              "      <th>body fat_%</th>\n",
              "      <th>diastolic</th>\n",
              "      <th>systolic</th>\n",
              "      <th>gripForce</th>\n",
              "      <th>sit and bend forward_cm</th>\n",
              "      <th>sit-ups counts</th>\n",
              "      <th>broad jump_cm</th>\n",
              "      <th>class</th>\n",
              "    </tr>\n",
              "  </thead>\n",
              "  <tbody>\n",
              "    <tr>\n",
              "      <th>0</th>\n",
              "      <td>27.0</td>\n",
              "      <td>0</td>\n",
              "      <td>172.3</td>\n",
              "      <td>75.24</td>\n",
              "      <td>21.3</td>\n",
              "      <td>80.0</td>\n",
              "      <td>130.0</td>\n",
              "      <td>54.9</td>\n",
              "      <td>18.4</td>\n",
              "      <td>60.0</td>\n",
              "      <td>217.0</td>\n",
              "      <td>0</td>\n",
              "    </tr>\n",
              "    <tr>\n",
              "      <th>1</th>\n",
              "      <td>25.0</td>\n",
              "      <td>0</td>\n",
              "      <td>165.0</td>\n",
              "      <td>55.80</td>\n",
              "      <td>15.7</td>\n",
              "      <td>77.0</td>\n",
              "      <td>126.0</td>\n",
              "      <td>36.4</td>\n",
              "      <td>16.3</td>\n",
              "      <td>53.0</td>\n",
              "      <td>229.0</td>\n",
              "      <td>1</td>\n",
              "    </tr>\n",
              "    <tr>\n",
              "      <th>2</th>\n",
              "      <td>31.0</td>\n",
              "      <td>0</td>\n",
              "      <td>179.6</td>\n",
              "      <td>78.00</td>\n",
              "      <td>20.1</td>\n",
              "      <td>92.0</td>\n",
              "      <td>152.0</td>\n",
              "      <td>44.8</td>\n",
              "      <td>12.0</td>\n",
              "      <td>49.0</td>\n",
              "      <td>181.0</td>\n",
              "      <td>0</td>\n",
              "    </tr>\n",
              "    <tr>\n",
              "      <th>3</th>\n",
              "      <td>32.0</td>\n",
              "      <td>0</td>\n",
              "      <td>174.5</td>\n",
              "      <td>71.10</td>\n",
              "      <td>18.4</td>\n",
              "      <td>76.0</td>\n",
              "      <td>147.0</td>\n",
              "      <td>41.4</td>\n",
              "      <td>15.2</td>\n",
              "      <td>53.0</td>\n",
              "      <td>219.0</td>\n",
              "      <td>2</td>\n",
              "    </tr>\n",
              "    <tr>\n",
              "      <th>4</th>\n",
              "      <td>28.0</td>\n",
              "      <td>0</td>\n",
              "      <td>173.8</td>\n",
              "      <td>67.70</td>\n",
              "      <td>17.1</td>\n",
              "      <td>70.0</td>\n",
              "      <td>127.0</td>\n",
              "      <td>43.5</td>\n",
              "      <td>27.1</td>\n",
              "      <td>45.0</td>\n",
              "      <td>217.0</td>\n",
              "      <td>2</td>\n",
              "    </tr>\n",
              "  </tbody>\n",
              "</table>\n",
              "</div>\n",
              "    <div class=\"colab-df-buttons\">\n",
              "\n",
              "  <div class=\"colab-df-container\">\n",
              "    <button class=\"colab-df-convert\" onclick=\"convertToInteractive('df-ee60f535-aaf8-48f1-8b2b-a6e0eee22412')\"\n",
              "            title=\"Convert this dataframe to an interactive table.\"\n",
              "            style=\"display:none;\">\n",
              "\n",
              "  <svg xmlns=\"http://www.w3.org/2000/svg\" height=\"24px\" viewBox=\"0 -960 960 960\">\n",
              "    <path d=\"M120-120v-720h720v720H120Zm60-500h600v-160H180v160Zm220 220h160v-160H400v160Zm0 220h160v-160H400v160ZM180-400h160v-160H180v160Zm440 0h160v-160H620v160ZM180-180h160v-160H180v160Zm440 0h160v-160H620v160Z\"/>\n",
              "  </svg>\n",
              "    </button>\n",
              "\n",
              "  <style>\n",
              "    .colab-df-container {\n",
              "      display:flex;\n",
              "      gap: 12px;\n",
              "    }\n",
              "\n",
              "    .colab-df-convert {\n",
              "      background-color: #E8F0FE;\n",
              "      border: none;\n",
              "      border-radius: 50%;\n",
              "      cursor: pointer;\n",
              "      display: none;\n",
              "      fill: #1967D2;\n",
              "      height: 32px;\n",
              "      padding: 0 0 0 0;\n",
              "      width: 32px;\n",
              "    }\n",
              "\n",
              "    .colab-df-convert:hover {\n",
              "      background-color: #E2EBFA;\n",
              "      box-shadow: 0px 1px 2px rgba(60, 64, 67, 0.3), 0px 1px 3px 1px rgba(60, 64, 67, 0.15);\n",
              "      fill: #174EA6;\n",
              "    }\n",
              "\n",
              "    .colab-df-buttons div {\n",
              "      margin-bottom: 4px;\n",
              "    }\n",
              "\n",
              "    [theme=dark] .colab-df-convert {\n",
              "      background-color: #3B4455;\n",
              "      fill: #D2E3FC;\n",
              "    }\n",
              "\n",
              "    [theme=dark] .colab-df-convert:hover {\n",
              "      background-color: #434B5C;\n",
              "      box-shadow: 0px 1px 3px 1px rgba(0, 0, 0, 0.15);\n",
              "      filter: drop-shadow(0px 1px 2px rgba(0, 0, 0, 0.3));\n",
              "      fill: #FFFFFF;\n",
              "    }\n",
              "  </style>\n",
              "\n",
              "    <script>\n",
              "      const buttonEl =\n",
              "        document.querySelector('#df-ee60f535-aaf8-48f1-8b2b-a6e0eee22412 button.colab-df-convert');\n",
              "      buttonEl.style.display =\n",
              "        google.colab.kernel.accessAllowed ? 'block' : 'none';\n",
              "\n",
              "      async function convertToInteractive(key) {\n",
              "        const element = document.querySelector('#df-ee60f535-aaf8-48f1-8b2b-a6e0eee22412');\n",
              "        const dataTable =\n",
              "          await google.colab.kernel.invokeFunction('convertToInteractive',\n",
              "                                                    [key], {});\n",
              "        if (!dataTable) return;\n",
              "\n",
              "        const docLinkHtml = 'Like what you see? Visit the ' +\n",
              "          '<a target=\"_blank\" href=https://colab.research.google.com/notebooks/data_table.ipynb>data table notebook</a>'\n",
              "          + ' to learn more about interactive tables.';\n",
              "        element.innerHTML = '';\n",
              "        dataTable['output_type'] = 'display_data';\n",
              "        await google.colab.output.renderOutput(dataTable, element);\n",
              "        const docLink = document.createElement('div');\n",
              "        docLink.innerHTML = docLinkHtml;\n",
              "        element.appendChild(docLink);\n",
              "      }\n",
              "    </script>\n",
              "  </div>\n",
              "\n",
              "\n",
              "<div id=\"df-9ac84ca9-4699-454b-acee-fa586b4271fc\">\n",
              "  <button class=\"colab-df-quickchart\" onclick=\"quickchart('df-9ac84ca9-4699-454b-acee-fa586b4271fc')\"\n",
              "            title=\"Suggest charts\"\n",
              "            style=\"display:none;\">\n",
              "\n",
              "<svg xmlns=\"http://www.w3.org/2000/svg\" height=\"24px\"viewBox=\"0 0 24 24\"\n",
              "     width=\"24px\">\n",
              "    <g>\n",
              "        <path d=\"M19 3H5c-1.1 0-2 .9-2 2v14c0 1.1.9 2 2 2h14c1.1 0 2-.9 2-2V5c0-1.1-.9-2-2-2zM9 17H7v-7h2v7zm4 0h-2V7h2v10zm4 0h-2v-4h2v4z\"/>\n",
              "    </g>\n",
              "</svg>\n",
              "  </button>\n",
              "\n",
              "<style>\n",
              "  .colab-df-quickchart {\n",
              "      --bg-color: #E8F0FE;\n",
              "      --fill-color: #1967D2;\n",
              "      --hover-bg-color: #E2EBFA;\n",
              "      --hover-fill-color: #174EA6;\n",
              "      --disabled-fill-color: #AAA;\n",
              "      --disabled-bg-color: #DDD;\n",
              "  }\n",
              "\n",
              "  [theme=dark] .colab-df-quickchart {\n",
              "      --bg-color: #3B4455;\n",
              "      --fill-color: #D2E3FC;\n",
              "      --hover-bg-color: #434B5C;\n",
              "      --hover-fill-color: #FFFFFF;\n",
              "      --disabled-bg-color: #3B4455;\n",
              "      --disabled-fill-color: #666;\n",
              "  }\n",
              "\n",
              "  .colab-df-quickchart {\n",
              "    background-color: var(--bg-color);\n",
              "    border: none;\n",
              "    border-radius: 50%;\n",
              "    cursor: pointer;\n",
              "    display: none;\n",
              "    fill: var(--fill-color);\n",
              "    height: 32px;\n",
              "    padding: 0;\n",
              "    width: 32px;\n",
              "  }\n",
              "\n",
              "  .colab-df-quickchart:hover {\n",
              "    background-color: var(--hover-bg-color);\n",
              "    box-shadow: 0 1px 2px rgba(60, 64, 67, 0.3), 0 1px 3px 1px rgba(60, 64, 67, 0.15);\n",
              "    fill: var(--button-hover-fill-color);\n",
              "  }\n",
              "\n",
              "  .colab-df-quickchart-complete:disabled,\n",
              "  .colab-df-quickchart-complete:disabled:hover {\n",
              "    background-color: var(--disabled-bg-color);\n",
              "    fill: var(--disabled-fill-color);\n",
              "    box-shadow: none;\n",
              "  }\n",
              "\n",
              "  .colab-df-spinner {\n",
              "    border: 2px solid var(--fill-color);\n",
              "    border-color: transparent;\n",
              "    border-bottom-color: var(--fill-color);\n",
              "    animation:\n",
              "      spin 1s steps(1) infinite;\n",
              "  }\n",
              "\n",
              "  @keyframes spin {\n",
              "    0% {\n",
              "      border-color: transparent;\n",
              "      border-bottom-color: var(--fill-color);\n",
              "      border-left-color: var(--fill-color);\n",
              "    }\n",
              "    20% {\n",
              "      border-color: transparent;\n",
              "      border-left-color: var(--fill-color);\n",
              "      border-top-color: var(--fill-color);\n",
              "    }\n",
              "    30% {\n",
              "      border-color: transparent;\n",
              "      border-left-color: var(--fill-color);\n",
              "      border-top-color: var(--fill-color);\n",
              "      border-right-color: var(--fill-color);\n",
              "    }\n",
              "    40% {\n",
              "      border-color: transparent;\n",
              "      border-right-color: var(--fill-color);\n",
              "      border-top-color: var(--fill-color);\n",
              "    }\n",
              "    60% {\n",
              "      border-color: transparent;\n",
              "      border-right-color: var(--fill-color);\n",
              "    }\n",
              "    80% {\n",
              "      border-color: transparent;\n",
              "      border-right-color: var(--fill-color);\n",
              "      border-bottom-color: var(--fill-color);\n",
              "    }\n",
              "    90% {\n",
              "      border-color: transparent;\n",
              "      border-bottom-color: var(--fill-color);\n",
              "    }\n",
              "  }\n",
              "</style>\n",
              "\n",
              "  <script>\n",
              "    async function quickchart(key) {\n",
              "      const quickchartButtonEl =\n",
              "        document.querySelector('#' + key + ' button');\n",
              "      quickchartButtonEl.disabled = true;  // To prevent multiple clicks.\n",
              "      quickchartButtonEl.classList.add('colab-df-spinner');\n",
              "      try {\n",
              "        const charts = await google.colab.kernel.invokeFunction(\n",
              "            'suggestCharts', [key], {});\n",
              "      } catch (error) {\n",
              "        console.error('Error during call to suggestCharts:', error);\n",
              "      }\n",
              "      quickchartButtonEl.classList.remove('colab-df-spinner');\n",
              "      quickchartButtonEl.classList.add('colab-df-quickchart-complete');\n",
              "    }\n",
              "    (() => {\n",
              "      let quickchartButtonEl =\n",
              "        document.querySelector('#df-9ac84ca9-4699-454b-acee-fa586b4271fc button');\n",
              "      quickchartButtonEl.style.display =\n",
              "        google.colab.kernel.accessAllowed ? 'block' : 'none';\n",
              "    })();\n",
              "  </script>\n",
              "</div>\n",
              "\n",
              "    </div>\n",
              "  </div>\n"
            ],
            "application/vnd.google.colaboratory.intrinsic+json": {
              "type": "dataframe",
              "variable_name": "df",
              "summary": "{\n  \"name\": \"df\",\n  \"rows\": 13393,\n  \"fields\": [\n    {\n      \"column\": \"age\",\n      \"properties\": {\n        \"dtype\": \"number\",\n        \"std\": 13.625639475291196,\n        \"min\": 21.0,\n        \"max\": 64.0,\n        \"num_unique_values\": 44,\n        \"samples\": [\n          41.0,\n          49.0,\n          40.0\n        ],\n        \"semantic_type\": \"\",\n        \"description\": \"\"\n      }\n    },\n    {\n      \"column\": \"gender\",\n      \"properties\": {\n        \"dtype\": \"number\",\n        \"std\": 0,\n        \"min\": 0,\n        \"max\": 1,\n        \"num_unique_values\": 2,\n        \"samples\": [\n          1,\n          0\n        ],\n        \"semantic_type\": \"\",\n        \"description\": \"\"\n      }\n    },\n    {\n      \"column\": \"height_cm\",\n      \"properties\": {\n        \"dtype\": \"number\",\n        \"std\": 8.426582550560244,\n        \"min\": 125.0,\n        \"max\": 193.8,\n        \"num_unique_values\": 467,\n        \"samples\": [\n          164.0,\n          171.5\n        ],\n        \"semantic_type\": \"\",\n        \"description\": \"\"\n      }\n    },\n    {\n      \"column\": \"weight_kg\",\n      \"properties\": {\n        \"dtype\": \"number\",\n        \"std\": 11.949666342707433,\n        \"min\": 26.3,\n        \"max\": 138.1,\n        \"num_unique_values\": 1398,\n        \"samples\": [\n          56.3,\n          64.3\n        ],\n        \"semantic_type\": \"\",\n        \"description\": \"\"\n      }\n    },\n    {\n      \"column\": \"body fat_%\",\n      \"properties\": {\n        \"dtype\": \"number\",\n        \"std\": 7.25684407992992,\n        \"min\": 3.0,\n        \"max\": 78.4,\n        \"num_unique_values\": 527,\n        \"samples\": [\n          29.5,\n          4.9\n        ],\n        \"semantic_type\": \"\",\n        \"description\": \"\"\n      }\n    },\n    {\n      \"column\": \"diastolic\",\n      \"properties\": {\n        \"dtype\": \"number\",\n        \"std\": 10.742033099909696,\n        \"min\": 0.0,\n        \"max\": 156.2,\n        \"num_unique_values\": 89,\n        \"samples\": [\n          57.0,\n          44.0\n        ],\n        \"semantic_type\": \"\",\n        \"description\": \"\"\n      }\n    },\n    {\n      \"column\": \"systolic\",\n      \"properties\": {\n        \"dtype\": \"number\",\n        \"std\": 14.713953521704212,\n        \"min\": 0.0,\n        \"max\": 201.0,\n        \"num_unique_values\": 102,\n        \"samples\": [\n          151.0,\n          158.0\n        ],\n        \"semantic_type\": \"\",\n        \"description\": \"\"\n      }\n    },\n    {\n      \"column\": \"gripForce\",\n      \"properties\": {\n        \"dtype\": \"number\",\n        \"std\": 10.624864027335304,\n        \"min\": 0.0,\n        \"max\": 70.5,\n        \"num_unique_values\": 550,\n        \"samples\": [\n          55.4,\n          53.4\n        ],\n        \"semantic_type\": \"\",\n        \"description\": \"\"\n      }\n    },\n    {\n      \"column\": \"sit and bend forward_cm\",\n      \"properties\": {\n        \"dtype\": \"number\",\n        \"std\": 8.456677009240193,\n        \"min\": -25.0,\n        \"max\": 213.0,\n        \"num_unique_values\": 528,\n        \"samples\": [\n          11.4,\n          -8.5\n        ],\n        \"semantic_type\": \"\",\n        \"description\": \"\"\n      }\n    },\n    {\n      \"column\": \"sit-ups counts\",\n      \"properties\": {\n        \"dtype\": \"number\",\n        \"std\": 14.276698326877371,\n        \"min\": 0.0,\n        \"max\": 80.0,\n        \"num_unique_values\": 81,\n        \"samples\": [\n          56.0,\n          60.0\n        ],\n        \"semantic_type\": \"\",\n        \"description\": \"\"\n      }\n    },\n    {\n      \"column\": \"broad jump_cm\",\n      \"properties\": {\n        \"dtype\": \"number\",\n        \"std\": 39.86800013263432,\n        \"min\": 0.0,\n        \"max\": 303.0,\n        \"num_unique_values\": 245,\n        \"samples\": [\n          151.0,\n          234.0\n        ],\n        \"semantic_type\": \"\",\n        \"description\": \"\"\n      }\n    },\n    {\n      \"column\": \"class\",\n      \"properties\": {\n        \"dtype\": \"number\",\n        \"std\": 1,\n        \"min\": 0,\n        \"max\": 3,\n        \"num_unique_values\": 4,\n        \"samples\": [\n          1,\n          3\n        ],\n        \"semantic_type\": \"\",\n        \"description\": \"\"\n      }\n    }\n  ]\n}"
            }
          },
          "metadata": {},
          "execution_count": 24
        }
      ]
    },
    {
      "cell_type": "code",
      "source": [
        "df['class'].value_counts()"
      ],
      "metadata": {
        "colab": {
          "base_uri": "https://localhost:8080/",
          "height": 241
        },
        "id": "eJAqDcriXP24",
        "outputId": "ace79b0f-aa4e-4ce6-d04d-b6c6564ed6c3"
      },
      "execution_count": 25,
      "outputs": [
        {
          "output_type": "execute_result",
          "data": {
            "text/plain": [
              "class\n",
              "0    3349\n",
              "3    3349\n",
              "1    3348\n",
              "2    3347\n",
              "Name: count, dtype: int64"
            ],
            "text/html": [
              "<div>\n",
              "<style scoped>\n",
              "    .dataframe tbody tr th:only-of-type {\n",
              "        vertical-align: middle;\n",
              "    }\n",
              "\n",
              "    .dataframe tbody tr th {\n",
              "        vertical-align: top;\n",
              "    }\n",
              "\n",
              "    .dataframe thead th {\n",
              "        text-align: right;\n",
              "    }\n",
              "</style>\n",
              "<table border=\"1\" class=\"dataframe\">\n",
              "  <thead>\n",
              "    <tr style=\"text-align: right;\">\n",
              "      <th></th>\n",
              "      <th>count</th>\n",
              "    </tr>\n",
              "    <tr>\n",
              "      <th>class</th>\n",
              "      <th></th>\n",
              "    </tr>\n",
              "  </thead>\n",
              "  <tbody>\n",
              "    <tr>\n",
              "      <th>0</th>\n",
              "      <td>3349</td>\n",
              "    </tr>\n",
              "    <tr>\n",
              "      <th>3</th>\n",
              "      <td>3349</td>\n",
              "    </tr>\n",
              "    <tr>\n",
              "      <th>1</th>\n",
              "      <td>3348</td>\n",
              "    </tr>\n",
              "    <tr>\n",
              "      <th>2</th>\n",
              "      <td>3347</td>\n",
              "    </tr>\n",
              "  </tbody>\n",
              "</table>\n",
              "</div><br><label><b>dtype:</b> int64</label>"
            ]
          },
          "metadata": {},
          "execution_count": 25
        }
      ]
    },
    {
      "cell_type": "code",
      "source": [
        "plt.figure(figsize=(12,8))\n",
        "sns.heatmap(df.corr(),annot=True)"
      ],
      "metadata": {
        "colab": {
          "base_uri": "https://localhost:8080/",
          "height": 857
        },
        "id": "n4XvF5NzXUhY",
        "outputId": "0f35db91-58b4-4696-e697-530979adf1a4"
      },
      "execution_count": 26,
      "outputs": [
        {
          "output_type": "execute_result",
          "data": {
            "text/plain": [
              "<Axes: >"
            ]
          },
          "metadata": {},
          "execution_count": 26
        },
        {
          "output_type": "display_data",
          "data": {
            "text/plain": [
              "<Figure size 1200x800 with 2 Axes>"
            ],
            "image/png": "[encoded data removed]"
          },
          "metadata": {}
        }
      ]
    },
    {
      "cell_type": "code",
      "source": [
        "plt.figure(figsize=(10,7))\n",
        "df.boxplot(vert=False)"
      ],
      "metadata": {
        "colab": {
          "base_uri": "https://localhost:8080/",
          "height": 616
        },
        "id": "Jdqi5hfMXsjz",
        "outputId": "f5874276-f8e5-467b-e9b9-5f5114d57c5f"
      },
      "execution_count": 27,
      "outputs": [
        {
          "output_type": "execute_result",
          "data": {
            "text/plain": [
              "<Axes: >"
            ]
          },
          "metadata": {},
          "execution_count": 27
        },
        {
          "output_type": "display_data",
          "data": {
            "text/plain": [
              "<Figure size 1000x700 with 1 Axes>"
            ],
            "image/png": "[encoded data removed]"
          },
          "metadata": {}
        }
      ]
    },
    {
      "cell_type": "markdown",
      "source": [
        "# Data Preparation of model training:"
      ],
      "metadata": {
        "id": "lHQFfcpYZ6mL"
      }
    },
    {
      "cell_type": "markdown",
      "source": [
        "X and y:"
      ],
      "metadata": {
        "id": "JemBPIr8aZvC"
      }
    },
    {
      "cell_type": "code",
      "source": [
        "X=df.iloc[::,:-1]\n",
        "y=df.iloc[::,-1]\n",
        "print(X.shape,y.shape)"
      ],
      "metadata": {
        "colab": {
          "base_uri": "https://localhost:8080/"
        },
        "id": "0auy8MQmYJnO",
        "outputId": "9485e0b4-4978-4528-85ca-a324deeff433"
      },
      "execution_count": 28,
      "outputs": [
        {
          "output_type": "stream",
          "name": "stdout",
          "text": [
            "(13393, 11) (13393,)\n"
          ]
        }
      ]
    },
    {
      "cell_type": "markdown",
      "source": [
        "Splitting for training,validation and testing:"
      ],
      "metadata": {
        "id": "D1yoJX4WaeVi"
      }
    },
    {
      "cell_type": "code",
      "source": [
        "from sklearn.model_selection import train_test_split as tts"
      ],
      "metadata": {
        "id": "Fr08ov9PZkhi"
      },
      "execution_count": 29,
      "outputs": []
    },
    {
      "cell_type": "code",
      "source": [
        "X_dev,X_test,y_dev,y_test=tts(X,y,test_size=0.1,random_state=42)\n",
        "X_train,X_val,y_train,y_val=tts(X_dev,y_dev,test_size=0.1,random_state=42)\n",
        "\n",
        "print(f'Train:{X_train.shape},{y_train.shape}')\n",
        "print(f'Valid:{X_val.shape},{y_val.shape}')\n",
        "print(f'Test:{X_test.shape},{y_test.shape}')"
      ],
      "metadata": {
        "colab": {
          "base_uri": "https://localhost:8080/"
        },
        "id": "3kfBMGrpZ0kP",
        "outputId": "bb7a9441-8b97-468b-cd66-3c3047658869"
      },
      "execution_count": 30,
      "outputs": [
        {
          "output_type": "stream",
          "name": "stdout",
          "text": [
            "Train:(10847, 11),(10847,)\n",
            "Valid:(1206, 11),(1206,)\n",
            "Test:(1340, 11),(1340,)\n"
          ]
        }
      ]
    },
    {
      "cell_type": "markdown",
      "source": [
        "Scaling:"
      ],
      "metadata": {
        "id": "yKSOczOvGROJ"
      }
    },
    {
      "cell_type": "code",
      "source": [
        "from sklearn.preprocessing import StandardScaler"
      ],
      "metadata": {
        "id": "auHi0Mj_cFt8"
      },
      "execution_count": 31,
      "outputs": []
    },
    {
      "cell_type": "code",
      "source": [
        "Scaler=StandardScaler()"
      ],
      "metadata": {
        "id": "_J-OF8bXGXss"
      },
      "execution_count": 32,
      "outputs": []
    },
    {
      "cell_type": "code",
      "source": [
        "X_train=Scaler.fit_transform(X_train)\n",
        "X_val=Scaler.transform(X_val)\n",
        "X_test=Scaler.transform(X_test)"
      ],
      "metadata": {
        "id": "-33uGwxZGcas"
      },
      "execution_count": 33,
      "outputs": []
    },
    {
      "cell_type": "code",
      "source": [
        "pd.DataFrame(X_train,columns=df.columns[:-1]).boxplot(rot=0,vert=False)"
      ],
      "metadata": {
        "colab": {
          "base_uri": "https://localhost:8080/",
          "height": 447
        },
        "id": "vYFDrveIIh_-",
        "outputId": "46b38c58-33bd-4acd-ce35-ccb84f562674"
      },
      "execution_count": 34,
      "outputs": [
        {
          "output_type": "execute_result",
          "data": {
            "text/plain": [
              "<Axes: >"
            ]
          },
          "metadata": {},
          "execution_count": 34
        },
        {
          "output_type": "display_data",
          "data": {
            "text/plain": [
              "<Figure size 640x480 with 1 Axes>"
            ],
            "image/png": "[encoded data removed]"
          },
          "metadata": {}
        }
      ]
    },
    {
      "cell_type": "markdown",
      "source": [
        "# Tensorflow & Keras"
      ],
      "metadata": {
        "id": "KxxeJMTWJNOJ"
      }
    },
    {
      "cell_type": "code",
      "source": [
        "import tensorflow as tf"
      ],
      "metadata": {
        "id": "RyS-mYaWIxms"
      },
      "execution_count": 35,
      "outputs": []
    },
    {
      "cell_type": "code",
      "source": [
        "tf.__version__"
      ],
      "metadata": {
        "colab": {
          "base_uri": "https://localhost:8080/",
          "height": 35
        },
        "id": "X3dKwjlRJKCA",
        "outputId": "1ef7a947-44e4-4822-cc63-fd4ce09a2324"
      },
      "execution_count": 36,
      "outputs": [
        {
          "output_type": "execute_result",
          "data": {
            "text/plain": [
              "'2.18.0'"
            ],
            "application/vnd.google.colaboratory.intrinsic+json": {
              "type": "string"
            }
          },
          "metadata": {},
          "execution_count": 36
        }
      ]
    },
    {
      "cell_type": "code",
      "source": [
        "dir(tf.keras)"
      ],
      "metadata": {
        "colab": {
          "base_uri": "https://localhost:8080/"
        },
        "id": "5fQFPEu_JVU8",
        "outputId": "ce443548-9fca-4afc-ec4a-7551aa539160"
      },
      "execution_count": 37,
      "outputs": [
        {
          "output_type": "execute_result",
          "data": {
            "text/plain": [
              "['DTypePolicy',\n",
              " 'FloatDTypePolicy',\n",
              " 'Function',\n",
              " 'Initializer',\n",
              " 'Input',\n",
              " 'InputSpec',\n",
              " 'KerasTensor',\n",
              " 'Layer',\n",
              " 'Loss',\n",
              " 'Metric',\n",
              " 'Model',\n",
              " 'Operation',\n",
              " 'Optimizer',\n",
              " 'Quantizer',\n",
              " 'Regularizer',\n",
              " 'Sequential',\n",
              " 'StatelessScope',\n",
              " 'SymbolicScope',\n",
              " 'Variable',\n",
              " '__builtins__',\n",
              " '__cached__',\n",
              " '__doc__',\n",
              " '__file__',\n",
              " '__loader__',\n",
              " '__name__',\n",
              " '__package__',\n",
              " '__path__',\n",
              " '__spec__',\n",
              " '__version__',\n",
              " 'activations',\n",
              " 'applications',\n",
              " 'backend',\n",
              " 'callbacks',\n",
              " 'config',\n",
              " 'constraints',\n",
              " 'datasets',\n",
              " 'device',\n",
              " 'distribution',\n",
              " 'dtype_policies',\n",
              " 'export',\n",
              " 'initializers',\n",
              " 'layers',\n",
              " 'legacy',\n",
              " 'losses',\n",
              " 'metrics',\n",
              " 'mixed_precision',\n",
              " 'models',\n",
              " 'name_scope',\n",
              " 'ops',\n",
              " 'optimizers',\n",
              " 'preprocessing',\n",
              " 'quantizers',\n",
              " 'random',\n",
              " 'regularizers',\n",
              " 'tree',\n",
              " 'utils',\n",
              " 'version',\n",
              " 'visualization',\n",
              " 'wrappers']"
            ]
          },
          "metadata": {},
          "execution_count": 37
        }
      ]
    },
    {
      "cell_type": "code",
      "source": [
        "dir(tf.keras.Loss)"
      ],
      "metadata": {
        "colab": {
          "base_uri": "https://localhost:8080/"
        },
        "id": "YV7SWksaJ5ps",
        "outputId": "adf3eee0-9e87-47a0-8099-a26b12ede135"
      },
      "execution_count": 38,
      "outputs": [
        {
          "output_type": "execute_result",
          "data": {
            "text/plain": [
              "['__call__',\n",
              " '__class__',\n",
              " '__delattr__',\n",
              " '__dict__',\n",
              " '__dir__',\n",
              " '__doc__',\n",
              " '__eq__',\n",
              " '__format__',\n",
              " '__ge__',\n",
              " '__getattribute__',\n",
              " '__getstate__',\n",
              " '__gt__',\n",
              " '__hash__',\n",
              " '__init__',\n",
              " '__init_subclass__',\n",
              " '__le__',\n",
              " '__lt__',\n",
              " '__module__',\n",
              " '__ne__',\n",
              " '__new__',\n",
              " '__reduce__',\n",
              " '__reduce_ex__',\n",
              " '__repr__',\n",
              " '__setattr__',\n",
              " '__sizeof__',\n",
              " '__str__',\n",
              " '__subclasshook__',\n",
              " '__weakref__',\n",
              " '_api_export_path',\n",
              " '_api_export_symbol_id',\n",
              " '_obj_type',\n",
              " '_unpickle_model',\n",
              " 'call',\n",
              " 'dtype',\n",
              " 'from_config',\n",
              " 'get_config']"
            ]
          },
          "metadata": {},
          "execution_count": 38
        }
      ]
    },
    {
      "cell_type": "code",
      "source": [
        "dir(tf.keras.Metric)"
      ],
      "metadata": {
        "colab": {
          "base_uri": "https://localhost:8080/"
        },
        "id": "4UR-36jDKXsc",
        "outputId": "66de2cd8-6407-468f-90ea-ac6ca1ec83c1"
      },
      "execution_count": 39,
      "outputs": [
        {
          "output_type": "execute_result",
          "data": {
            "text/plain": [
              "['__call__',\n",
              " '__class__',\n",
              " '__delattr__',\n",
              " '__dict__',\n",
              " '__dir__',\n",
              " '__doc__',\n",
              " '__eq__',\n",
              " '__format__',\n",
              " '__ge__',\n",
              " '__getattribute__',\n",
              " '__getstate__',\n",
              " '__gt__',\n",
              " '__hash__',\n",
              " '__init__',\n",
              " '__init_subclass__',\n",
              " '__le__',\n",
              " '__lt__',\n",
              " '__module__',\n",
              " '__ne__',\n",
              " '__new__',\n",
              " '__reduce__',\n",
              " '__reduce_ex__',\n",
              " '__repr__',\n",
              " '__setattr__',\n",
              " '__sizeof__',\n",
              " '__str__',\n",
              " '__subclasshook__',\n",
              " '__weakref__',\n",
              " '_api_export_path',\n",
              " '_api_export_symbol_id',\n",
              " '_check_super_called',\n",
              " '_obj_type',\n",
              " '_unpickle_model',\n",
              " 'add_variable',\n",
              " 'add_weight',\n",
              " 'dtype',\n",
              " 'from_config',\n",
              " 'get_config',\n",
              " 'reset_state',\n",
              " 'result',\n",
              " 'stateless_reset_state',\n",
              " 'stateless_result',\n",
              " 'stateless_update_state',\n",
              " 'update_state',\n",
              " 'variables']"
            ]
          },
          "metadata": {},
          "execution_count": 39
        }
      ]
    },
    {
      "cell_type": "markdown",
      "source": [
        "Sequential API:\n",
        "\n",
        "![image.png](data:image/png;base64,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)"
      ],
      "metadata": {
        "id": "LVo_wBUqQ5Gj"
      }
    },
    {
      "cell_type": "markdown",
      "source": [
        "Functional API:\n",
        "\n",
        "![image.png](data:image/png;base64,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)"
      ],
      "metadata": {
        "id": "GKJZDY_nQ-bD"
      }
    },
    {
      "cell_type": "code",
      "source": [
        "from tensorflow.keras.models import Sequential"
      ],
      "metadata": {
        "id": "vSYpxlSRKdpM"
      },
      "execution_count": 40,
      "outputs": []
    },
    {
      "cell_type": "code",
      "source": [
        "from tensorflow.keras.layers import Dense"
      ],
      "metadata": {
        "id": "h8kEUABGT6ai"
      },
      "execution_count": 41,
      "outputs": []
    },
    {
      "cell_type": "code",
      "source": [
        "model=Sequential(\n",
        "    [\n",
        "        Dense(units=64),\n",
        "        Dense(units=4)\n",
        "    ]\n",
        ")"
      ],
      "metadata": {
        "id": "Hj0LZvsjTpHe"
      },
      "execution_count": 42,
      "outputs": []
    },
    {
      "cell_type": "code",
      "source": [
        "model.weights"
      ],
      "metadata": {
        "colab": {
          "base_uri": "https://localhost:8080/"
        },
        "id": "EMAqFIarVde-",
        "outputId": "cbece8e3-ed8d-4f8b-e411-6a818b07b1b0"
      },
      "execution_count": 43,
      "outputs": [
        {
          "output_type": "execute_result",
          "data": {
            "text/plain": [
              "[]"
            ]
          },
          "metadata": {},
          "execution_count": 43
        }
      ]
    },
    {
      "cell_type": "markdown",
      "source": [
        "We have not given input that's why it returns an empty list"
      ],
      "metadata": {
        "id": "xFlQTXsYVo3K"
      }
    },
    {
      "cell_type": "code",
      "source": [
        "model=Sequential(\n",
        "    [\n",
        "        Dense(units=64,input_shape=(11,)),\n",
        "        Dense(units=4)\n",
        "    ]\n",
        ")"
      ],
      "metadata": {
        "colab": {
          "base_uri": "https://localhost:8080/"
        },
        "id": "sQfc3SlJViQ_",
        "outputId": "6e4ab9e0-26e4-42f9-cff4-70cb68a6b796"
      },
      "execution_count": 44,
      "outputs": [
        {
          "output_type": "stream",
          "name": "stderr",
          "text": [
            "/usr/local/lib/python3.11/dist-packages/keras/src/layers/core/dense.py:87: UserWarning: Do not pass an `input_shape`/`input_dim` argument to a layer. When using Sequential models, prefer using an `Input(shape)` object as the first layer in the model instead.\n",
            "  super().__init__(activity_regularizer=activity_regularizer, **kwargs)\n"
          ]
        }
      ]
    },
    {
      "cell_type": "code",
      "source": [
        "model.weights"
      ],
      "metadata": {
        "collapsed": true,
        "colab": {
          "base_uri": "https://localhost:8080/"
        },
        "id": "b8PWaVu2WGwu",
        "outputId": "4c34af82-24be-4d67-e86c-4cd9c0df77d8"
      },
      "execution_count": 45,
      "outputs": [
        {
          "output_type": "execute_result",
          "data": {
            "text/plain": [
              "[<Variable path=sequential_1/dense_2/kernel, shape=(11, 64), dtype=float32, value=[[ 0.05995223  0.13101372 -0.1888195  -0.18487146 -0.1114103  -0.07406767\n",
              "    0.26936576  0.07356122 -0.1380407  -0.02189693 -0.27100688 -0.22893286\n",
              "   -0.26830888 -0.10217367  0.13049057 -0.19929     0.08776423 -0.09550975\n",
              "    0.10440111 -0.13952193  0.2777352  -0.14334138  0.01846889  0.06976107\n",
              "    0.11971289  0.20681015 -0.02332839  0.05104744  0.07430071  0.08140802\n",
              "   -0.16881743  0.23829821  0.25730428  0.07783404 -0.28147689  0.17448533\n",
              "    0.01352292 -0.01863849  0.00726509  0.16443205 -0.20767061 -0.08015691\n",
              "   -0.251074   -0.18231493  0.01165283 -0.13608551  0.06054142 -0.11711228\n",
              "   -0.1599187   0.16567853 -0.18762422  0.01058277  0.13642025  0.13558203\n",
              "   -0.08854298 -0.13249837  0.24917635  0.21267343 -0.22571096  0.12579027\n",
              "    0.27071795 -0.02561504 -0.25287375  0.05598444]\n",
              "  [ 0.21466753 -0.07482792 -0.222064   -0.27255836 -0.01042199  0.24208912\n",
              "   -0.05260345 -0.1982503   0.05664584  0.11389589  0.21943453  0.01023379\n",
              "   -0.0913354   0.08619374 -0.23360442 -0.08333592  0.11266291  0.0984574\n",
              "    0.01811925  0.23129913  0.13452464 -0.25876346  0.19002998  0.2044057\n",
              "    0.16801682  0.04816577 -0.15873381  0.20335323 -0.11243391  0.06645101\n",
              "   -0.21054935  0.0676339  -0.05428554 -0.1429321   0.23624548 -0.10027559\n",
              "    0.0325112  -0.07269219  0.20004049  0.26791307 -0.11944404 -0.18427028\n",
              "   -0.1873553   0.18138945  0.26363936 -0.11730433 -0.05013034  0.01826394\n",
              "   -0.25185823  0.09639511 -0.16004932  0.1212014  -0.01067325 -0.0747031\n",
              "    0.10399225 -0.11638768 -0.10607977 -0.10347867 -0.22650048 -0.05193044\n",
              "    0.1357246   0.24021575  0.02689224  0.23991469]\n",
              "  [ 0.25202915 -0.0724418  -0.08595604 -0.13405693  0.15566236 -0.02824154\n",
              "   -0.24985684 -0.05436215 -0.18779126 -0.2678502  -0.03211126  0.13642126\n",
              "   -0.05530004 -0.05184016  0.09999824  0.03232718  0.03458381 -0.1458109\n",
              "   -0.21956438 -0.26957968  0.27803412 -0.06522815 -0.04670148 -0.12664387\n",
              "   -0.14579459 -0.273872   -0.20929937 -0.18149546  0.00614569  0.20350921\n",
              "   -0.00368384  0.23947236  0.01155099 -0.22797157 -0.16852246  0.11802304\n",
              "   -0.19681291  0.24259803 -0.17689647 -0.18601575 -0.08983241  0.11122832\n",
              "    0.25876895  0.1282779  -0.04817796  0.13284916 -0.04348524 -0.0416715\n",
              "   -0.24532926 -0.05615552  0.05612004 -0.08939974  0.17223915 -0.14845665\n",
              "   -0.16420588  0.14404768  0.16263837 -0.2522697  -0.24674574  0.14946339\n",
              "   -0.19319335  0.15851882 -0.1741435  -0.12890738]\n",
              "  [-0.26726666 -0.2785492  -0.02307731  0.26256248 -0.09052408  0.10737562\n",
              "   -0.00810853  0.09019816  0.25709334 -0.13042313  0.11345124  0.16476923\n",
              "   -0.04630773  0.15132958  0.03246137 -0.13446997 -0.24329698 -0.16837686\n",
              "   -0.01847968  0.21964207  0.05302849  0.07570234  0.0889053  -0.13495274\n",
              "   -0.10333896 -0.03493845  0.08297211 -0.05527326  0.2215648  -0.0675848\n",
              "    0.23506328 -0.17445147  0.28042486 -0.12701772  0.23871091  0.0531393\n",
              "    0.13692656  0.18902478  0.03418311  0.23891613  0.20768955 -0.09126048\n",
              "    0.12922668  0.02482948  0.13819528 -0.05207308 -0.25712723 -0.19077006\n",
              "    0.17659315  0.27430758  0.1628631   0.24644408 -0.21932864 -0.19734497\n",
              "    0.05889797  0.0257692  -0.21205463 -0.2644172  -0.12307434 -0.235751\n",
              "    0.12374923  0.16688615 -0.03116795 -0.2417424 ]\n",
              "  [ 0.25733092 -0.06329384  0.21279797 -0.2525757  -0.25667688  0.10448179\n",
              "    0.03040272 -0.18761924  0.17446524 -0.12641473  0.2676386  -0.1863292\n",
              "    0.06299445  0.20304033 -0.07016325 -0.16805945  0.11472216 -0.26422197\n",
              "   -0.11391357 -0.15146674 -0.04385518 -0.15492737  0.00542441 -0.12628363\n",
              "   -0.13821658  0.19371232 -0.10676047  0.2633464   0.22732654 -0.00452083\n",
              "   -0.2065191   0.15549287 -0.10103719  0.17301714  0.10994712 -0.13260256\n",
              "   -0.23140219 -0.26783857 -0.14113194 -0.27703893 -0.24085563 -0.18097419\n",
              "    0.23964861 -0.2765042  -0.01869953  0.06139293 -0.20902269  0.09349203\n",
              "    0.24680224  0.25990203 -0.25170922 -0.00375506  0.25518653 -0.2310251\n",
              "   -0.20007764 -0.0392541  -0.22178826  0.01286674  0.0711877   0.28198156\n",
              "    0.16008535 -0.02592665 -0.10217097 -0.2623468 ]\n",
              "  [ 0.16778392  0.26362374 -0.04146758 -0.18220367 -0.0326305   0.25092247\n",
              "    0.04448739  0.1886299  -0.06716502 -0.1051015   0.16911024  0.27553782\n",
              "    0.0864239   0.07784212  0.18081957  0.17375737  0.06890815  0.1869053\n",
              "    0.18487835 -0.1144641   0.281238   -0.02599868  0.21266094  0.05960494\n",
              "   -0.00804633  0.1908814  -0.07749175 -0.02755123 -0.25671908  0.2572815\n",
              "    0.00776231 -0.00659218  0.20588541  0.2556348   0.25476047  0.03922147\n",
              "   -0.22300282 -0.03482598  0.02885664 -0.04752944  0.20958832 -0.14283589\n",
              "    0.11983848  0.17719257  0.18979454 -0.097258    0.21513298  0.09676707\n",
              "   -0.25601825  0.19040206 -0.22107844 -0.25355202  0.15959933  0.07231185\n",
              "    0.1286102  -0.18596122  0.06537151  0.13578758 -0.17571628 -0.10387135\n",
              "   -0.2128921  -0.08412512 -0.24901627  0.11372858]\n",
              "  [ 0.27601984  0.08949766 -0.2764758   0.04296246 -0.11746792 -0.0810581\n",
              "    0.00276187 -0.18641208 -0.04900303 -0.2479141   0.22865793  0.18722111\n",
              "   -0.10689305  0.07640341 -0.19482324  0.19404638 -0.05375847  0.14267024\n",
              "    0.00260118 -0.15009646 -0.26503584  0.06451994  0.113471   -0.06310436\n",
              "    0.03200388 -0.1752907  -0.02435482  0.07586461  0.12710106  0.20226663\n",
              "   -0.03390765  0.14640751 -0.26398975  0.12466761 -0.17747176  0.1830574\n",
              "    0.16706803 -0.06811821  0.11540887  0.19382155  0.27700922  0.0916141\n",
              "    0.1254968   0.01114586  0.00711647  0.12771305 -0.06042665  0.10608107\n",
              "   -0.28059983 -0.19520143 -0.03658131  0.01669088  0.00269148 -0.1170764\n",
              "    0.20308289  0.09209687  0.05675986 -0.02687269 -0.25112584 -0.18248326\n",
              "    0.27497646 -0.1420477  -0.07400629 -0.21413507]\n",
              "  [-0.1237942   0.2504457  -0.2097967   0.21933714  0.19402272 -0.2693949\n",
              "    0.23318139 -0.15143713  0.20141023  0.09597039 -0.2060983  -0.16036749\n",
              "   -0.05178729  0.16581595  0.00299054  0.2688183  -0.15528964  0.24554387\n",
              "    0.02947649  0.00221053  0.2451109  -0.08458954 -0.09428999 -0.170939\n",
              "    0.11465785  0.05643713 -0.2013322  -0.23080108  0.14951155  0.06254256\n",
              "   -0.10193981 -0.23557076 -0.08012129  0.25854453  0.03439426  0.11420354\n",
              "   -0.25388372  0.20576984 -0.1710102  -0.24661607 -0.02665225  0.27849588\n",
              "   -0.02203229  0.2738137  -0.25216007 -0.07441474  0.25946507 -0.16796094\n",
              "   -0.05347437 -0.19753999  0.09622988 -0.10732354 -0.0881031   0.21886244\n",
              "   -0.02582097  0.16362041 -0.27176943  0.06394088  0.24426469  0.18872738\n",
              "    0.20799571  0.06957036  0.02114868  0.17305726]\n",
              "  [ 0.28062376 -0.01847577 -0.10712819  0.13646308  0.2368041   0.17510054\n",
              "    0.25867578  0.20101222 -0.24096912 -0.1375713  -0.04124437 -0.1567032\n",
              "   -0.2432754  -0.07536498 -0.05769445  0.1543231   0.24299023  0.08771744\n",
              "    0.1432218   0.19406682 -0.10420178 -0.23687798 -0.13997535 -0.1007771\n",
              "    0.16806054 -0.26140112 -0.105683    0.0652521  -0.04999965  0.12080556\n",
              "    0.1516588   0.16619319  0.27112898  0.1260193   0.12877211 -0.12006505\n",
              "   -0.13528673  0.2214401  -0.1385102  -0.04776108  0.05334476 -0.20307796\n",
              "   -0.12384734  0.22281447  0.1870828  -0.19942668 -0.17829514 -0.04754589\n",
              "    0.04154977 -0.15909868  0.04599005  0.11076185 -0.2537558  -0.02988192\n",
              "   -0.07900997 -0.07971615 -0.25264224  0.26893994  0.01353723  0.16281262\n",
              "    0.24507281  0.03086776 -0.03594041  0.24165824]\n",
              "  [-0.06306268 -0.17850864  0.08575428  0.14809823 -0.11861351 -0.14882497\n",
              "   -0.04573588  0.03873795 -0.08385848 -0.1991573   0.02661267  0.02023959\n",
              "    0.10933208 -0.2827198   0.2554408   0.1196999   0.08625755  0.26282254\n",
              "   -0.00802886  0.25685748  0.18325552 -0.01498511 -0.28020468  0.27594456\n",
              "   -0.1290316   0.0274134   0.07674786 -0.03579636 -0.23556548  0.08441597\n",
              "    0.13400614 -0.00624096 -0.03627981  0.11623353  0.24016967  0.00638199\n",
              "    0.19031233  0.08009851 -0.12456371 -0.18925735  0.09338394 -0.04961197\n",
              "   -0.23066223  0.06784356  0.02655184 -0.23892766 -0.18854235 -0.10683727\n",
              "   -0.1777525  -0.00901404 -0.22414571  0.24887052  0.24121371  0.12040505\n",
              "    0.10378376 -0.04071277  0.04255882  0.00120884 -0.01499483  0.08047843\n",
              "    0.20457879  0.00455725  0.22357062  0.05948392]\n",
              "  [-0.18456611  0.13164753  0.04638326  0.125193    0.2786905   0.11221379\n",
              "   -0.11435695 -0.22010393 -0.14490438 -0.11911765  0.1674704  -0.18771943\n",
              "    0.04684505  0.26639852 -0.262295   -0.11336546 -0.20107737  0.24570534\n",
              "    0.03034452 -0.10444455  0.1298962  -0.01744887  0.17090717 -0.11519018\n",
              "   -0.13996032 -0.04938242  0.2783083   0.19076097  0.03952619 -0.04531312\n",
              "   -0.03453822  0.05076006  0.17542902 -0.11542539 -0.18589014 -0.06974716\n",
              "    0.21584651 -0.21280868  0.05569643  0.02098152 -0.07656902  0.11986423\n",
              "   -0.13736098  0.24324062  0.0139401  -0.2217888   0.18583354 -0.12098075\n",
              "    0.22606501 -0.2670392  -0.15111575  0.08225238 -0.18334615 -0.03024578\n",
              "    0.13979179  0.01455307  0.07697248 -0.08321077 -0.2526973   0.26093373\n",
              "    0.2127246   0.18082929 -0.06272921  0.27847388]]>,\n",
              " <Variable path=sequential_1/dense_2/bias, shape=(64,), dtype=float32, value=[0. 0. 0. 0. 0. 0. 0. 0. 0. 0. 0. 0. 0. 0. 0. 0. 0. 0. 0. 0. 0. 0. 0. 0.\n",
              "  0. 0. 0. 0. 0. 0. 0. 0. 0. 0. 0. 0. 0. 0. 0. 0. 0. 0. 0. 0. 0. 0. 0. 0.\n",
              "  0. 0. 0. 0. 0. 0. 0. 0. 0. 0. 0. 0. 0. 0. 0. 0.]>,\n",
              " <Variable path=sequential_1/dense_3/kernel, shape=(64, 4), dtype=float32, value=[[-1.34990394e-01 -1.42593727e-01 -1.96233392e-02  7.94512033e-03]\n",
              "  [-2.43416160e-01 -2.49720708e-01 -3.13009024e-02  2.35324025e-01]\n",
              "  [-8.26145262e-02  2.79332042e-01 -2.96503127e-01  2.62725353e-03]\n",
              "  [ 2.48964012e-01  1.88013911e-01 -1.22328684e-01  8.13045502e-02]\n",
              "  [-1.24938145e-01 -1.20716587e-01  6.87513351e-02 -2.35341445e-01]\n",
              "  [ 1.22862756e-01 -7.23721385e-02 -6.11546636e-03  1.37858719e-01]\n",
              "  [ 6.72852695e-02 -1.12801865e-01 -2.13592917e-01  2.79553413e-01]\n",
              "  [ 4.78963554e-02 -1.61040217e-01  2.11025238e-01 -2.33248621e-01]\n",
              "  [-9.65829641e-02  7.00426102e-03 -2.96070337e-01  1.25793099e-01]\n",
              "  [ 8.97189379e-02 -2.22209275e-01  1.70748711e-01  9.87667143e-02]\n",
              "  [ 2.14106381e-01 -1.86657697e-01 -6.94234371e-02  2.51262188e-01]\n",
              "  [-1.70293108e-01  1.95582181e-01  3.06427181e-02 -2.36906305e-01]\n",
              "  [ 5.99132478e-02 -2.52594978e-01 -1.81034505e-02 -1.87263921e-01]\n",
              "  [ 1.35832042e-01  8.57374370e-02  2.81654477e-01  1.30623877e-01]\n",
              "  [ 2.14181364e-01 -1.92955434e-01  1.06758207e-01  1.46907866e-02]\n",
              "  [-2.91410536e-01  1.48041040e-01 -8.13167393e-02  4.37363386e-02]\n",
              "  [ 2.78158486e-01  2.26848245e-01 -1.18448690e-01  2.38939106e-01]\n",
              "  [-1.42627016e-01 -1.70781001e-01  7.71963000e-02  2.49144793e-01]\n",
              "  [ 1.19711131e-01  1.75827980e-01  2.92143404e-01 -2.53427178e-01]\n",
              "  [ 2.22072423e-01  2.47799993e-01  3.66115570e-03 -1.90088898e-01]\n",
              "  [ 2.94120491e-01 -4.45313156e-02  4.31389213e-02 -2.07759976e-01]\n",
              "  [-9.73885506e-02 -2.92953372e-01 -2.66210854e-01 -1.94749236e-03]\n",
              "  [-8.54816437e-02 -6.40774518e-02  1.37279242e-01 -3.99763882e-02]\n",
              "  [-1.86601043e-01 -2.49634951e-01 -4.06447351e-02 -2.15310901e-01]\n",
              "  [ 1.66641861e-01  2.37709582e-02 -1.45551205e-01  3.60790491e-02]\n",
              "  [-2.33595148e-01 -4.31712866e-02 -6.87384605e-02  1.95081830e-02]\n",
              "  [-7.29183108e-02 -2.86596060e-01 -1.20387703e-01  2.77779460e-01]\n",
              "  [-3.18409801e-02 -2.41370916e-01  1.48708761e-01 -4.35370505e-02]\n",
              "  [ 2.66741157e-01 -2.93728799e-01 -2.37201348e-01  7.73788989e-02]\n",
              "  [ 8.80968571e-03  2.60924339e-01  2.40501106e-01 -9.30467248e-02]\n",
              "  [ 2.72971272e-01  1.28867209e-01 -2.11486354e-01 -4.04958129e-02]\n",
              "  [ 8.38321447e-02  1.43823743e-01 -9.75255072e-02 -2.92655230e-02]\n",
              "  [-7.77299404e-02 -2.34155059e-02 -2.82941163e-01 -2.02115476e-01]\n",
              "  [-2.08530575e-01  2.42179036e-02  5.74171841e-02 -1.44092649e-01]\n",
              "  [-4.85663414e-02 -7.41638988e-02  1.30890369e-01  6.48511052e-02]\n",
              "  [-9.00513679e-02  2.49012709e-01  1.99829817e-01 -3.94589901e-02]\n",
              "  [-8.47299546e-02 -1.95257038e-01 -2.19961494e-01 -1.73152089e-01]\n",
              "  [ 1.78569466e-01  1.24944866e-01 -1.32963002e-01 -2.57607669e-01]\n",
              "  [-2.76353180e-01  6.32810593e-02 -1.58606768e-02  3.79427075e-02]\n",
              "  [-8.52647424e-03  2.06295550e-02 -1.55247435e-01  2.78326631e-01]\n",
              "  [ 2.68505037e-01 -1.27072126e-01 -9.93985832e-02 -1.20172501e-02]\n",
              "  [ 1.99499369e-01 -1.06517434e-01  2.64278293e-01 -2.38793969e-01]\n",
              "  [ 4.20423150e-02 -2.30648786e-01  2.79482245e-01 -6.10892326e-02]\n",
              "  [ 1.53261334e-01 -1.53797731e-01 -1.92425281e-01  7.89574981e-02]\n",
              "  [-1.82590947e-01  2.92825460e-01  1.41218245e-01  2.39091218e-01]\n",
              "  [ 2.73928404e-01 -6.19256347e-02 -1.85679793e-01 -2.83870190e-01]\n",
              "  [-9.68837291e-02 -1.94676876e-01 -1.61253110e-01 -2.65830606e-01]\n",
              "  [-1.16859406e-01  6.31104708e-02  9.77315307e-02  9.20987129e-02]\n",
              "  [-5.92120588e-02  1.14700645e-01 -1.26203299e-01 -4.04484868e-02]\n",
              "  [ 1.99693054e-01 -8.69400650e-02 -1.20331109e-01  2.94678628e-01]\n",
              "  [-1.37555599e-01  2.79357135e-02  2.55691707e-01  9.83422995e-02]\n",
              "  [-9.72449780e-05 -2.37775058e-01  2.21038163e-01 -6.48274422e-02]\n",
              "  [ 1.46854103e-01 -2.85320103e-01 -6.25640750e-02 -1.79096937e-01]\n",
              "  [-2.08175182e-02  5.94576001e-02  2.38869131e-01 -1.73237920e-02]\n",
              "  [-1.76384419e-01 -1.02401674e-01 -2.31417969e-01  2.86169231e-01]\n",
              "  [-8.32623988e-02  2.17492938e-01 -1.96628571e-01 -8.96165967e-02]\n",
              "  [-3.52281332e-02  1.93455845e-01  9.47877169e-02  1.13421619e-01]\n",
              "  [-5.74260205e-02 -2.53040284e-01  1.89946115e-01 -2.25775808e-01]\n",
              "  [-1.96581542e-01  1.35151803e-01  2.53977597e-01  1.14833087e-01]\n",
              "  [ 6.73696399e-03 -2.42225945e-01  1.08517140e-01 -2.17453927e-01]\n",
              "  [-1.50944844e-01  1.95810646e-01 -9.76714790e-02  8.53418410e-02]\n",
              "  [-1.99543059e-01  1.69593900e-01  1.34006441e-02  2.18939185e-02]\n",
              "  [-1.26133114e-01 -1.09087527e-02  2.85915673e-01  8.74802768e-02]\n",
              "  [ 2.87218988e-01  4.07120585e-03 -1.69468194e-01  2.00059056e-01]]>,\n",
              " <Variable path=sequential_1/dense_3/bias, shape=(4,), dtype=float32, value=[0. 0. 0. 0.]>]"
            ]
          },
          "metadata": {},
          "execution_count": 45
        }
      ]
    },
    {
      "cell_type": "code",
      "source": [
        "model=Sequential(\n",
        "    [\n",
        "        Dense(units=64,activation=\"relu\",input_shape=(11,)),\n",
        "        Dense(units=4,activation=\"softmax\")\n",
        "    ]\n",
        ")"
      ],
      "metadata": {
        "id": "x0EX1tD1WKAO"
      },
      "execution_count": 46,
      "outputs": []
    },
    {
      "cell_type": "code",
      "source": [
        "model.weights"
      ],
      "metadata": {
        "collapsed": true,
        "colab": {
          "base_uri": "https://localhost:8080/"
        },
        "id": "OEy8DlBKY_v_",
        "outputId": "0ad416a8-c1aa-4e61-a85f-58b3f5a414f9"
      },
      "execution_count": 47,
      "outputs": [
        {
          "output_type": "execute_result",
          "data": {
            "text/plain": [
              "[<Variable path=sequential_2/dense_4/kernel, shape=(11, 64), dtype=float32, value=[[ 0.12038448  0.2609137  -0.24857484  0.18614295 -0.14809655  0.15676847\n",
              "    0.18115985 -0.05375503 -0.2370564  -0.02898839 -0.17684737 -0.13275921\n",
              "   -0.02083033 -0.2756963   0.17113328 -0.26779103  0.01599839  0.13259804\n",
              "   -0.26339227  0.04011625  0.11115628  0.042032   -0.24745037 -0.1927275\n",
              "   -0.15468204  0.21358892  0.08690587  0.22554258 -0.2808347   0.14325047\n",
              "   -0.1128282  -0.19251731 -0.20063789 -0.08603844  0.25848535 -0.03322136\n",
              "    0.2441422  -0.19143888  0.03195933  0.13505542 -0.11115783 -0.09663349\n",
              "   -0.15777098  0.17203239  0.09352994 -0.08515532  0.02170166  0.16444924\n",
              "   -0.23719512 -0.1275152   0.03684154 -0.09661683  0.10494807  0.23819539\n",
              "   -0.13819534  0.19857162 -0.20285779 -0.12750885 -0.04123877 -0.18099941\n",
              "   -0.16095626  0.26332852 -0.01951367  0.18111452]\n",
              "  [ 0.08805096  0.26024345  0.1814625   0.1649194  -0.10471813  0.10033432\n",
              "   -0.13807902  0.00971076  0.2613862   0.03652838  0.02401972  0.27072087\n",
              "    0.2665678  -0.2041648  -0.18888411  0.23421726  0.15128765  0.26065138\n",
              "    0.20772329  0.03630611  0.0564419  -0.04617885 -0.21587314 -0.06851277\n",
              "   -0.01480535 -0.07992338 -0.10447018  0.2479712   0.12863743 -0.16404268\n",
              "   -0.187797   -0.09034288  0.02507278 -0.19766867 -0.25940585  0.01315933\n",
              "    0.05920649  0.23821852 -0.20100892 -0.19830969  0.06242287 -0.06725943\n",
              "    0.2319803  -0.18789625 -0.14871405 -0.22510707  0.08368334  0.07521763\n",
              "    0.07780915 -0.21686941 -0.05191447 -0.02139077  0.26704374  0.21366835\n",
              "    0.15579695  0.01628122 -0.24667338 -0.2436649  -0.1576568   0.06268355\n",
              "   -0.14077918 -0.03717528  0.20552975 -0.07487047]\n",
              "  [ 0.09306976  0.12914678  0.19190723  0.08532801  0.06190124 -0.15296583\n",
              "    0.09762061 -0.0399884   0.00568199 -0.02015164 -0.04459912 -0.2042149\n",
              "   -0.09034605  0.15797955 -0.08050171 -0.087088   -0.27436736  0.06426269\n",
              "   -0.09977286  0.1126495   0.27383795 -0.00934985  0.06096134 -0.02985203\n",
              "   -0.20773771 -0.19457306  0.25524738 -0.00292554  0.07710838 -0.16256323\n",
              "   -0.15281363 -0.1654678  -0.19319853 -0.2766902  -0.22303769  0.21774277\n",
              "    0.01527333  0.28193972 -0.17660488  0.1916526  -0.05828896  0.10711214\n",
              "   -0.01835167  0.2563924  -0.02770984 -0.22422947 -0.13611478 -0.01483974\n",
              "    0.07895622  0.1558935  -0.02628332  0.08871219 -0.15120105  0.11677894\n",
              "   -0.27757728  0.16226685  0.24253044  0.0320968   0.06453329 -0.08976147\n",
              "    0.24999663 -0.0064345   0.25359413 -0.04643133]\n",
              "  [-0.10877623 -0.18483382  0.14276055 -0.11918017  0.18114549 -0.10229425\n",
              "   -0.09753644  0.11914307 -0.17493613 -0.10936339 -0.21819264 -0.23588318\n",
              "   -0.13606966 -0.10894847 -0.2325024   0.08656901 -0.27608258 -0.00152573\n",
              "    0.19616094 -0.21652886 -0.11084965  0.14639461 -0.02124459  0.19142237\n",
              "   -0.05730805 -0.19445121  0.24144456  0.00703219 -0.18393971  0.19079393\n",
              "   -0.25519654 -0.0928048  -0.14366081  0.17795593  0.07876897  0.10474315\n",
              "   -0.18560489 -0.07008043  0.1570014  -0.02663824  0.18976516 -0.08554576\n",
              "   -0.24047084  0.21484631  0.25169572 -0.2811006   0.22988316 -0.16890118\n",
              "    0.17099395 -0.24764363  0.10114616 -0.1754624  -0.06856605  0.05960307\n",
              "    0.2157081   0.09151861  0.18646178  0.15846467  0.13110268 -0.22657439\n",
              "    0.01521245 -0.12930977 -0.17159224  0.007249  ]\n",
              "  [-0.20186993 -0.01562402 -0.25909323  0.13716304 -0.07458705 -0.1751379\n",
              "    0.17262554  0.1660169  -0.22940497  0.2510511   0.14481199 -0.25499722\n",
              "   -0.19751167 -0.25664634 -0.11624317  0.1779753   0.22074226  0.18270269\n",
              "    0.07589698  0.14567786  0.18556866  0.18696526  0.03806049  0.1908516\n",
              "   -0.06172666  0.00463837 -0.1535434   0.2214894   0.14298525  0.09318966\n",
              "    0.12873104  0.20905519 -0.27642778  0.21517268  0.17415199 -0.09823096\n",
              "   -0.04675205  0.087239    0.27612564  0.05813581 -0.06503779 -0.05608228\n",
              "   -0.02470872  0.06870759 -0.08506078 -0.10234915 -0.11267883 -0.12414789\n",
              "    0.2645009  -0.25340542  0.1442394   0.12173048  0.22046396  0.23499909\n",
              "    0.02471349 -0.03331348 -0.24565099  0.25835785  0.2121054   0.2823048\n",
              "   -0.18424007  0.06113949  0.01216722 -0.13666895]\n",
              "  [-0.13335338  0.1394917   0.09901625  0.1217773   0.27818248 -0.08725308\n",
              "    0.02973065 -0.25593024  0.1729474  -0.01874685  0.2059181   0.14890084\n",
              "    0.01208043  0.03316668 -0.2681411  -0.2591234   0.02638218 -0.25379774\n",
              "    0.19558114 -0.27852568 -0.13360012 -0.22152938 -0.10612382  0.18878606\n",
              "   -0.13137673  0.11449972 -0.10914247 -0.22413182 -0.0893607   0.13979846\n",
              "   -0.02616712  0.25745836  0.16412011 -0.06777996 -0.13869017  0.17585602\n",
              "    0.11783376  0.20067382 -0.02268228  0.07491916 -0.07976875  0.26236227\n",
              "    0.05711794  0.07869714  0.0773651  -0.2644315  -0.12455682  0.24083242\n",
              "    0.15292463  0.08067614  0.07451725  0.06076309 -0.01929167 -0.22326387\n",
              "   -0.24852467 -0.09381127 -0.09614897 -0.14870332  0.21876422  0.19838178\n",
              "    0.09086072 -0.1176535  -0.03132361 -0.12042448]\n",
              "  [-0.16384476 -0.08238624 -0.15185915 -0.26088294  0.20293176 -0.05968075\n",
              "    0.28022644  0.22292164  0.17402852  0.23811063 -0.21183068 -0.04538022\n",
              "    0.20907441  0.18574253 -0.162221    0.04653329  0.15001425  0.04125315\n",
              "    0.14168146  0.09151301  0.2018942  -0.05409753 -0.15716426 -0.25142202\n",
              "   -0.16674992  0.00220183  0.04540363  0.0157389   0.16074485  0.06571725\n",
              "   -0.02697939 -0.01760209  0.14439282 -0.25616512  0.17153713 -0.23587151\n",
              "   -0.24062966  0.14118803  0.18666658  0.06850198 -0.02661508  0.18115976\n",
              "    0.08800417  0.225544   -0.16100657 -0.10710277  0.13610399  0.18531755\n",
              "    0.18875766 -0.02876568 -0.16983819  0.06811276  0.11164606 -0.26361316\n",
              "   -0.18164052  0.23687485  0.15786195 -0.03033763  0.1861279   0.01523417\n",
              "    0.03082728  0.07188204  0.2137641  -0.23325813]\n",
              "  [-0.00722978  0.14273432 -0.06010762  0.24396065 -0.00288346  0.23892549\n",
              "   -0.23939303 -0.074396   -0.15194903 -0.27616045  0.22633204  0.08458865\n",
              "    0.15138736 -0.00231922 -0.1581428   0.25122783 -0.04060474  0.03002447\n",
              "   -0.15943128 -0.03229055 -0.03830664  0.25170663 -0.09670201  0.01688787\n",
              "   -0.1351294  -0.0188567   0.08408168 -0.06801039 -0.2700186  -0.17491765\n",
              "   -0.2628291  -0.24126719  0.06050542 -0.00903082  0.0550549  -0.14835414\n",
              "   -0.16848153 -0.17897926  0.18115363 -0.036566   -0.2603628  -0.08699049\n",
              "    0.2157372  -0.27447054  0.10567307  0.10466877 -0.21716538 -0.2583983\n",
              "    0.2073718  -0.19657925  0.06799138 -0.22985429 -0.18314156 -0.14065841\n",
              "   -0.20670292 -0.18088815 -0.13056812  0.04545358  0.12138414 -0.12883483\n",
              "    0.17230806  0.20127651 -0.12366992 -0.23345067]\n",
              "  [ 0.00493503 -0.17172414 -0.24862926 -0.18821993 -0.07033028 -0.24814878\n",
              "    0.24675223  0.23505703  0.2773874  -0.02888906  0.05102313  0.25098512\n",
              "    0.23713937  0.20530343 -0.26304254 -0.13209584  0.25971916 -0.02624738\n",
              "   -0.19446301 -0.2566858  -0.1977599   0.08325568  0.18373922  0.22097585\n",
              "    0.02314308  0.05479401 -0.20569254 -0.17285016  0.12108034  0.2546843\n",
              "   -0.04883033 -0.04979485  0.08961669  0.1766299  -0.17619509  0.01779622\n",
              "   -0.1188558   0.15652442  0.265772   -0.192011    0.23742232 -0.16825008\n",
              "   -0.08958121 -0.20145082  0.08182201 -0.24163586 -0.23991713 -0.26981583\n",
              "   -0.20119166 -0.07409187  0.2634854   0.05343169 -0.13694692 -0.14660718\n",
              "   -0.11145826  0.17401543 -0.0381725   0.25227305  0.20857716 -0.22638476\n",
              "    0.10915947  0.07308346  0.01155382  0.21541736]\n",
              "  [-0.20922062  0.02087948  0.22151002 -0.07766929  0.27139148  0.26871976\n",
              "   -0.23144616 -0.06389482  0.22268513  0.03477222  0.17431957 -0.09959307\n",
              "   -0.12163527  0.01800278  0.02385661 -0.04454868 -0.06611452 -0.11579452\n",
              "   -0.14575149  0.12891522 -0.11389913 -0.19004588  0.04724088  0.03424031\n",
              "    0.23256168 -0.067444    0.13438305  0.1297574  -0.21501246  0.1494596\n",
              "   -0.21832386  0.09422243  0.2367867   0.17974877  0.10611108  0.1347892\n",
              "    0.11617842 -0.22599088  0.18464637  0.20379123 -0.09346506  0.2764732\n",
              "    0.17769766  0.25216994  0.26424113 -0.26742622 -0.19464892  0.16274086\n",
              "    0.07272592 -0.22367482 -0.2207207  -0.0823627  -0.2495196   0.11995783\n",
              "    0.19303265  0.00465161 -0.21053243 -0.04425912  0.15821639 -0.11606717\n",
              "   -0.16086704 -0.25737968  0.07162017 -0.03155255]\n",
              "  [ 0.1362446  -0.2285619   0.1533941   0.14821294 -0.01988301  0.18443367\n",
              "   -0.0666424   0.14392099 -0.06458402  0.28180447  0.05389941 -0.15792102\n",
              "    0.00953019 -0.2790829   0.15841341  0.03163105 -0.2590887  -0.26871213\n",
              "    0.26105407  0.11842787 -0.16011426 -0.03792427 -0.06542756 -0.13965774\n",
              "    0.10065174  0.21296     0.22476861  0.22728184  0.10554206 -0.00075832\n",
              "    0.2650254  -0.16708097  0.24380645 -0.22969231 -0.09526524  0.18955988\n",
              "   -0.01835129  0.26718363  0.0264852  -0.24040395 -0.19116503  0.07524151\n",
              "    0.12770003 -0.19830309  0.14395455 -0.0030964   0.1975398   0.16540548\n",
              "   -0.10646996  0.07481599 -0.02519587  0.2085456  -0.03633888  0.00466967\n",
              "   -0.05821478 -0.08067487  0.08247748  0.00207558  0.17201695 -0.12415235\n",
              "    0.24285826 -0.12781669  0.01776311 -0.05870362]]>,\n",
              " <Variable path=sequential_2/dense_4/bias, shape=(64,), dtype=float32, value=[0. 0. 0. 0. 0. 0. 0. 0. 0. 0. 0. 0. 0. 0. 0. 0. 0. 0. 0. 0. 0. 0. 0. 0.\n",
              "  0. 0. 0. 0. 0. 0. 0. 0. 0. 0. 0. 0. 0. 0. 0. 0. 0. 0. 0. 0. 0. 0. 0. 0.\n",
              "  0. 0. 0. 0. 0. 0. 0. 0. 0. 0. 0. 0. 0. 0. 0. 0.]>,\n",
              " <Variable path=sequential_2/dense_5/kernel, shape=(64, 4), dtype=float32, value=[[ 1.91367269e-01 -2.59386688e-01 -5.58516830e-02 -2.46047646e-01]\n",
              "  [-3.60350013e-02  8.48962963e-02 -3.30301523e-02 -1.09136105e-04]\n",
              "  [-1.47314221e-01  2.02435851e-02 -1.84864372e-01  1.43270195e-01]\n",
              "  [-2.72223979e-01  2.24625468e-02  3.46412659e-02  8.79546404e-02]\n",
              "  [ 2.52450049e-01  1.13365650e-01 -2.73582458e-01 -2.40180433e-01]\n",
              "  [-2.42492512e-01  9.97482836e-02 -2.69119740e-01 -2.48593733e-01]\n",
              "  [-2.32997701e-01 -1.04447618e-01  4.70856130e-02  1.60312623e-01]\n",
              "  [-2.89222479e-01 -3.93907726e-02  7.16147125e-02  1.45650834e-01]\n",
              "  [-2.14283139e-01  2.03411698e-01 -1.15368903e-01  3.92800570e-03]\n",
              "  [-2.98826694e-02  1.03771925e-01  1.56939417e-01 -1.01985455e-01]\n",
              "  [ 1.30424649e-01 -2.64069855e-01  8.02526474e-02  1.53779387e-01]\n",
              "  [-2.52522171e-01  2.54730463e-01  1.25329286e-01  7.73409307e-02]\n",
              "  [-2.69757509e-02 -5.10223359e-02 -2.84020960e-01 -8.19642544e-02]\n",
              "  [-9.38880444e-03 -1.32140845e-01  1.19795203e-01 -1.72853142e-01]\n",
              "  [ 1.56146288e-01 -1.63429722e-01  1.74856603e-01 -1.35868222e-01]\n",
              "  [ 1.17157996e-01 -9.23296660e-02 -7.97057748e-02  5.34620881e-03]\n",
              "  [-1.54977962e-01  1.58524185e-01  1.89380765e-01  1.56907260e-01]\n",
              "  [ 1.60876811e-02  2.80269921e-01 -5.09835929e-02 -2.77113020e-02]\n",
              "  [ 1.15774840e-01 -7.20218569e-02 -2.71890104e-01 -1.05312690e-01]\n",
              "  [ 6.54612184e-02  1.64705992e-01  2.62054503e-01  5.07813692e-03]\n",
              "  [-1.99943274e-01 -2.76425779e-01  1.05427206e-01 -2.41521627e-01]\n",
              "  [ 9.02611911e-02  6.74681365e-02  1.03976309e-01  2.19245374e-01]\n",
              "  [ 1.48708820e-02  4.23089564e-02 -6.57484680e-02 -2.40830272e-01]\n",
              "  [ 2.39340007e-01 -2.47629583e-01 -9.36326981e-02 -9.59556997e-02]\n",
              "  [-4.11613882e-02 -2.48479247e-02  7.74861872e-02  1.39225751e-01]\n",
              "  [-1.24922395e-02 -1.75035134e-01 -2.33440131e-01 -2.44316503e-01]\n",
              "  [ 1.12329334e-01  2.57103503e-01 -2.68519402e-01 -8.26656818e-03]\n",
              "  [-3.63043249e-02 -3.95414233e-02  8.28055441e-02 -2.34662130e-01]\n",
              "  [-2.09521011e-01 -1.06924713e-01  1.64141893e-01  2.64649510e-01]\n",
              "  [ 5.38295209e-02  2.14104593e-01  2.30317771e-01  2.65515029e-01]\n",
              "  [ 3.41687202e-02  1.82460994e-01  1.86313570e-01  1.18897557e-02]\n",
              "  [-2.09675536e-01  1.11851573e-01  2.61947393e-01  2.89077342e-01]\n",
              "  [-1.91346705e-02 -2.67036706e-01 -2.10818738e-01  1.62729025e-01]\n",
              "  [-1.94371343e-02 -2.81305760e-01  4.94942367e-02  2.06229508e-01]\n",
              "  [ 2.85334766e-01 -1.34203434e-01 -1.04295209e-01  2.49166727e-01]\n",
              "  [-2.60700554e-01  2.90804684e-01  1.92703247e-01 -2.19837546e-01]\n",
              "  [ 2.53848493e-01 -2.52466023e-01 -7.68203288e-02  6.29839003e-02]\n",
              "  [ 2.68159389e-01  2.67174602e-01  1.94564432e-01  1.14208013e-01]\n",
              "  [-2.59803832e-01 -1.59189597e-01 -2.27590948e-01 -1.41856119e-01]\n",
              "  [ 1.49061441e-01  2.66962349e-01 -3.28907073e-02  4.92976308e-02]\n",
              "  [-1.75962180e-01 -3.60316634e-02 -2.74365366e-01  1.22148305e-01]\n",
              "  [ 1.17681056e-01 -5.47692180e-03  2.52893567e-03 -2.34278426e-01]\n",
              "  [-8.02836716e-02 -2.46984616e-01  1.85516834e-01  2.24167883e-01]\n",
              "  [ 5.19993007e-02 -6.47392720e-02  9.27376747e-02  3.39476466e-02]\n",
              "  [ 2.79938579e-01  4.83201742e-02 -1.93687648e-01 -9.98404324e-02]\n",
              "  [-5.09641171e-02  1.83981299e-01 -4.94692326e-02  2.66510189e-01]\n",
              "  [ 2.26296902e-01  4.19095159e-02  3.32279503e-02  2.01736033e-01]\n",
              "  [ 2.88146615e-01  1.47243828e-01  1.52907014e-01  1.07064098e-01]\n",
              "  [-9.61649418e-03 -1.17291763e-01 -6.20325059e-02 -1.84269249e-01]\n",
              "  [-1.57473758e-01 -2.43235916e-01 -1.08295456e-01  1.39941275e-01]\n",
              "  [ 2.66848862e-01 -1.50254339e-01  1.28669709e-01 -1.45211473e-01]\n",
              "  [ 2.33255506e-01 -9.84996557e-02  8.24568868e-02  2.39211321e-01]\n",
              "  [ 2.39876986e-01 -2.16115639e-01  2.45897412e-01 -1.49023339e-01]\n",
              "  [-1.56354710e-01 -2.45746374e-02 -2.32812643e-01 -1.00362301e-02]\n",
              "  [-2.47833192e-01 -2.11069718e-01  2.04630733e-01 -2.18278930e-01]\n",
              "  [-1.19864941e-02  7.47720301e-02 -1.54679164e-01 -2.04703063e-01]\n",
              "  [ 4.81839776e-02 -1.35247335e-01  1.11106545e-01  2.47495770e-01]\n",
              "  [-2.08497226e-01  1.11795574e-01  3.60260904e-02 -1.95382178e-01]\n",
              "  [-2.54404098e-01  2.64761984e-01 -2.04603702e-01 -1.10527873e-01]\n",
              "  [-1.10146508e-01  2.10275471e-01 -2.92307436e-02  2.16449678e-01]\n",
              "  [ 1.58171684e-01 -1.47891626e-01  2.38624632e-01 -1.08543187e-01]\n",
              "  [ 1.96195990e-01 -9.40783769e-02  8.10683668e-02  2.79613674e-01]\n",
              "  [-2.42778212e-01 -1.91327840e-01 -2.41277933e-01 -1.89236075e-01]\n",
              "  [-1.48296058e-02  1.47589296e-01  1.27774805e-01  1.84191644e-01]]>,\n",
              " <Variable path=sequential_2/dense_5/bias, shape=(4,), dtype=float32, value=[0. 0. 0. 0.]>]"
            ]
          },
          "metadata": {},
          "execution_count": 47
        }
      ]
    },
    {
      "cell_type": "code",
      "source": [
        "for params in model.weights:\n",
        "  print(params.shape)"
      ],
      "metadata": {
        "colab": {
          "base_uri": "https://localhost:8080/"
        },
        "id": "lroaHmlVZCTB",
        "outputId": "c8fd7b9b-93d0-4638-8f45-ffeb15293b22"
      },
      "execution_count": 48,
      "outputs": [
        {
          "output_type": "stream",
          "name": "stdout",
          "text": [
            "(11, 64)\n",
            "(64,)\n",
            "(64, 4)\n",
            "(4,)\n"
          ]
        }
      ]
    },
    {
      "cell_type": "code",
      "source": [
        "model.summary()"
      ],
      "metadata": {
        "colab": {
          "base_uri": "https://localhost:8080/",
          "height": 193
        },
        "id": "Qi1nSSQiZS3u",
        "outputId": "559ea30e-6ea5-4898-a93a-ac3f1cd60492"
      },
      "execution_count": 49,
      "outputs": [
        {
          "output_type": "display_data",
          "data": {
            "text/plain": [
              "\u001b[1mModel: \"sequential_2\"\u001b[0m\n"
            ],
            "text/html": [
              "<pre style=\"white-space:pre;overflow-x:auto;line-height:normal;font-family:Menlo,'DejaVu Sans Mono',consolas,'Courier New',monospace\"><span style=\"font-weight: bold\">Model: \"sequential_2\"</span>\n",
              "</pre>\n"
            ]
          },
          "metadata": {}
        },
        {
          "output_type": "display_data",
          "data": {
            "text/plain": [
              "┏━━━━━━━━━━━━━━━━━━━━━━━━━━━━━━━━━━━━━━┳━━━━━━━━━━━━━━━━━━━━━━━━━━━━━┳━━━━━━━━━━━━━━━━━┓\n",
              "┃\u001b[1m \u001b[0m\u001b[1mLayer (type)                        \u001b[0m\u001b[1m \u001b[0m┃\u001b[1m \u001b[0m\u001b[1mOutput Shape               \u001b[0m\u001b[1m \u001b[0m┃\u001b[1m \u001b[0m\u001b[1m        Param #\u001b[0m\u001b[1m \u001b[0m┃\n",
              "┡━━━━━━━━━━━━━━━━━━━━━━━━━━━━━━━━━━━━━━╇━━━━━━━━━━━━━━━━━━━━━━━━━━━━━╇━━━━━━━━━━━━━━━━━┩\n",
              "│ dense_4 (\u001b[38;5;33mDense\u001b[0m)                      │ (\u001b[38;5;45mNone\u001b[0m, \u001b[38;5;34m64\u001b[0m)                  │             \u001b[38;5;34m768\u001b[0m │\n",
              "├──────────────────────────────────────┼─────────────────────────────┼─────────────────┤\n",
              "│ dense_5 (\u001b[38;5;33mDense\u001b[0m)                      │ (\u001b[38;5;45mNone\u001b[0m, \u001b[38;5;34m4\u001b[0m)                   │             \u001b[38;5;34m260\u001b[0m │\n",
              "└──────────────────────────────────────┴─────────────────────────────┴─────────────────┘\n"
            ],
            "text/html": [
              "<pre style=\"white-space:pre;overflow-x:auto;line-height:normal;font-family:Menlo,'DejaVu Sans Mono',consolas,'Courier New',monospace\">┏━━━━━━━━━━━━━━━━━━━━━━━━━━━━━━━━━━━━━━┳━━━━━━━━━━━━━━━━━━━━━━━━━━━━━┳━━━━━━━━━━━━━━━━━┓\n",
              "┃<span style=\"font-weight: bold\"> Layer (type)                         </span>┃<span style=\"font-weight: bold\"> Output Shape                </span>┃<span style=\"font-weight: bold\">         Param # </span>┃\n",
              "┡━━━━━━━━━━━━━━━━━━━━━━━━━━━━━━━━━━━━━━╇━━━━━━━━━━━━━━━━━━━━━━━━━━━━━╇━━━━━━━━━━━━━━━━━┩\n",
              "│ dense_4 (<span style=\"color: #0087ff; text-decoration-color: #0087ff\">Dense</span>)                      │ (<span style=\"color: #00d7ff; text-decoration-color: #00d7ff\">None</span>, <span style=\"color: #00af00; text-decoration-color: #00af00\">64</span>)                  │             <span style=\"color: #00af00; text-decoration-color: #00af00\">768</span> │\n",
              "├──────────────────────────────────────┼─────────────────────────────┼─────────────────┤\n",
              "│ dense_5 (<span style=\"color: #0087ff; text-decoration-color: #0087ff\">Dense</span>)                      │ (<span style=\"color: #00d7ff; text-decoration-color: #00d7ff\">None</span>, <span style=\"color: #00af00; text-decoration-color: #00af00\">4</span>)                   │             <span style=\"color: #00af00; text-decoration-color: #00af00\">260</span> │\n",
              "└──────────────────────────────────────┴─────────────────────────────┴─────────────────┘\n",
              "</pre>\n"
            ]
          },
          "metadata": {}
        },
        {
          "output_type": "display_data",
          "data": {
            "text/plain": [
              "\u001b[1m Total params: \u001b[0m\u001b[38;5;34m1,028\u001b[0m (4.02 KB)\n"
            ],
            "text/html": [
              "<pre style=\"white-space:pre;overflow-x:auto;line-height:normal;font-family:Menlo,'DejaVu Sans Mono',consolas,'Courier New',monospace\"><span style=\"font-weight: bold\"> Total params: </span><span style=\"color: #00af00; text-decoration-color: #00af00\">1,028</span> (4.02 KB)\n",
              "</pre>\n"
            ]
          },
          "metadata": {}
        },
        {
          "output_type": "display_data",
          "data": {
            "text/plain": [
              "\u001b[1m Trainable params: \u001b[0m\u001b[38;5;34m1,028\u001b[0m (4.02 KB)\n"
            ],
            "text/html": [
              "<pre style=\"white-space:pre;overflow-x:auto;line-height:normal;font-family:Menlo,'DejaVu Sans Mono',consolas,'Courier New',monospace\"><span style=\"font-weight: bold\"> Trainable params: </span><span style=\"color: #00af00; text-decoration-color: #00af00\">1,028</span> (4.02 KB)\n",
              "</pre>\n"
            ]
          },
          "metadata": {}
        },
        {
          "output_type": "display_data",
          "data": {
            "text/plain": [
              "\u001b[1m Non-trainable params: \u001b[0m\u001b[38;5;34m0\u001b[0m (0.00 B)\n"
            ],
            "text/html": [
              "<pre style=\"white-space:pre;overflow-x:auto;line-height:normal;font-family:Menlo,'DejaVu Sans Mono',consolas,'Courier New',monospace\"><span style=\"font-weight: bold\"> Non-trainable params: </span><span style=\"color: #00af00; text-decoration-color: #00af00\">0</span> (0.00 B)\n",
              "</pre>\n"
            ]
          },
          "metadata": {}
        }
      ]
    },
    {
      "cell_type": "markdown",
      "source": [
        "Naming the layers:"
      ],
      "metadata": {
        "id": "QsoKhZb6gjAV"
      }
    },
    {
      "cell_type": "code",
      "source": [
        "model=Sequential(\n",
        "    [\n",
        "        Dense(64,activation='relu',input_shape=(X.shape[1],),name='hidden_1'),\n",
        "        Dense(4,activation='softmax',name='output')\n",
        "    ]\n",
        ")"
      ],
      "metadata": {
        "id": "vcJe2tPHf2BP"
      },
      "execution_count": 50,
      "outputs": []
    },
    {
      "cell_type": "code",
      "source": [
        "model.summary()"
      ],
      "metadata": {
        "colab": {
          "base_uri": "https://localhost:8080/",
          "height": 193
        },
        "id": "mhyykC0-hC3e",
        "outputId": "058fa86a-7be5-4b39-c1fd-09f49ec9ff46"
      },
      "execution_count": 51,
      "outputs": [
        {
          "output_type": "display_data",
          "data": {
            "text/plain": [
              "\u001b[1mModel: \"sequential_3\"\u001b[0m\n"
            ],
            "text/html": [
              "<pre style=\"white-space:pre;overflow-x:auto;line-height:normal;font-family:Menlo,'DejaVu Sans Mono',consolas,'Courier New',monospace\"><span style=\"font-weight: bold\">Model: \"sequential_3\"</span>\n",
              "</pre>\n"
            ]
          },
          "metadata": {}
        },
        {
          "output_type": "display_data",
          "data": {
            "text/plain": [
              "┏━━━━━━━━━━━━━━━━━━━━━━━━━━━━━━━━━━━━━━┳━━━━━━━━━━━━━━━━━━━━━━━━━━━━━┳━━━━━━━━━━━━━━━━━┓\n",
              "┃\u001b[1m \u001b[0m\u001b[1mLayer (type)                        \u001b[0m\u001b[1m \u001b[0m┃\u001b[1m \u001b[0m\u001b[1mOutput Shape               \u001b[0m\u001b[1m \u001b[0m┃\u001b[1m \u001b[0m\u001b[1m        Param #\u001b[0m\u001b[1m \u001b[0m┃\n",
              "┡━━━━━━━━━━━━━━━━━━━━━━━━━━━━━━━━━━━━━━╇━━━━━━━━━━━━━━━━━━━━━━━━━━━━━╇━━━━━━━━━━━━━━━━━┩\n",
              "│ hidden_1 (\u001b[38;5;33mDense\u001b[0m)                     │ (\u001b[38;5;45mNone\u001b[0m, \u001b[38;5;34m64\u001b[0m)                  │             \u001b[38;5;34m768\u001b[0m │\n",
              "├──────────────────────────────────────┼─────────────────────────────┼─────────────────┤\n",
              "│ output (\u001b[38;5;33mDense\u001b[0m)                       │ (\u001b[38;5;45mNone\u001b[0m, \u001b[38;5;34m4\u001b[0m)                   │             \u001b[38;5;34m260\u001b[0m │\n",
              "└──────────────────────────────────────┴─────────────────────────────┴─────────────────┘\n"
            ],
            "text/html": [
              "<pre style=\"white-space:pre;overflow-x:auto;line-height:normal;font-family:Menlo,'DejaVu Sans Mono',consolas,'Courier New',monospace\">┏━━━━━━━━━━━━━━━━━━━━━━━━━━━━━━━━━━━━━━┳━━━━━━━━━━━━━━━━━━━━━━━━━━━━━┳━━━━━━━━━━━━━━━━━┓\n",
              "┃<span style=\"font-weight: bold\"> Layer (type)                         </span>┃<span style=\"font-weight: bold\"> Output Shape                </span>┃<span style=\"font-weight: bold\">         Param # </span>┃\n",
              "┡━━━━━━━━━━━━━━━━━━━━━━━━━━━━━━━━━━━━━━╇━━━━━━━━━━━━━━━━━━━━━━━━━━━━━╇━━━━━━━━━━━━━━━━━┩\n",
              "│ hidden_1 (<span style=\"color: #0087ff; text-decoration-color: #0087ff\">Dense</span>)                     │ (<span style=\"color: #00d7ff; text-decoration-color: #00d7ff\">None</span>, <span style=\"color: #00af00; text-decoration-color: #00af00\">64</span>)                  │             <span style=\"color: #00af00; text-decoration-color: #00af00\">768</span> │\n",
              "├──────────────────────────────────────┼─────────────────────────────┼─────────────────┤\n",
              "│ output (<span style=\"color: #0087ff; text-decoration-color: #0087ff\">Dense</span>)                       │ (<span style=\"color: #00d7ff; text-decoration-color: #00d7ff\">None</span>, <span style=\"color: #00af00; text-decoration-color: #00af00\">4</span>)                   │             <span style=\"color: #00af00; text-decoration-color: #00af00\">260</span> │\n",
              "└──────────────────────────────────────┴─────────────────────────────┴─────────────────┘\n",
              "</pre>\n"
            ]
          },
          "metadata": {}
        },
        {
          "output_type": "display_data",
          "data": {
            "text/plain": [
              "\u001b[1m Total params: \u001b[0m\u001b[38;5;34m1,028\u001b[0m (4.02 KB)\n"
            ],
            "text/html": [
              "<pre style=\"white-space:pre;overflow-x:auto;line-height:normal;font-family:Menlo,'DejaVu Sans Mono',consolas,'Courier New',monospace\"><span style=\"font-weight: bold\"> Total params: </span><span style=\"color: #00af00; text-decoration-color: #00af00\">1,028</span> (4.02 KB)\n",
              "</pre>\n"
            ]
          },
          "metadata": {}
        },
        {
          "output_type": "display_data",
          "data": {
            "text/plain": [
              "\u001b[1m Trainable params: \u001b[0m\u001b[38;5;34m1,028\u001b[0m (4.02 KB)\n"
            ],
            "text/html": [
              "<pre style=\"white-space:pre;overflow-x:auto;line-height:normal;font-family:Menlo,'DejaVu Sans Mono',consolas,'Courier New',monospace\"><span style=\"font-weight: bold\"> Trainable params: </span><span style=\"color: #00af00; text-decoration-color: #00af00\">1,028</span> (4.02 KB)\n",
              "</pre>\n"
            ]
          },
          "metadata": {}
        },
        {
          "output_type": "display_data",
          "data": {
            "text/plain": [
              "\u001b[1m Non-trainable params: \u001b[0m\u001b[38;5;34m0\u001b[0m (0.00 B)\n"
            ],
            "text/html": [
              "<pre style=\"white-space:pre;overflow-x:auto;line-height:normal;font-family:Menlo,'DejaVu Sans Mono',consolas,'Courier New',monospace\"><span style=\"font-weight: bold\"> Non-trainable params: </span><span style=\"color: #00af00; text-decoration-color: #00af00\">0</span> (0.00 B)\n",
              "</pre>\n"
            ]
          },
          "metadata": {}
        }
      ]
    },
    {
      "cell_type": "code",
      "source": [
        "from tensorflow.keras.utils import plot_model\n",
        "\n",
        "plot_model(\n",
        "    model,\n",
        "    to_file='model.png',\n",
        "    show_shapes=True,show_layer_names=True\n",
        ")"
      ],
      "metadata": {
        "colab": {
          "base_uri": "https://localhost:8080/",
          "height": 606
        },
        "id": "gCrRZVO_hE6P",
        "outputId": "8a871ba0-3074-47df-8821-556a2a156960"
      },
      "execution_count": 52,
      "outputs": [
        {
          "output_type": "execute_result",
          "data": {
            "image/png": "[encoded data removed]",
            "text/plain": [
              "<IPython.core.display.Image object>"
            ]
          },
          "metadata": {},
          "execution_count": 52
        }
      ]
    },
    {
      "cell_type": "markdown",
      "source": [
        "Weight and bias initializer:"
      ],
      "metadata": {
        "id": "3QVoqCf_d3R_"
      }
    },
    {
      "cell_type": "code",
      "source": [
        "model_X=Sequential(\n",
        "    [\n",
        "        Dense(units=64,activation='relu',input_shape=(X.shape[1],),name='hidden_layer-1',kernel_initializer='random_uniform',bias_initializer='zeros'),\n",
        "        Dense(units=4,activation='softmax',name='output',kernel_initializer='he_uniform',bias_initializer='zeros')\n",
        "    ]\n",
        ")"
      ],
      "metadata": {
        "colab": {
          "base_uri": "https://localhost:8080/"
        },
        "id": "p8krXPKwT4mu",
        "outputId": "78a357c2-14e7-4870-c2ba-4432f84b23e8"
      },
      "execution_count": 53,
      "outputs": [
        {
          "output_type": "stream",
          "name": "stderr",
          "text": [
            "/usr/local/lib/python3.11/dist-packages/keras/src/layers/core/dense.py:87: UserWarning: Do not pass an `input_shape`/`input_dim` argument to a layer. When using Sequential models, prefer using an `Input(shape)` object as the first layer in the model instead.\n",
            "  super().__init__(activity_regularizer=activity_regularizer, **kwargs)\n"
          ]
        }
      ]
    },
    {
      "cell_type": "code",
      "source": [
        "model_X.summary()"
      ],
      "metadata": {
        "colab": {
          "base_uri": "https://localhost:8080/",
          "height": 193
        },
        "id": "Z09OqZ0EfS7G",
        "outputId": "fb63ad4f-91c5-438a-b8f2-4f9478fec2f1"
      },
      "execution_count": 54,
      "outputs": [
        {
          "output_type": "display_data",
          "data": {
            "text/plain": [
              "\u001b[1mModel: \"sequential_4\"\u001b[0m\n"
            ],
            "text/html": [
              "<pre style=\"white-space:pre;overflow-x:auto;line-height:normal;font-family:Menlo,'DejaVu Sans Mono',consolas,'Courier New',monospace\"><span style=\"font-weight: bold\">Model: \"sequential_4\"</span>\n",
              "</pre>\n"
            ]
          },
          "metadata": {}
        },
        {
          "output_type": "display_data",
          "data": {
            "text/plain": [
              "┏━━━━━━━━━━━━━━━━━━━━━━━━━━━━━━━━━━━━━━┳━━━━━━━━━━━━━━━━━━━━━━━━━━━━━┳━━━━━━━━━━━━━━━━━┓\n",
              "┃\u001b[1m \u001b[0m\u001b[1mLayer (type)                        \u001b[0m\u001b[1m \u001b[0m┃\u001b[1m \u001b[0m\u001b[1mOutput Shape               \u001b[0m\u001b[1m \u001b[0m┃\u001b[1m \u001b[0m\u001b[1m        Param #\u001b[0m\u001b[1m \u001b[0m┃\n",
              "┡━━━━━━━━━━━━━━━━━━━━━━━━━━━━━━━━━━━━━━╇━━━━━━━━━━━━━━━━━━━━━━━━━━━━━╇━━━━━━━━━━━━━━━━━┩\n",
              "│ hidden_layer-1 (\u001b[38;5;33mDense\u001b[0m)               │ (\u001b[38;5;45mNone\u001b[0m, \u001b[38;5;34m64\u001b[0m)                  │             \u001b[38;5;34m768\u001b[0m │\n",
              "├──────────────────────────────────────┼─────────────────────────────┼─────────────────┤\n",
              "│ output (\u001b[38;5;33mDense\u001b[0m)                       │ (\u001b[38;5;45mNone\u001b[0m, \u001b[38;5;34m4\u001b[0m)                   │             \u001b[38;5;34m260\u001b[0m │\n",
              "└──────────────────────────────────────┴─────────────────────────────┴─────────────────┘\n"
            ],
            "text/html": [
              "<pre style=\"white-space:pre;overflow-x:auto;line-height:normal;font-family:Menlo,'DejaVu Sans Mono',consolas,'Courier New',monospace\">┏━━━━━━━━━━━━━━━━━━━━━━━━━━━━━━━━━━━━━━┳━━━━━━━━━━━━━━━━━━━━━━━━━━━━━┳━━━━━━━━━━━━━━━━━┓\n",
              "┃<span style=\"font-weight: bold\"> Layer (type)                         </span>┃<span style=\"font-weight: bold\"> Output Shape                </span>┃<span style=\"font-weight: bold\">         Param # </span>┃\n",
              "┡━━━━━━━━━━━━━━━━━━━━━━━━━━━━━━━━━━━━━━╇━━━━━━━━━━━━━━━━━━━━━━━━━━━━━╇━━━━━━━━━━━━━━━━━┩\n",
              "│ hidden_layer-1 (<span style=\"color: #0087ff; text-decoration-color: #0087ff\">Dense</span>)               │ (<span style=\"color: #00d7ff; text-decoration-color: #00d7ff\">None</span>, <span style=\"color: #00af00; text-decoration-color: #00af00\">64</span>)                  │             <span style=\"color: #00af00; text-decoration-color: #00af00\">768</span> │\n",
              "├──────────────────────────────────────┼─────────────────────────────┼─────────────────┤\n",
              "│ output (<span style=\"color: #0087ff; text-decoration-color: #0087ff\">Dense</span>)                       │ (<span style=\"color: #00d7ff; text-decoration-color: #00d7ff\">None</span>, <span style=\"color: #00af00; text-decoration-color: #00af00\">4</span>)                   │             <span style=\"color: #00af00; text-decoration-color: #00af00\">260</span> │\n",
              "└──────────────────────────────────────┴─────────────────────────────┴─────────────────┘\n",
              "</pre>\n"
            ]
          },
          "metadata": {}
        },
        {
          "output_type": "display_data",
          "data": {
            "text/plain": [
              "\u001b[1m Total params: \u001b[0m\u001b[38;5;34m1,028\u001b[0m (4.02 KB)\n"
            ],
            "text/html": [
              "<pre style=\"white-space:pre;overflow-x:auto;line-height:normal;font-family:Menlo,'DejaVu Sans Mono',consolas,'Courier New',monospace\"><span style=\"font-weight: bold\"> Total params: </span><span style=\"color: #00af00; text-decoration-color: #00af00\">1,028</span> (4.02 KB)\n",
              "</pre>\n"
            ]
          },
          "metadata": {}
        },
        {
          "output_type": "display_data",
          "data": {
            "text/plain": [
              "\u001b[1m Trainable params: \u001b[0m\u001b[38;5;34m1,028\u001b[0m (4.02 KB)\n"
            ],
            "text/html": [
              "<pre style=\"white-space:pre;overflow-x:auto;line-height:normal;font-family:Menlo,'DejaVu Sans Mono',consolas,'Courier New',monospace\"><span style=\"font-weight: bold\"> Trainable params: </span><span style=\"color: #00af00; text-decoration-color: #00af00\">1,028</span> (4.02 KB)\n",
              "</pre>\n"
            ]
          },
          "metadata": {}
        },
        {
          "output_type": "display_data",
          "data": {
            "text/plain": [
              "\u001b[1m Non-trainable params: \u001b[0m\u001b[38;5;34m0\u001b[0m (0.00 B)\n"
            ],
            "text/html": [
              "<pre style=\"white-space:pre;overflow-x:auto;line-height:normal;font-family:Menlo,'DejaVu Sans Mono',consolas,'Courier New',monospace\"><span style=\"font-weight: bold\"> Non-trainable params: </span><span style=\"color: #00af00; text-decoration-color: #00af00\">0</span> (0.00 B)\n",
              "</pre>\n"
            ]
          },
          "metadata": {}
        }
      ]
    },
    {
      "cell_type": "code",
      "source": [
        "# Plot histograms of weight and bias values\n",
        "import matplotlib.pyplot as plt\n",
        "fig, axes = plt.subplots(2, 2, figsize=(5,5))\n",
        "fig.subplots_adjust(hspace=0.5, wspace=0.5)\n",
        "\n",
        "# get the weights from the layers\n",
        "weight_layers = [layer for layer in model_X.layers]\n",
        "\n",
        "for i, layer in enumerate(weight_layers):\n",
        "    for j in [0, 1]:\n",
        "        axes[i, j].hist(layer.weights[j].numpy().flatten(), align='left')\n",
        "        axes[i, j].set_title(layer.weights[j].name)"
      ],
      "metadata": {
        "colab": {
          "base_uri": "https://localhost:8080/",
          "height": 468
        },
        "id": "ITumE81yfWDW",
        "outputId": "cfeb8fed-a1be-4bcd-9e42-38cd54c7f3ba"
      },
      "execution_count": 55,
      "outputs": [
        {
          "output_type": "display_data",
          "data": {
            "text/plain": [
              "<Figure size 500x500 with 4 Axes>"
            ],
            "image/png": "[encoded data removed]"
          },
          "metadata": {}
        }
      ]
    },
    {
      "cell_type": "markdown",
      "source": [
        "Compiling the model:"
      ],
      "metadata": {
        "id": "q0-aAchQkCEF"
      }
    },
    {
      "cell_type": "code",
      "source": [
        "my_precision=tf.keras.metrics.Precision()\n",
        "f1=tf.keras.metrics.F1Score()\n",
        "accuracy=tf.keras.metrics.Accuracy()"
      ],
      "metadata": {
        "id": "HhSMcKAHmREO"
      },
      "execution_count": 56,
      "outputs": []
    },
    {
      "cell_type": "code",
      "source": [
        "model_2c=Sequential(\n",
        "    [\n",
        "        Dense(units=64,activation='relu',input_shape=(X.shape[1],),name='hidden-1',kernel_initializer='random_uniform',bias_initializer='zeros'),\n",
        "        Dense(units=4,activation='softmax',name='output',kernel_initializer='he_uniform',bias_initializer='zeros')\n",
        "    ]\n",
        ")\n",
        "\n",
        "model_2c.compile(\n",
        "    optimizer='Adam', #other optimizers: rmsprop,adadelts,SGD\n",
        "    loss='binary_crossentropy', #other loss: sigmoid loss, mean_squared_error, categorical_crossentropy, SparseCategoricalCrossentropy\n",
        "    metrics=[accuracy,f1,my_precision]\n",
        ")"
      ],
      "metadata": {
        "id": "5nWBJHjugFGM"
      },
      "execution_count": 57,
      "outputs": []
    },
    {
      "cell_type": "code",
      "source": [
        "model_2c.compile(\n",
        "    optimizer=tf.keras.optimizers.SGD(learning_rate=0.01),\n",
        "    loss=tf.keras.losses.SparseCategoricalCrossentropy() #if y in is not in one hot encoded form\n",
        ")"
      ],
      "metadata": {
        "id": "rXwpy0nrg8Zz"
      },
      "execution_count": 58,
      "outputs": []
    },
    {
      "cell_type": "code",
      "source": [
        "model_2c.loss"
      ],
      "metadata": {
        "colab": {
          "base_uri": "https://localhost:8080/"
        },
        "id": "hgvzWbCRn1iW",
        "outputId": "a092bb22-99a1-4d33-8d4c-0885edb1dd90"
      },
      "execution_count": 59,
      "outputs": [
        {
          "output_type": "execute_result",
          "data": {
            "text/plain": [
              "<LossFunctionWrapper(<function sparse_categorical_crossentropy at 0x7bda8cae8400>, kwargs={'from_logits': False, 'ignore_class': None})>"
            ]
          },
          "metadata": {},
          "execution_count": 59
        }
      ]
    },
    {
      "cell_type": "code",
      "source": [
        "model_2c.optimizer"
      ],
      "metadata": {
        "colab": {
          "base_uri": "https://localhost:8080/"
        },
        "id": "8MJWPsuPoHIz",
        "outputId": "fae1d4dd-cf69-49e3-d98b-8d75f2b0c520"
      },
      "execution_count": 60,
      "outputs": [
        {
          "output_type": "execute_result",
          "data": {
            "text/plain": [
              "<keras.src.optimizers.sgd.SGD at 0x7bdae9db5ad0>"
            ]
          },
          "metadata": {},
          "execution_count": 60
        }
      ]
    },
    {
      "cell_type": "markdown",
      "source": [
        "# Fitting the dataset in the model:"
      ],
      "metadata": {
        "id": "vHb3tVD_yOSW"
      }
    },
    {
      "cell_type": "markdown",
      "source": [
        "Model creattion:"
      ],
      "metadata": {
        "id": "6TLEJE8-1x3e"
      }
    },
    {
      "cell_type": "code",
      "source": [
        "def create_model():\n",
        "  model=Sequential(\n",
        "      [\n",
        "          Dense(units=32,activation='relu',input_shape=(X.shape[1],),name='hidden-1'),\n",
        "          Dense(units=16,activation='relu',name='hidden-2'),\n",
        "          Dense(units=4,activation='softmax',name='output')\n",
        "      ]\n",
        "  )\n",
        "  model.compile(\n",
        "      optimizer=tf.keras.optimizers.Adam(learning_rate=0.001),\n",
        "      loss=tf.keras.losses.SparseCategoricalCrossentropy(),\n",
        "      metrics=['accuracy']\n",
        "  )\n",
        "  return model\n",
        "\n",
        "model=create_model()"
      ],
      "metadata": {
        "id": "r916qSCP0bTT"
      },
      "execution_count": 61,
      "outputs": []
    },
    {
      "cell_type": "code",
      "source": [
        "model.summary()"
      ],
      "metadata": {
        "colab": {
          "base_uri": "https://localhost:8080/",
          "height": 225
        },
        "id": "CjMt-tk_39X3",
        "outputId": "f2971873-6f90-4e89-a28b-56d05e5c3999"
      },
      "execution_count": 62,
      "outputs": [
        {
          "output_type": "display_data",
          "data": {
            "text/plain": [
              "\u001b[1mModel: \"sequential_6\"\u001b[0m\n"
            ],
            "text/html": [
              "<pre style=\"white-space:pre;overflow-x:auto;line-height:normal;font-family:Menlo,'DejaVu Sans Mono',consolas,'Courier New',monospace\"><span style=\"font-weight: bold\">Model: \"sequential_6\"</span>\n",
              "</pre>\n"
            ]
          },
          "metadata": {}
        },
        {
          "output_type": "display_data",
          "data": {
            "text/plain": [
              "┏━━━━━━━━━━━━━━━━━━━━━━━━━━━━━━━━━━━━━━┳━━━━━━━━━━━━━━━━━━━━━━━━━━━━━┳━━━━━━━━━━━━━━━━━┓\n",
              "┃\u001b[1m \u001b[0m\u001b[1mLayer (type)                        \u001b[0m\u001b[1m \u001b[0m┃\u001b[1m \u001b[0m\u001b[1mOutput Shape               \u001b[0m\u001b[1m \u001b[0m┃\u001b[1m \u001b[0m\u001b[1m        Param #\u001b[0m\u001b[1m \u001b[0m┃\n",
              "┡━━━━━━━━━━━━━━━━━━━━━━━━━━━━━━━━━━━━━━╇━━━━━━━━━━━━━━━━━━━━━━━━━━━━━╇━━━━━━━━━━━━━━━━━┩\n",
              "│ hidden-1 (\u001b[38;5;33mDense\u001b[0m)                     │ (\u001b[38;5;45mNone\u001b[0m, \u001b[38;5;34m32\u001b[0m)                  │             \u001b[38;5;34m384\u001b[0m │\n",
              "├──────────────────────────────────────┼─────────────────────────────┼─────────────────┤\n",
              "│ hidden-2 (\u001b[38;5;33mDense\u001b[0m)                     │ (\u001b[38;5;45mNone\u001b[0m, \u001b[38;5;34m16\u001b[0m)                  │             \u001b[38;5;34m528\u001b[0m │\n",
              "├──────────────────────────────────────┼─────────────────────────────┼─────────────────┤\n",
              "│ output (\u001b[38;5;33mDense\u001b[0m)                       │ (\u001b[38;5;45mNone\u001b[0m, \u001b[38;5;34m4\u001b[0m)                   │              \u001b[38;5;34m68\u001b[0m │\n",
              "└──────────────────────────────────────┴─────────────────────────────┴─────────────────┘\n"
            ],
            "text/html": [
              "<pre style=\"white-space:pre;overflow-x:auto;line-height:normal;font-family:Menlo,'DejaVu Sans Mono',consolas,'Courier New',monospace\">┏━━━━━━━━━━━━━━━━━━━━━━━━━━━━━━━━━━━━━━┳━━━━━━━━━━━━━━━━━━━━━━━━━━━━━┳━━━━━━━━━━━━━━━━━┓\n",
              "┃<span style=\"font-weight: bold\"> Layer (type)                         </span>┃<span style=\"font-weight: bold\"> Output Shape                </span>┃<span style=\"font-weight: bold\">         Param # </span>┃\n",
              "┡━━━━━━━━━━━━━━━━━━━━━━━━━━━━━━━━━━━━━━╇━━━━━━━━━━━━━━━━━━━━━━━━━━━━━╇━━━━━━━━━━━━━━━━━┩\n",
              "│ hidden-1 (<span style=\"color: #0087ff; text-decoration-color: #0087ff\">Dense</span>)                     │ (<span style=\"color: #00d7ff; text-decoration-color: #00d7ff\">None</span>, <span style=\"color: #00af00; text-decoration-color: #00af00\">32</span>)                  │             <span style=\"color: #00af00; text-decoration-color: #00af00\">384</span> │\n",
              "├──────────────────────────────────────┼─────────────────────────────┼─────────────────┤\n",
              "│ hidden-2 (<span style=\"color: #0087ff; text-decoration-color: #0087ff\">Dense</span>)                     │ (<span style=\"color: #00d7ff; text-decoration-color: #00d7ff\">None</span>, <span style=\"color: #00af00; text-decoration-color: #00af00\">16</span>)                  │             <span style=\"color: #00af00; text-decoration-color: #00af00\">528</span> │\n",
              "├──────────────────────────────────────┼─────────────────────────────┼─────────────────┤\n",
              "│ output (<span style=\"color: #0087ff; text-decoration-color: #0087ff\">Dense</span>)                       │ (<span style=\"color: #00d7ff; text-decoration-color: #00d7ff\">None</span>, <span style=\"color: #00af00; text-decoration-color: #00af00\">4</span>)                   │              <span style=\"color: #00af00; text-decoration-color: #00af00\">68</span> │\n",
              "└──────────────────────────────────────┴─────────────────────────────┴─────────────────┘\n",
              "</pre>\n"
            ]
          },
          "metadata": {}
        },
        {
          "output_type": "display_data",
          "data": {
            "text/plain": [
              "\u001b[1m Total params: \u001b[0m\u001b[38;5;34m980\u001b[0m (3.83 KB)\n"
            ],
            "text/html": [
              "<pre style=\"white-space:pre;overflow-x:auto;line-height:normal;font-family:Menlo,'DejaVu Sans Mono',consolas,'Courier New',monospace\"><span style=\"font-weight: bold\"> Total params: </span><span style=\"color: #00af00; text-decoration-color: #00af00\">980</span> (3.83 KB)\n",
              "</pre>\n"
            ]
          },
          "metadata": {}
        },
        {
          "output_type": "display_data",
          "data": {
            "text/plain": [
              "\u001b[1m Trainable params: \u001b[0m\u001b[38;5;34m980\u001b[0m (3.83 KB)\n"
            ],
            "text/html": [
              "<pre style=\"white-space:pre;overflow-x:auto;line-height:normal;font-family:Menlo,'DejaVu Sans Mono',consolas,'Courier New',monospace\"><span style=\"font-weight: bold\"> Trainable params: </span><span style=\"color: #00af00; text-decoration-color: #00af00\">980</span> (3.83 KB)\n",
              "</pre>\n"
            ]
          },
          "metadata": {}
        },
        {
          "output_type": "display_data",
          "data": {
            "text/plain": [
              "\u001b[1m Non-trainable params: \u001b[0m\u001b[38;5;34m0\u001b[0m (0.00 B)\n"
            ],
            "text/html": [
              "<pre style=\"white-space:pre;overflow-x:auto;line-height:normal;font-family:Menlo,'DejaVu Sans Mono',consolas,'Courier New',monospace\"><span style=\"font-weight: bold\"> Non-trainable params: </span><span style=\"color: #00af00; text-decoration-color: #00af00\">0</span> (0.00 B)\n",
              "</pre>\n"
            ]
          },
          "metadata": {}
        }
      ]
    },
    {
      "cell_type": "code",
      "source": [
        "history=model.fit(X_train,y_train,validation_data=(X_val,y_val),epochs=100,batch_size=512,verbose=0)"
      ],
      "metadata": {
        "id": "M1CostlE3_Hm"
      },
      "execution_count": 63,
      "outputs": []
    },
    {
      "cell_type": "code",
      "source": [
        "history.__dict__.keys()"
      ],
      "metadata": {
        "colab": {
          "base_uri": "https://localhost:8080/"
        },
        "id": "tr3fzQVT4s6J",
        "outputId": "fdfea7f0-f00d-4c22-be9c-01bcf991af9a"
      },
      "execution_count": 64,
      "outputs": [
        {
          "output_type": "execute_result",
          "data": {
            "text/plain": [
              "dict_keys(['params', '_model', 'history', 'epoch'])"
            ]
          },
          "metadata": {},
          "execution_count": 64
        }
      ]
    },
    {
      "cell_type": "code",
      "source": [
        "history.history.keys()"
      ],
      "metadata": {
        "colab": {
          "base_uri": "https://localhost:8080/"
        },
        "id": "USSFZSpI5TQr",
        "outputId": "f01fbb16-7e23-4779-f58c-9b37d35df22e"
      },
      "execution_count": 65,
      "outputs": [
        {
          "output_type": "execute_result",
          "data": {
            "text/plain": [
              "dict_keys(['accuracy', 'loss', 'val_accuracy', 'val_loss'])"
            ]
          },
          "metadata": {},
          "execution_count": 65
        }
      ]
    },
    {
      "cell_type": "code",
      "source": [
        "epochs=history.epoch\n",
        "loss=history.history['loss']\n",
        "accuracy=history.history['accuracy']\n",
        "val_accuracy=history.history['val_accuracy']\n",
        "val_loss=history.history['val_loss']"
      ],
      "metadata": {
        "id": "cZBJQhnx5XzH"
      },
      "execution_count": 66,
      "outputs": []
    },
    {
      "cell_type": "code",
      "source": [
        "plt.plot(epochs,loss,label='Train')\n",
        "plt.plot(epochs,val_loss,label='Val')\n",
        "plt.xlabel('Epochs')\n",
        "plt.ylabel('Val and Train loss')\n",
        "plt.legend()\n",
        "plt.title(\"Epochs vs Loss\")\n",
        "plt.show()"
      ],
      "metadata": {
        "colab": {
          "base_uri": "https://localhost:8080/",
          "height": 472
        },
        "id": "vpNWWSXu5658",
        "outputId": "4a13cb8c-358a-4cbc-f21c-c684a25eacdf"
      },
      "execution_count": 67,
      "outputs": [
        {
          "output_type": "display_data",
          "data": {
            "text/plain": [
              "<Figure size 640x480 with 1 Axes>"
            ],
            "image/png": "[encoded data removed]"
          },
          "metadata": {}
        }
      ]
    },
    {
      "cell_type": "code",
      "source": [
        "plt.plot(epochs,accuracy,label='Train')\n",
        "plt.plot(epochs,val_accuracy,label='Val')\n",
        "plt.xlabel('Epochs')\n",
        "plt.ylabel('Val and Train accuracy')\n",
        "plt.legend()\n",
        "plt.title(\"Epochs vs Accuracy\")\n",
        "plt.show()"
      ],
      "metadata": {
        "colab": {
          "base_uri": "https://localhost:8080/",
          "height": 472
        },
        "id": "UyK3pF1C58Na",
        "outputId": "fc7250a9-ea3f-4346-90d3-d039608b3254"
      },
      "execution_count": 68,
      "outputs": [
        {
          "output_type": "display_data",
          "data": {
            "text/plain": [
              "<Figure size 640x480 with 1 Axes>"
            ],
            "image/png": "[encoded data removed]"
          },
          "metadata": {}
        }
      ]
    },
    {
      "cell_type": "markdown",
      "source": [
        "# Regression using Sequential API:"
      ],
      "metadata": {
        "id": "j-FMEyIS6_xZ"
      }
    },
    {
      "cell_type": "code",
      "source": [
        "from sklearn.datasets import load_iris"
      ],
      "metadata": {
        "id": "RbLajYqhOo1v"
      },
      "execution_count": 69,
      "outputs": []
    },
    {
      "cell_type": "code",
      "source": [
        "data,target=load_iris(return_X_y=True)"
      ],
      "metadata": {
        "id": "mi-gcEz17NBG"
      },
      "execution_count": 70,
      "outputs": []
    },
    {
      "cell_type": "code",
      "source": [
        "iris=pd.DataFrame(data,columns=['Sepal_length','Sepal_width','Petal_length','Petal_width'])\n",
        "iris"
      ],
      "metadata": {
        "id": "R51NoRj07RZm",
        "outputId": "a72aa691-5bbd-405e-a4ea-e0377225bc57",
        "colab": {
          "base_uri": "https://localhost:8080/",
          "height": 424
        }
      },
      "execution_count": 71,
      "outputs": [
        {
          "output_type": "execute_result",
          "data": {
            "text/plain": [
              "     Sepal_length  Sepal_width  Petal_length  Petal_width\n",
              "0             5.1          3.5           1.4          0.2\n",
              "1             4.9          3.0           1.4          0.2\n",
              "2             4.7          3.2           1.3          0.2\n",
              "3             4.6          3.1           1.5          0.2\n",
              "4             5.0          3.6           1.4          0.2\n",
              "..            ...          ...           ...          ...\n",
              "145           6.7          3.0           5.2          2.3\n",
              "146           6.3          2.5           5.0          1.9\n",
              "147           6.5          3.0           5.2          2.0\n",
              "148           6.2          3.4           5.4          2.3\n",
              "149           5.9          3.0           5.1          1.8\n",
              "\n",
              "[150 rows x 4 columns]"
            ],
            "text/html": [
              "\n",
              "  <div id=\"df-22530b3f-da4e-4723-9935-75ba78642504\" class=\"colab-df-container\">\n",
              "    <div>\n",
              "<style scoped>\n",
              "    .dataframe tbody tr th:only-of-type {\n",
              "        vertical-align: middle;\n",
              "    }\n",
              "\n",
              "    .dataframe tbody tr th {\n",
              "        vertical-align: top;\n",
              "    }\n",
              "\n",
              "    .dataframe thead th {\n",
              "        text-align: right;\n",
              "    }\n",
              "</style>\n",
              "<table border=\"1\" class=\"dataframe\">\n",
              "  <thead>\n",
              "    <tr style=\"text-align: right;\">\n",
              "      <th></th>\n",
              "      <th>Sepal_length</th>\n",
              "      <th>Sepal_width</th>\n",
              "      <th>Petal_length</th>\n",
              "      <th>Petal_width</th>\n",
              "    </tr>\n",
              "  </thead>\n",
              "  <tbody>\n",
              "    <tr>\n",
              "      <th>0</th>\n",
              "      <td>5.1</td>\n",
              "      <td>3.5</td>\n",
              "      <td>1.4</td>\n",
              "      <td>0.2</td>\n",
              "    </tr>\n",
              "    <tr>\n",
              "      <th>1</th>\n",
              "      <td>4.9</td>\n",
              "      <td>3.0</td>\n",
              "      <td>1.4</td>\n",
              "      <td>0.2</td>\n",
              "    </tr>\n",
              "    <tr>\n",
              "      <th>2</th>\n",
              "      <td>4.7</td>\n",
              "      <td>3.2</td>\n",
              "      <td>1.3</td>\n",
              "      <td>0.2</td>\n",
              "    </tr>\n",
              "    <tr>\n",
              "      <th>3</th>\n",
              "      <td>4.6</td>\n",
              "      <td>3.1</td>\n",
              "      <td>1.5</td>\n",
              "      <td>0.2</td>\n",
              "    </tr>\n",
              "    <tr>\n",
              "      <th>4</th>\n",
              "      <td>5.0</td>\n",
              "      <td>3.6</td>\n",
              "      <td>1.4</td>\n",
              "      <td>0.2</td>\n",
              "    </tr>\n",
              "    <tr>\n",
              "      <th>...</th>\n",
              "      <td>...</td>\n",
              "      <td>...</td>\n",
              "      <td>...</td>\n",
              "      <td>...</td>\n",
              "    </tr>\n",
              "    <tr>\n",
              "      <th>145</th>\n",
              "      <td>6.7</td>\n",
              "      <td>3.0</td>\n",
              "      <td>5.2</td>\n",
              "      <td>2.3</td>\n",
              "    </tr>\n",
              "    <tr>\n",
              "      <th>146</th>\n",
              "      <td>6.3</td>\n",
              "      <td>2.5</td>\n",
              "      <td>5.0</td>\n",
              "      <td>1.9</td>\n",
              "    </tr>\n",
              "    <tr>\n",
              "      <th>147</th>\n",
              "      <td>6.5</td>\n",
              "      <td>3.0</td>\n",
              "      <td>5.2</td>\n",
              "      <td>2.0</td>\n",
              "    </tr>\n",
              "    <tr>\n",
              "      <th>148</th>\n",
              "      <td>6.2</td>\n",
              "      <td>3.4</td>\n",
              "      <td>5.4</td>\n",
              "      <td>2.3</td>\n",
              "    </tr>\n",
              "    <tr>\n",
              "      <th>149</th>\n",
              "      <td>5.9</td>\n",
              "      <td>3.0</td>\n",
              "      <td>5.1</td>\n",
              "      <td>1.8</td>\n",
              "    </tr>\n",
              "  </tbody>\n",
              "</table>\n",
              "<p>150 rows × 4 columns</p>\n",
              "</div>\n",
              "    <div class=\"colab-df-buttons\">\n",
              "\n",
              "  <div class=\"colab-df-container\">\n",
              "    <button class=\"colab-df-convert\" onclick=\"convertToInteractive('df-22530b3f-da4e-4723-9935-75ba78642504')\"\n",
              "            title=\"Convert this dataframe to an interactive table.\"\n",
              "            style=\"display:none;\">\n",
              "\n",
              "  <svg xmlns=\"http://www.w3.org/2000/svg\" height=\"24px\" viewBox=\"0 -960 960 960\">\n",
              "    <path d=\"M120-120v-720h720v720H120Zm60-500h600v-160H180v160Zm220 220h160v-160H400v160Zm0 220h160v-160H400v160ZM180-400h160v-160H180v160Zm440 0h160v-160H620v160ZM180-180h160v-160H180v160Zm440 0h160v-160H620v160Z\"/>\n",
              "  </svg>\n",
              "    </button>\n",
              "\n",
              "  <style>\n",
              "    .colab-df-container {\n",
              "      display:flex;\n",
              "      gap: 12px;\n",
              "    }\n",
              "\n",
              "    .colab-df-convert {\n",
              "      background-color: #E8F0FE;\n",
              "      border: none;\n",
              "      border-radius: 50%;\n",
              "      cursor: pointer;\n",
              "      display: none;\n",
              "      fill: #1967D2;\n",
              "      height: 32px;\n",
              "      padding: 0 0 0 0;\n",
              "      width: 32px;\n",
              "    }\n",
              "\n",
              "    .colab-df-convert:hover {\n",
              "      background-color: #E2EBFA;\n",
              "      box-shadow: 0px 1px 2px rgba(60, 64, 67, 0.3), 0px 1px 3px 1px rgba(60, 64, 67, 0.15);\n",
              "      fill: #174EA6;\n",
              "    }\n",
              "\n",
              "    .colab-df-buttons div {\n",
              "      margin-bottom: 4px;\n",
              "    }\n",
              "\n",
              "    [theme=dark] .colab-df-convert {\n",
              "      background-color: #3B4455;\n",
              "      fill: #D2E3FC;\n",
              "    }\n",
              "\n",
              "    [theme=dark] .colab-df-convert:hover {\n",
              "      background-color: #434B5C;\n",
              "      box-shadow: 0px 1px 3px 1px rgba(0, 0, 0, 0.15);\n",
              "      filter: drop-shadow(0px 1px 2px rgba(0, 0, 0, 0.3));\n",
              "      fill: #FFFFFF;\n",
              "    }\n",
              "  </style>\n",
              "\n",
              "    <script>\n",
              "      const buttonEl =\n",
              "        document.querySelector('#df-22530b3f-da4e-4723-9935-75ba78642504 button.colab-df-convert');\n",
              "      buttonEl.style.display =\n",
              "        google.colab.kernel.accessAllowed ? 'block' : 'none';\n",
              "\n",
              "      async function convertToInteractive(key) {\n",
              "        const element = document.querySelector('#df-22530b3f-da4e-4723-9935-75ba78642504');\n",
              "        const dataTable =\n",
              "          await google.colab.kernel.invokeFunction('convertToInteractive',\n",
              "                                                    [key], {});\n",
              "        if (!dataTable) return;\n",
              "\n",
              "        const docLinkHtml = 'Like what you see? Visit the ' +\n",
              "          '<a target=\"_blank\" href=https://colab.research.google.com/notebooks/data_table.ipynb>data table notebook</a>'\n",
              "          + ' to learn more about interactive tables.';\n",
              "        element.innerHTML = '';\n",
              "        dataTable['output_type'] = 'display_data';\n",
              "        await google.colab.output.renderOutput(dataTable, element);\n",
              "        const docLink = document.createElement('div');\n",
              "        docLink.innerHTML = docLinkHtml;\n",
              "        element.appendChild(docLink);\n",
              "      }\n",
              "    </script>\n",
              "  </div>\n",
              "\n",
              "\n",
              "<div id=\"df-d7523ce5-2d63-4ac0-b22f-b5efb6307e88\">\n",
              "  <button class=\"colab-df-quickchart\" onclick=\"quickchart('df-d7523ce5-2d63-4ac0-b22f-b5efb6307e88')\"\n",
              "            title=\"Suggest charts\"\n",
              "            style=\"display:none;\">\n",
              "\n",
              "<svg xmlns=\"http://www.w3.org/2000/svg\" height=\"24px\"viewBox=\"0 0 24 24\"\n",
              "     width=\"24px\">\n",
              "    <g>\n",
              "        <path d=\"M19 3H5c-1.1 0-2 .9-2 2v14c0 1.1.9 2 2 2h14c1.1 0 2-.9 2-2V5c0-1.1-.9-2-2-2zM9 17H7v-7h2v7zm4 0h-2V7h2v10zm4 0h-2v-4h2v4z\"/>\n",
              "    </g>\n",
              "</svg>\n",
              "  </button>\n",
              "\n",
              "<style>\n",
              "  .colab-df-quickchart {\n",
              "      --bg-color: #E8F0FE;\n",
              "      --fill-color: #1967D2;\n",
              "      --hover-bg-color: #E2EBFA;\n",
              "      --hover-fill-color: #174EA6;\n",
              "      --disabled-fill-color: #AAA;\n",
              "      --disabled-bg-color: #DDD;\n",
              "  }\n",
              "\n",
              "  [theme=dark] .colab-df-quickchart {\n",
              "      --bg-color: #3B4455;\n",
              "      --fill-color: #D2E3FC;\n",
              "      --hover-bg-color: #434B5C;\n",
              "      --hover-fill-color: #FFFFFF;\n",
              "      --disabled-bg-color: #3B4455;\n",
              "      --disabled-fill-color: #666;\n",
              "  }\n",
              "\n",
              "  .colab-df-quickchart {\n",
              "    background-color: var(--bg-color);\n",
              "    border: none;\n",
              "    border-radius: 50%;\n",
              "    cursor: pointer;\n",
              "    display: none;\n",
              "    fill: var(--fill-color);\n",
              "    height: 32px;\n",
              "    padding: 0;\n",
              "    width: 32px;\n",
              "  }\n",
              "\n",
              "  .colab-df-quickchart:hover {\n",
              "    background-color: var(--hover-bg-color);\n",
              "    box-shadow: 0 1px 2px rgba(60, 64, 67, 0.3), 0 1px 3px 1px rgba(60, 64, 67, 0.15);\n",
              "    fill: var(--button-hover-fill-color);\n",
              "  }\n",
              "\n",
              "  .colab-df-quickchart-complete:disabled,\n",
              "  .colab-df-quickchart-complete:disabled:hover {\n",
              "    background-color: var(--disabled-bg-color);\n",
              "    fill: var(--disabled-fill-color);\n",
              "    box-shadow: none;\n",
              "  }\n",
              "\n",
              "  .colab-df-spinner {\n",
              "    border: 2px solid var(--fill-color);\n",
              "    border-color: transparent;\n",
              "    border-bottom-color: var(--fill-color);\n",
              "    animation:\n",
              "      spin 1s steps(1) infinite;\n",
              "  }\n",
              "\n",
              "  @keyframes spin {\n",
              "    0% {\n",
              "      border-color: transparent;\n",
              "      border-bottom-color: var(--fill-color);\n",
              "      border-left-color: var(--fill-color);\n",
              "    }\n",
              "    20% {\n",
              "      border-color: transparent;\n",
              "      border-left-color: var(--fill-color);\n",
              "      border-top-color: var(--fill-color);\n",
              "    }\n",
              "    30% {\n",
              "      border-color: transparent;\n",
              "      border-left-color: var(--fill-color);\n",
              "      border-top-color: var(--fill-color);\n",
              "      border-right-color: var(--fill-color);\n",
              "    }\n",
              "    40% {\n",
              "      border-color: transparent;\n",
              "      border-right-color: var(--fill-color);\n",
              "      border-top-color: var(--fill-color);\n",
              "    }\n",
              "    60% {\n",
              "      border-color: transparent;\n",
              "      border-right-color: var(--fill-color);\n",
              "    }\n",
              "    80% {\n",
              "      border-color: transparent;\n",
              "      border-right-color: var(--fill-color);\n",
              "      border-bottom-color: var(--fill-color);\n",
              "    }\n",
              "    90% {\n",
              "      border-color: transparent;\n",
              "      border-bottom-color: var(--fill-color);\n",
              "    }\n",
              "  }\n",
              "</style>\n",
              "\n",
              "  <script>\n",
              "    async function quickchart(key) {\n",
              "      const quickchartButtonEl =\n",
              "        document.querySelector('#' + key + ' button');\n",
              "      quickchartButtonEl.disabled = true;  // To prevent multiple clicks.\n",
              "      quickchartButtonEl.classList.add('colab-df-spinner');\n",
              "      try {\n",
              "        const charts = await google.colab.kernel.invokeFunction(\n",
              "            'suggestCharts', [key], {});\n",
              "      } catch (error) {\n",
              "        console.error('Error during call to suggestCharts:', error);\n",
              "      }\n",
              "      quickchartButtonEl.classList.remove('colab-df-spinner');\n",
              "      quickchartButtonEl.classList.add('colab-df-quickchart-complete');\n",
              "    }\n",
              "    (() => {\n",
              "      let quickchartButtonEl =\n",
              "        document.querySelector('#df-d7523ce5-2d63-4ac0-b22f-b5efb6307e88 button');\n",
              "      quickchartButtonEl.style.display =\n",
              "        google.colab.kernel.accessAllowed ? 'block' : 'none';\n",
              "    })();\n",
              "  </script>\n",
              "</div>\n",
              "\n",
              "  <div id=\"id_317306d9-a340-4b79-b9f2-3fca101bbe08\">\n",
              "    <style>\n",
              "      .colab-df-generate {\n",
              "        background-color: #E8F0FE;\n",
              "        border: none;\n",
              "        border-radius: 50%;\n",
              "        cursor: pointer;\n",
              "        display: none;\n",
              "        fill: #1967D2;\n",
              "        height: 32px;\n",
              "        padding: 0 0 0 0;\n",
              "        width: 32px;\n",
              "      }\n",
              "\n",
              "      .colab-df-generate:hover {\n",
              "        background-color: #E2EBFA;\n",
              "        box-shadow: 0px 1px 2px rgba(60, 64, 67, 0.3), 0px 1px 3px 1px rgba(60, 64, 67, 0.15);\n",
              "        fill: #174EA6;\n",
              "      }\n",
              "\n",
              "      [theme=dark] .colab-df-generate {\n",
              "        background-color: #3B4455;\n",
              "        fill: #D2E3FC;\n",
              "      }\n",
              "\n",
              "      [theme=dark] .colab-df-generate:hover {\n",
              "        background-color: #434B5C;\n",
              "        box-shadow: 0px 1px 3px 1px rgba(0, 0, 0, 0.15);\n",
              "        filter: drop-shadow(0px 1px 2px rgba(0, 0, 0, 0.3));\n",
              "        fill: #FFFFFF;\n",
              "      }\n",
              "    </style>\n",
              "    <button class=\"colab-df-generate\" onclick=\"generateWithVariable('iris')\"\n",
              "            title=\"Generate code using this dataframe.\"\n",
              "            style=\"display:none;\">\n",
              "\n",
              "  <svg xmlns=\"http://www.w3.org/2000/svg\" height=\"24px\"viewBox=\"0 0 24 24\"\n",
              "       width=\"24px\">\n",
              "    <path d=\"M7,19H8.4L18.45,9,17,7.55,7,17.6ZM5,21V16.75L18.45,3.32a2,2,0,0,1,2.83,0l1.4,1.43a1.91,1.91,0,0,1,.58,1.4,1.91,1.91,0,0,1-.58,1.4L9.25,21ZM18.45,9,17,7.55Zm-12,3A5.31,5.31,0,0,0,4.9,8.1,5.31,5.31,0,0,0,1,6.5,5.31,5.31,0,0,0,4.9,4.9,5.31,5.31,0,0,0,6.5,1,5.31,5.31,0,0,0,8.1,4.9,5.31,5.31,0,0,0,12,6.5,5.46,5.46,0,0,0,6.5,12Z\"/>\n",
              "  </svg>\n",
              "    </button>\n",
              "    <script>\n",
              "      (() => {\n",
              "      const buttonEl =\n",
              "        document.querySelector('#id_317306d9-a340-4b79-b9f2-3fca101bbe08 button.colab-df-generate');\n",
              "      buttonEl.style.display =\n",
              "        google.colab.kernel.accessAllowed ? 'block' : 'none';\n",
              "\n",
              "      buttonEl.onclick = () => {\n",
              "        google.colab.notebook.generateWithVariable('iris');\n",
              "      }\n",
              "      })();\n",
              "    </script>\n",
              "  </div>\n",
              "\n",
              "    </div>\n",
              "  </div>\n"
            ],
            "application/vnd.google.colaboratory.intrinsic+json": {
              "type": "dataframe",
              "variable_name": "iris",
              "summary": "{\n  \"name\": \"iris\",\n  \"rows\": 150,\n  \"fields\": [\n    {\n      \"column\": \"Sepal_length\",\n      \"properties\": {\n        \"dtype\": \"number\",\n        \"std\": 0.8280661279778629,\n        \"min\": 4.3,\n        \"max\": 7.9,\n        \"num_unique_values\": 35,\n        \"samples\": [\n          6.2,\n          4.5,\n          5.6\n        ],\n        \"semantic_type\": \"\",\n        \"description\": \"\"\n      }\n    },\n    {\n      \"column\": \"Sepal_width\",\n      \"properties\": {\n        \"dtype\": \"number\",\n        \"std\": 0.435866284936698,\n        \"min\": 2.0,\n        \"max\": 4.4,\n        \"num_unique_values\": 23,\n        \"samples\": [\n          2.3,\n          4.0,\n          3.5\n        ],\n        \"semantic_type\": \"\",\n        \"description\": \"\"\n      }\n    },\n    {\n      \"column\": \"Petal_length\",\n      \"properties\": {\n        \"dtype\": \"number\",\n        \"std\": 1.7652982332594667,\n        \"min\": 1.0,\n        \"max\": 6.9,\n        \"num_unique_values\": 43,\n        \"samples\": [\n          6.7,\n          3.8,\n          3.7\n        ],\n        \"semantic_type\": \"\",\n        \"description\": \"\"\n      }\n    },\n    {\n      \"column\": \"Petal_width\",\n      \"properties\": {\n        \"dtype\": \"number\",\n        \"std\": 0.7622376689603465,\n        \"min\": 0.1,\n        \"max\": 2.5,\n        \"num_unique_values\": 22,\n        \"samples\": [\n          0.2,\n          1.2,\n          1.3\n        ],\n        \"semantic_type\": \"\",\n        \"description\": \"\"\n      }\n    }\n  ]\n}"
            }
          },
          "metadata": {},
          "execution_count": 71
        }
      ]
    },
    {
      "cell_type": "code",
      "source": [
        "sns.heatmap(iris.corr(),annot=True)"
      ],
      "metadata": {
        "id": "C77dY3aW7_hz",
        "outputId": "62aff306-37a3-4c82-e57e-48e84100b977",
        "colab": {
          "base_uri": "https://localhost:8080/",
          "height": 452
        }
      },
      "execution_count": 76,
      "outputs": [
        {
          "output_type": "execute_result",
          "data": {
            "text/plain": [
              "<Axes: >"
            ]
          },
          "metadata": {},
          "execution_count": 76
        },
        {
          "output_type": "display_data",
          "data": {
            "text/plain": [
              "<Figure size 640x480 with 2 Axes>"
            ],
            "image/png": "[encoded data removed]"
          },
          "metadata": {}
        }
      ]
    },
    {
      "cell_type": "code",
      "source": [
        "iris.boxplot(vert=False)"
      ],
      "metadata": {
        "id": "oJ8jPMok7vMl",
        "outputId": "dc970e96-48f5-47d9-cf4f-0ec29211e25b",
        "colab": {
          "base_uri": "https://localhost:8080/",
          "height": 447
        }
      },
      "execution_count": 77,
      "outputs": [
        {
          "output_type": "execute_result",
          "data": {
            "text/plain": [
              "<Axes: >"
            ]
          },
          "metadata": {},
          "execution_count": 77
        },
        {
          "output_type": "display_data",
          "data": {
            "text/plain": [
              "<Figure size 640x480 with 1 Axes>"
            ],
            "image/png": "[encoded data removed]"
          },
          "metadata": {}
        }
      ]
    },
    {
      "cell_type": "code",
      "source": [
        "X=iris.iloc[::,:-1]\n",
        "y=iris.iloc[:,-1]\n",
        "print(X.shape,y.shape)"
      ],
      "metadata": {
        "id": "fRPB4VtD75dW",
        "outputId": "f6fa4f22-291e-4fd4-c6dc-23d8c88402dc",
        "colab": {
          "base_uri": "https://localhost:8080/"
        }
      },
      "execution_count": 82,
      "outputs": [
        {
          "output_type": "stream",
          "name": "stdout",
          "text": [
            "(150, 3) (150,)\n"
          ]
        }
      ]
    },
    {
      "cell_type": "code",
      "source": [
        "Scaler=StandardScaler()"
      ],
      "metadata": {
        "id": "Y-5kwxiF9cQ2"
      },
      "execution_count": 83,
      "outputs": []
    },
    {
      "cell_type": "code",
      "source": [
        "X=Scaler.fit_transform(X)"
      ],
      "metadata": {
        "id": "mk1IGSCe95gm"
      },
      "execution_count": 85,
      "outputs": []
    },
    {
      "cell_type": "code",
      "source": [
        "pd.DataFrame(X,columns=iris.columns[:-1]).boxplot(vert=False)"
      ],
      "metadata": {
        "id": "UiA8Iwz2-KVm",
        "outputId": "4b94d83e-7345-45b7-a230-b0a40b4f7cb7",
        "colab": {
          "base_uri": "https://localhost:8080/",
          "height": 447
        }
      },
      "execution_count": 89,
      "outputs": [
        {
          "output_type": "execute_result",
          "data": {
            "text/plain": [
              "<Axes: >"
            ]
          },
          "metadata": {},
          "execution_count": 89
        },
        {
          "output_type": "display_data",
          "data": {
            "text/plain": [
              "<Figure size 640x480 with 1 Axes>"
            ],
            "image/png": "[encoded data removed]"
          },
          "metadata": {}
        }
      ]
    },
    {
      "cell_type": "code",
      "source": [
        "iris_model=Sequential(\n",
        "    [\n",
        "        Dense(units=32,activation='relu',input_shape=(X.shape[1],),name='hidden_1'),\n",
        "        Dense(units=16,activation='relu',name='hidden_2'),\n",
        "        Dense(units=8,activation='relu',name='hidden_3'),\n",
        "        Dense(units=1,name='Output')\n",
        "    ]\n",
        ")\n",
        "\n",
        "iris_model.compile(\n",
        "    optimizer=tf.keras.optimizers.Adam(learning_rate=0.01),\n",
        "    loss=tf.keras.losses.MeanSquaredError(),\n",
        "    metrics=[tf.keras.metrics.R2Score()]\n",
        ")"
      ],
      "metadata": {
        "id": "TMK3uZHq-NKl",
        "outputId": "2baeda60-fe53-42b7-c89c-364289abc312",
        "colab": {
          "base_uri": "https://localhost:8080/"
        }
      },
      "execution_count": 102,
      "outputs": [
        {
          "output_type": "stream",
          "name": "stderr",
          "text": [
            "/usr/local/lib/python3.11/dist-packages/keras/src/layers/core/dense.py:87: UserWarning: Do not pass an `input_shape`/`input_dim` argument to a layer. When using Sequential models, prefer using an `Input(shape)` object as the first layer in the model instead.\n",
            "  super().__init__(activity_regularizer=activity_regularizer, **kwargs)\n"
          ]
        }
      ]
    },
    {
      "cell_type": "code",
      "source": [
        "iris_model.summary()"
      ],
      "metadata": {
        "id": "hJKNzR5QB_aX",
        "outputId": "972dd36b-7f2c-4417-bce8-cdedda92dde6",
        "colab": {
          "base_uri": "https://localhost:8080/",
          "height": 257
        }
      },
      "execution_count": 103,
      "outputs": [
        {
          "output_type": "display_data",
          "data": {
            "text/plain": [
              "\u001b[1mModel: \"sequential_11\"\u001b[0m\n"
            ],
            "text/html": [
              "<pre style=\"white-space:pre;overflow-x:auto;line-height:normal;font-family:Menlo,'DejaVu Sans Mono',consolas,'Courier New',monospace\"><span style=\"font-weight: bold\">Model: \"sequential_11\"</span>\n",
              "</pre>\n"
            ]
          },
          "metadata": {}
        },
        {
          "output_type": "display_data",
          "data": {
            "text/plain": [
              "┏━━━━━━━━━━━━━━━━━━━━━━━━━━━━━━━━━━━━━━┳━━━━━━━━━━━━━━━━━━━━━━━━━━━━━┳━━━━━━━━━━━━━━━━━┓\n",
              "┃\u001b[1m \u001b[0m\u001b[1mLayer (type)                        \u001b[0m\u001b[1m \u001b[0m┃\u001b[1m \u001b[0m\u001b[1mOutput Shape               \u001b[0m\u001b[1m \u001b[0m┃\u001b[1m \u001b[0m\u001b[1m        Param #\u001b[0m\u001b[1m \u001b[0m┃\n",
              "┡━━━━━━━━━━━━━━━━━━━━━━━━━━━━━━━━━━━━━━╇━━━━━━━━━━━━━━━━━━━━━━━━━━━━━╇━━━━━━━━━━━━━━━━━┩\n",
              "│ hidden_1 (\u001b[38;5;33mDense\u001b[0m)                     │ (\u001b[38;5;45mNone\u001b[0m, \u001b[38;5;34m32\u001b[0m)                  │             \u001b[38;5;34m128\u001b[0m │\n",
              "├──────────────────────────────────────┼─────────────────────────────┼─────────────────┤\n",
              "│ hidden_2 (\u001b[38;5;33mDense\u001b[0m)                     │ (\u001b[38;5;45mNone\u001b[0m, \u001b[38;5;34m16\u001b[0m)                  │             \u001b[38;5;34m528\u001b[0m │\n",
              "├──────────────────────────────────────┼─────────────────────────────┼─────────────────┤\n",
              "│ hidden_3 (\u001b[38;5;33mDense\u001b[0m)                     │ (\u001b[38;5;45mNone\u001b[0m, \u001b[38;5;34m8\u001b[0m)                   │             \u001b[38;5;34m136\u001b[0m │\n",
              "├──────────────────────────────────────┼─────────────────────────────┼─────────────────┤\n",
              "│ Output (\u001b[38;5;33mDense\u001b[0m)                       │ (\u001b[38;5;45mNone\u001b[0m, \u001b[38;5;34m1\u001b[0m)                   │               \u001b[38;5;34m9\u001b[0m │\n",
              "└──────────────────────────────────────┴─────────────────────────────┴─────────────────┘\n"
            ],
            "text/html": [
              "<pre style=\"white-space:pre;overflow-x:auto;line-height:normal;font-family:Menlo,'DejaVu Sans Mono',consolas,'Courier New',monospace\">┏━━━━━━━━━━━━━━━━━━━━━━━━━━━━━━━━━━━━━━┳━━━━━━━━━━━━━━━━━━━━━━━━━━━━━┳━━━━━━━━━━━━━━━━━┓\n",
              "┃<span style=\"font-weight: bold\"> Layer (type)                         </span>┃<span style=\"font-weight: bold\"> Output Shape                </span>┃<span style=\"font-weight: bold\">         Param # </span>┃\n",
              "┡━━━━━━━━━━━━━━━━━━━━━━━━━━━━━━━━━━━━━━╇━━━━━━━━━━━━━━━━━━━━━━━━━━━━━╇━━━━━━━━━━━━━━━━━┩\n",
              "│ hidden_1 (<span style=\"color: #0087ff; text-decoration-color: #0087ff\">Dense</span>)                     │ (<span style=\"color: #00d7ff; text-decoration-color: #00d7ff\">None</span>, <span style=\"color: #00af00; text-decoration-color: #00af00\">32</span>)                  │             <span style=\"color: #00af00; text-decoration-color: #00af00\">128</span> │\n",
              "├──────────────────────────────────────┼─────────────────────────────┼─────────────────┤\n",
              "│ hidden_2 (<span style=\"color: #0087ff; text-decoration-color: #0087ff\">Dense</span>)                     │ (<span style=\"color: #00d7ff; text-decoration-color: #00d7ff\">None</span>, <span style=\"color: #00af00; text-decoration-color: #00af00\">16</span>)                  │             <span style=\"color: #00af00; text-decoration-color: #00af00\">528</span> │\n",
              "├──────────────────────────────────────┼─────────────────────────────┼─────────────────┤\n",
              "│ hidden_3 (<span style=\"color: #0087ff; text-decoration-color: #0087ff\">Dense</span>)                     │ (<span style=\"color: #00d7ff; text-decoration-color: #00d7ff\">None</span>, <span style=\"color: #00af00; text-decoration-color: #00af00\">8</span>)                   │             <span style=\"color: #00af00; text-decoration-color: #00af00\">136</span> │\n",
              "├──────────────────────────────────────┼─────────────────────────────┼─────────────────┤\n",
              "│ Output (<span style=\"color: #0087ff; text-decoration-color: #0087ff\">Dense</span>)                       │ (<span style=\"color: #00d7ff; text-decoration-color: #00d7ff\">None</span>, <span style=\"color: #00af00; text-decoration-color: #00af00\">1</span>)                   │               <span style=\"color: #00af00; text-decoration-color: #00af00\">9</span> │\n",
              "└──────────────────────────────────────┴─────────────────────────────┴─────────────────┘\n",
              "</pre>\n"
            ]
          },
          "metadata": {}
        },
        {
          "output_type": "display_data",
          "data": {
            "text/plain": [
              "\u001b[1m Total params: \u001b[0m\u001b[38;5;34m801\u001b[0m (3.13 KB)\n"
            ],
            "text/html": [
              "<pre style=\"white-space:pre;overflow-x:auto;line-height:normal;font-family:Menlo,'DejaVu Sans Mono',consolas,'Courier New',monospace\"><span style=\"font-weight: bold\"> Total params: </span><span style=\"color: #00af00; text-decoration-color: #00af00\">801</span> (3.13 KB)\n",
              "</pre>\n"
            ]
          },
          "metadata": {}
        },
        {
          "output_type": "display_data",
          "data": {
            "text/plain": [
              "\u001b[1m Trainable params: \u001b[0m\u001b[38;5;34m801\u001b[0m (3.13 KB)\n"
            ],
            "text/html": [
              "<pre style=\"white-space:pre;overflow-x:auto;line-height:normal;font-family:Menlo,'DejaVu Sans Mono',consolas,'Courier New',monospace\"><span style=\"font-weight: bold\"> Trainable params: </span><span style=\"color: #00af00; text-decoration-color: #00af00\">801</span> (3.13 KB)\n",
              "</pre>\n"
            ]
          },
          "metadata": {}
        },
        {
          "output_type": "display_data",
          "data": {
            "text/plain": [
              "\u001b[1m Non-trainable params: \u001b[0m\u001b[38;5;34m0\u001b[0m (0.00 B)\n"
            ],
            "text/html": [
              "<pre style=\"white-space:pre;overflow-x:auto;line-height:normal;font-family:Menlo,'DejaVu Sans Mono',consolas,'Courier New',monospace\"><span style=\"font-weight: bold\"> Non-trainable params: </span><span style=\"color: #00af00; text-decoration-color: #00af00\">0</span> (0.00 B)\n",
              "</pre>\n"
            ]
          },
          "metadata": {}
        }
      ]
    },
    {
      "cell_type": "code",
      "source": [
        "iris_model.fit(X,y,epochs=20,verbose=1)"
      ],
      "metadata": {
        "id": "mAhFoxvbCRdm",
        "outputId": "4c28347d-1407-4e7e-c8f7-02ec48c7edad",
        "colab": {
          "base_uri": "https://localhost:8080/"
        }
      },
      "execution_count": 104,
      "outputs": [
        {
          "output_type": "stream",
          "name": "stdout",
          "text": [
            "Epoch 1/20\n",
            "\u001b[1m5/5\u001b[0m \u001b[32m━━━━━━━━━━━━━━━━━━━━\u001b[0m\u001b[37m\u001b[0m \u001b[1m2s\u001b[0m 11ms/step - loss: 2.7457 - r2_score: -4.7596\n",
            "Epoch 2/20\n",
            "\u001b[1m5/5\u001b[0m \u001b[32m━━━━━━━━━━━━━━━━━━━━\u001b[0m\u001b[37m\u001b[0m \u001b[1m0s\u001b[0m 8ms/step - loss: 0.9715 - r2_score: -0.6692 \n",
            "Epoch 3/20\n",
            "\u001b[1m5/5\u001b[0m \u001b[32m━━━━━━━━━━━━━━━━━━━━\u001b[0m\u001b[37m\u001b[0m \u001b[1m0s\u001b[0m 10ms/step - loss: 0.3896 - r2_score: 0.3413\n",
            "Epoch 4/20\n",
            "\u001b[1m5/5\u001b[0m \u001b[32m━━━━━━━━━━━━━━━━━━━━\u001b[0m\u001b[37m\u001b[0m \u001b[1m0s\u001b[0m 8ms/step - loss: 0.3743 - r2_score: 0.3781 \n",
            "Epoch 5/20\n",
            "\u001b[1m5/5\u001b[0m \u001b[32m━━━━━━━━━━━━━━━━━━━━\u001b[0m\u001b[37m\u001b[0m \u001b[1m0s\u001b[0m 8ms/step - loss: 0.1734 - r2_score: 0.6764 \n",
            "Epoch 6/20\n",
            "\u001b[1m5/5\u001b[0m \u001b[32m━━━━━━━━━━━━━━━━━━━━\u001b[0m\u001b[37m\u001b[0m \u001b[1m0s\u001b[0m 8ms/step - loss: 0.1504 - r2_score: 0.7402 \n",
            "Epoch 7/20\n",
            "\u001b[1m5/5\u001b[0m \u001b[32m━━━━━━━━━━━━━━━━━━━━\u001b[0m\u001b[37m\u001b[0m \u001b[1m0s\u001b[0m 8ms/step - loss: 0.1126 - r2_score: 0.8049 \n",
            "Epoch 8/20\n",
            "\u001b[1m5/5\u001b[0m \u001b[32m━━━━━━━━━━━━━━━━━━━━\u001b[0m\u001b[37m\u001b[0m \u001b[1m0s\u001b[0m 8ms/step - loss: 0.0837 - r2_score: 0.8458  \n",
            "Epoch 9/20\n",
            "\u001b[1m5/5\u001b[0m \u001b[32m━━━━━━━━━━━━━━━━━━━━\u001b[0m\u001b[37m\u001b[0m \u001b[1m0s\u001b[0m 10ms/step - loss: 0.0976 - r2_score: 0.8262\n",
            "Epoch 10/20\n",
            "\u001b[1m5/5\u001b[0m \u001b[32m━━━━━━━━━━━━━━━━━━━━\u001b[0m\u001b[37m\u001b[0m \u001b[1m0s\u001b[0m 8ms/step - loss: 0.0737 - r2_score: 0.8685 \n",
            "Epoch 11/20\n",
            "\u001b[1m5/5\u001b[0m \u001b[32m━━━━━━━━━━━━━━━━━━━━\u001b[0m\u001b[37m\u001b[0m \u001b[1m0s\u001b[0m 8ms/step - loss: 0.0587 - r2_score: 0.9028 \n",
            "Epoch 12/20\n",
            "\u001b[1m5/5\u001b[0m \u001b[32m━━━━━━━━━━━━━━━━━━━━\u001b[0m\u001b[37m\u001b[0m \u001b[1m0s\u001b[0m 8ms/step - loss: 0.0509 - r2_score: 0.9071 \n",
            "Epoch 13/20\n",
            "\u001b[1m5/5\u001b[0m \u001b[32m━━━━━━━━━━━━━━━━━━━━\u001b[0m\u001b[37m\u001b[0m \u001b[1m0s\u001b[0m 8ms/step - loss: 0.0375 - r2_score: 0.9372 \n",
            "Epoch 14/20\n",
            "\u001b[1m5/5\u001b[0m \u001b[32m━━━━━━━━━━━━━━━━━━━━\u001b[0m\u001b[37m\u001b[0m \u001b[1m0s\u001b[0m 8ms/step - loss: 0.0404 - r2_score: 0.9314 \n",
            "Epoch 15/20\n",
            "\u001b[1m5/5\u001b[0m \u001b[32m━━━━━━━━━━━━━━━━━━━━\u001b[0m\u001b[37m\u001b[0m \u001b[1m0s\u001b[0m 8ms/step - loss: 0.0339 - r2_score: 0.9410  \n",
            "Epoch 16/20\n",
            "\u001b[1m5/5\u001b[0m \u001b[32m━━━━━━━━━━━━━━━━━━━━\u001b[0m\u001b[37m\u001b[0m \u001b[1m0s\u001b[0m 11ms/step - loss: 0.0287 - r2_score: 0.9510\n",
            "Epoch 17/20\n",
            "\u001b[1m5/5\u001b[0m \u001b[32m━━━━━━━━━━━━━━━━━━━━\u001b[0m\u001b[37m\u001b[0m \u001b[1m0s\u001b[0m 8ms/step - loss: 0.0323 - r2_score: 0.9439 \n",
            "Epoch 18/20\n",
            "\u001b[1m5/5\u001b[0m \u001b[32m━━━━━━━━━━━━━━━━━━━━\u001b[0m\u001b[37m\u001b[0m \u001b[1m0s\u001b[0m 8ms/step - loss: 0.0373 - r2_score: 0.9326 \n",
            "Epoch 19/20\n",
            "\u001b[1m5/5\u001b[0m \u001b[32m━━━━━━━━━━━━━━━━━━━━\u001b[0m\u001b[37m\u001b[0m \u001b[1m0s\u001b[0m 8ms/step - loss: 0.0284 - r2_score: 0.9515 \n",
            "Epoch 20/20\n",
            "\u001b[1m5/5\u001b[0m \u001b[32m━━━━━━━━━━━━━━━━━━━━\u001b[0m\u001b[37m\u001b[0m \u001b[1m0s\u001b[0m 8ms/step - loss: 0.0317 - r2_score: 0.9440 \n"
          ]
        },
        {
          "output_type": "execute_result",
          "data": {
            "text/plain": [
              "<keras.src.callbacks.history.History at 0x7bda7a3ebe50>"
            ]
          },
          "metadata": {},
          "execution_count": 104
        }
      ]
    },
    {
      "cell_type": "code",
      "source": [
        "iris_model.__dict__.keys()"
      ],
      "metadata": {
        "id": "fIynJgVIDACX",
        "outputId": "e2b9097d-df0b-4535-d048-4f6cadbf3b26",
        "colab": {
          "base_uri": "https://localhost:8080/"
        }
      },
      "execution_count": 100,
      "outputs": [
        {
          "output_type": "execute_result",
          "data": {
            "text/plain": [
              "dict_keys(['_tracker', '_self_setattr_tracking', '_trainable_variables', '_non_trainable_variables', '_layers', '_metrics', '_seed_generators', '_lock', '_auto_config', 'build', 'quantize', '_run_eagerly', '_jit_compile', 'compiled', 'loss', 'steps_per_execution', '_initial_epoch', '_compute_loss_has_training_arg', '_compile_loss', '_compile_metrics', '_loss_tracker', 'train_function', 'test_function', 'predict_function', 'unrolled_steps_per_execution', '_distribute_strategy', '_saved_model_inputs_spec', '_saved_model_arg_spec', '_tracked', '_dtype_policy', 'name', '_inbound_nodes', '_outbound_nodes', 'activity_regularizer', '_path', 'built', 'autocast', '_input_spec', '_called', 'supports_jit', '_trainable', '_losses', '_loss_ids', '_losses_override', '_call_signature', '_call_has_training_arg', '_call_has_mask_arg', '_supports_masking', '_convert_input_args', '_allow_non_tensor_positional_args', '_build_shapes_dict', '_parent_path', '_functional', '_self_unconditional_checkpoint_dependencies', '_self_unconditional_dependency_names', '_self_unconditional_deferred_dependencies', '_self_update_uid', '_self_name_based_restores', '_self_saveable_object_factories', 'optimizer', 'stop_training', '_compile_config', '_eval_epoch_iterator', 'history'])"
            ]
          },
          "metadata": {},
          "execution_count": 100
        }
      ]
    },
    {
      "cell_type": "code",
      "source": [
        "iris_model.history.keys()"
      ],
      "metadata": {
        "id": "atjWLrZSDMH2",
        "outputId": "c16ccbff-fc25-4887-f167-37de06eba9ee",
        "colab": {
          "base_uri": "https://localhost:8080/",
          "height": 141
        }
      },
      "execution_count": 105,
      "outputs": [
        {
          "output_type": "error",
          "ename": "AttributeError",
          "evalue": "'History' object has no attribute 'keys'",
          "traceback": [
            "\u001b[0;31m---------------------------------------------------------------------------\u001b[0m",
            "\u001b[0;31mAttributeError\u001b[0m                            Traceback (most recent call last)",
            "\u001b[0;32m<ipython-input-105-dc5943bb13ce>\u001b[0m in \u001b[0;36m<cell line: 0>\u001b[0;34m()\u001b[0m\n\u001b[0;32m----> 1\u001b[0;31m \u001b[0miris_model\u001b[0m\u001b[0;34m.\u001b[0m\u001b[0mhistory\u001b[0m\u001b[0;34m.\u001b[0m\u001b[0mkeys\u001b[0m\u001b[0;34m(\u001b[0m\u001b[0;34m)\u001b[0m\u001b[0;34m\u001b[0m\u001b[0;34m\u001b[0m\u001b[0m\n\u001b[0m",
            "\u001b[0;31mAttributeError\u001b[0m: 'History' object has no attribute 'keys'"
          ]
        }
      ]
    },
    {
      "cell_type": "code",
      "source": [],
      "metadata": {
        "id": "nDamVSNLDcxX"
      },
      "execution_count": null,
      "outputs": []
    }
  ]
}